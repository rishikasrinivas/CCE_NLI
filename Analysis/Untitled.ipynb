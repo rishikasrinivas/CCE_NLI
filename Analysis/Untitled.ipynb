{
 "cells": [
  {
   "cell_type": "code",
   "execution_count": 4,
   "id": "db290378",
   "metadata": {},
   "outputs": [],
   "source": [
    "import concept_getters\n",
    "import cleaning"
   ]
  },
  {
   "cell_type": "code",
   "execution_count": 9,
   "id": "470fbbdb",
   "metadata": {},
   "outputs": [
    {
     "data": {
      "text/plain": [
       "0.41310996330486405"
      ]
     },
     "execution_count": 9,
     "metadata": {},
     "output_type": "execute_result"
    }
   ],
   "source": [
    "f = \"Expls0.5%Pruned/AfterFT/Cluster4IOUS1024N.csv\"\n",
    "\n",
    "df = cleaning.prep(f)\n",
    "concept_getters.get_avg_iou(df.best_iou)"
   ]
  },
  {
   "cell_type": "code",
   "execution_count": null,
   "id": "f927eacd",
   "metadata": {},
   "outputs": [],
   "source": []
  }
 ],
 "metadata": {
  "kernelspec": {
   "display_name": "Python 3 (ipykernel)",
   "language": "python",
   "name": "python3"
  },
  "language_info": {
   "codemirror_mode": {
    "name": "ipython",
    "version": 3
   },
   "file_extension": ".py",
   "mimetype": "text/x-python",
   "name": "python",
   "nbconvert_exporter": "python",
   "pygments_lexer": "ipython3",
   "version": "3.8.10"
  }
 },
 "nbformat": 4,
 "nbformat_minor": 5
}
