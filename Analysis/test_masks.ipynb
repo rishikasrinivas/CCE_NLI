{
 "cells": [
  {
   "cell_type": "code",
   "execution_count": 4,
   "id": "3ec70a0d",
   "metadata": {},
   "outputs": [
    {
     "data": {
      "text/plain": [
       "tensor([False, False, False,  ...,  True, False, False])"
      ]
     },
     "execution_count": 4,
     "metadata": {},
     "output_type": "execute_result"
    }
   ],
   "source": [
    "import torch\n",
    "import os\n",
    "torch.load(\"../code/Masks/Cluster1/SentPair9986sMask.pt\")"
   ]
  },
  {
   "cell_type": "code",
   "execution_count": 6,
   "id": "aec1d97b",
   "metadata": {},
   "outputs": [
    {
     "data": {
      "text/plain": [
       "1342"
      ]
     },
     "execution_count": 6,
     "metadata": {},
     "output_type": "execute_result"
    }
   ],
   "source": [
    "import pandas as pd\n",
    "c1_np = pd.read_csv(\"Cluster4_noprune.csv\")\n",
    "c1_p = pd.read_csv(\"Cluster1_pruned.csv\")\n",
    "\n",
    "len(c1_np.columns)"
   ]
  },
  {
   "cell_type": "code",
   "execution_count": 9,
   "id": "e241a287",
   "metadata": {},
   "outputs": [
    {
     "data": {
      "text/plain": [
       "torch.Size([10000, 1024])"
      ]
     },
     "execution_count": 9,
     "metadata": {},
     "output_type": "execute_result"
    }
   ],
   "source": [
    "act_masks.shape"
   ]
  },
  {
   "cell_type": "code",
   "execution_count": null,
   "id": "826fe89e",
   "metadata": {},
   "outputs": [],
   "source": []
  }
 ],
 "metadata": {
  "kernelspec": {
   "display_name": "Python 3 (ipykernel)",
   "language": "python",
   "name": "python3"
  },
  "language_info": {
   "codemirror_mode": {
    "name": "ipython",
    "version": 3
   },
   "file_extension": ".py",
   "mimetype": "text/x-python",
   "name": "python",
   "nbconvert_exporter": "python",
   "pygments_lexer": "ipython3",
   "version": "3.8.10"
  }
 },
 "nbformat": 4,
 "nbformat_minor": 5
}
