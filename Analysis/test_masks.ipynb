{
 "cells": [
  {
   "cell_type": "code",
   "execution_count": 4,
   "id": "374690c0",
   "metadata": {},
   "outputs": [
    {
     "data": {
      "text/plain": [
       "tensor([False, False, False,  ...,  True, False, False])"
      ]
     },
     "execution_count": 4,
     "metadata": {},
     "output_type": "execute_result"
    }
   ],
   "source": [
    "import torch\n",
    "import os\n",
    "torch.load(\"../code/Masks/Cluster1/SentPair9986sMask.pt\")"
   ]
  },
  {
   "cell_type": "code",
   "execution_count": 1,
   "id": "b9979e9b",
   "metadata": {},
   "outputs": [
    {
     "name": "stdout",
     "output_type": "stream",
     "text": [
      "5\n"
     ]
    }
   ],
   "source": [
    "if type(5) == float:\n",
    "    print(5)"
   ]
  },
  {
   "cell_type": "code",
   "execution_count": 13,
   "id": "bd167e13",
   "metadata": {},
   "outputs": [
    {
     "data": {
      "text/plain": [
       "1207"
      ]
     },
     "execution_count": 13,
     "metadata": {},
     "output_type": "execute_result"
    }
   ],
   "source": [
    "import pandas as pd\n",
    "c1_np = pd.read_csv(\"Cluster1_noprune.csv\")\n",
    "c1_p = pd.read_csv(\"Cluster1_pruned.csv\")\n",
    "\n",
    "len(c1_np.columns)"
   ]
  },
  {
   "cell_type": "code",
   "execution_count": 4,
   "id": "1e2999d0",
   "metadata": {},
   "outputs": [
    {
     "data": {
      "text/plain": [
       "[2, 6]"
      ]
     },
     "execution_count": 4,
     "metadata": {},
     "output_type": "execute_result"
    }
   ],
   "source": [
    "d={1:2,4:6}\n",
    "list(d.values())"
   ]
  },
  {
   "cell_type": "code",
   "execution_count": 9,
   "id": "d8cddd3c",
   "metadata": {},
   "outputs": [],
   "source": [
    "b= {'Cluster1': {'(hyp:tok:nobody OR hyp:tok:sleeping)', '(NOT pre:tok:water)', '(oth:overlap:overlap25 OR pre:tok:man)', '((NOT hyp:tok:at) AND oth:overlap:overlap25)', '(NOT hyp:tok:down)', '((hyp:tok:for OR hyp:tok:to) OR hyp:tok:tall)', '(NOT pre:tok:for)', '(hyp:tok:in OR pre:tok:woman)', '(NOT pre:tok:black)', '((NOT oth:overlap:overlap50) AND (pre:tok:in OR pre:tok:woman))', '(hyp:tok:her OR oth:overlap:overlap75)', '(hyp:tok:is OR pre:tok:man)', '(NOT hyp:tok:and)', '(oth:overlap:overlap50 OR pre:tok:shirt)', '(NOT hyp:tok:wearing)', '((NOT oth:overlap:overlap50) AND hyp:tok:in)', '(pre:tok:in OR pre:tok:woman)', '((NOT pre:tok:to) AND (hyp:tok:for OR hyp:tok:to))', '((NOT oth:overlap:overlap50) AND hyp:tok:is)', '(hyp:tok:nobody OR oth:overlap:overlap75)', '((NOT oth:overlap:overlap50) AND (hyp:tok:at OR hyp:tok:in))', '((NOT oth:overlap:overlap50) AND (hyp:tok:is OR pre:tok:man))'}, 'Cluster2': {'(hyp:tok:there OR oth:overlap:overlap75)', '((hyp:tok:there OR oth:overlap:overlap75) OR hyp:tok:outdoors)', '(hyp:tok:is OR oth:overlap:overlap25)', '((NOT pre:tok:on) AND hyp:tok:sleeping)', '(hyp:tok:his OR hyp:tok:to)', '(hyp:tok:outdoors OR hyp:tok:people)', '(((hyp:tok:there OR oth:overlap:overlap50) OR hyp:tok:outside) OR hyp:tok:outdoors)', '(hyp:tok:to OR pre:tok:in)', '((NOT oth:overlap:overlap25) AND pre:tok:in)', '(((hyp:tok:outside OR oth:overlap:overlap50) OR hyp:tok:there) OR hyp:tok:near)', '(hyp:tok:his OR hyp:tok:in)', '(hyp:tok:in OR pre:tok:man)', '(NOT hyp:tok:dog)', '((NOT hyp:tok:sitting) AND (oth:overlap:overlap25 OR pre:tok:in))', '(((NOT oth:overlap:overlap50) AND (pre:tok:in OR pre:tok:on)) OR hyp:tok:eating)', '(((NOT oth:overlap:overlap50) AND (hyp:tok:is OR pre:tok:in)) AND (NOT hyp:tok:to))', '(NOT pre:tok:girls)', '((hyp:tok:for OR hyp:tok:to) OR hyp:tok:at)', '(NOT hyp:tok:her)', '((hyp:tok:for OR hyp:tok:to) OR hyp:tok:after)', '((((NOT oth:overlap:overlap50) AND (pre:tok:in OR pre:tok:on)) OR hyp:tok:eating) AND (NOT hyp:tok:outside))', '((NOT oth:overlap:overlap75) AND (oth:overlap:overlap25 OR pre:tok:in))', '((NOT oth:overlap:overlap50) AND (pre:tok:in OR pre:tok:on))', '(NOT pre:tok:pool)', '((hyp:tok:for OR hyp:tok:to) OR hyp:tok:he)', '(hyp:tok:is OR hyp:tok:they)', '(hyp:tok:for OR hyp:tok:friends)', '((((hyp:tok:there OR oth:overlap:overlap50) OR hyp:tok:outside) OR hyp:tok:outdoors) AND (NOT hyp:tok:his))', '(hyp:tok:is AND hyp:tok:sleeping)', '(NOT hyp:tok:boy)', '((oth:overlap:overlap25 OR pre:tok:in) OR hyp:tok:are)'}, 'Cluster3': {'(((hyp:tok:there OR oth:overlap:overlap50) OR hyp:tok:outdoors) OR hyp:tok:outside)', '(NOT pre:tok:girl)', '(NOT hyp:tok:person)', '((NOT hyp:tok:in) AND oth:overlap:overlap50)', '((hyp:tok:outside OR hyp:tok:there) OR hyp:tok:outdoors)', '((hyp:tok:for OR hyp:tok:to) OR hyp:tok:her)', '(NOT hyp:tok:two)', '((NOT oth:overlap:overlap25) AND pre:tok:in)', '(NOT pre:tok:standing)', '(NOT hyp:tok:men)', '(hyp:tok:for OR hyp:tok:outside)', '((NOT pre:tok:for) AND hyp:tok:for)', '(((NOT pre:tok:for) AND hyp:tok:for) OR hyp:tok:tall)', '(NOT hyp:tok:playing)', '(NOT pre:tok:while)', '(NOT hyp:tok:man)', '(((hyp:tok:for OR hyp:tok:to) OR hyp:tok:her) OR hyp:tok:his)', '(NOT pre:tok:wearing)', '((NOT hyp:tok:to) AND oth:overlap:overlap50)', '(NOT pre:tok:group)', '(((hyp:tok:people OR oth:overlap:overlap75) OR hyp:tok:outdoors) AND (NOT hyp:tok:to))', '(hyp:tok:are OR hyp:tok:is)', '(hyp:tok:outside OR hyp:tok:there)', '(NOT pre:tok:background)', '(((NOT oth:overlap:overlap50) AND (hyp:tok:is OR pre:tok:in)) AND (NOT hyp:tok:outside))', '(hyp:tok:asleep OR hyp:tok:sleeping)', '((hyp:tok:people OR oth:overlap:overlap75) OR hyp:tok:outdoors)', '((NOT oth:overlap:overlap50) AND (hyp:tok:are OR hyp:tok:is))', '(NOT pre:tok:boy)', '((hyp:tok:alone OR hyp:tok:sleeping) OR hyp:tok:nobody)'}, 'Cluster4': {'(((NOT oth:overlap:overlap50) AND (hyp:tok:is OR pre:tok:in)) AND (NOT hyp:tok:outside))', '(NOT hyp:tok:man)', '(hyp:tok:is OR pre:tok:in)', '(hyp:tok:there OR oth:overlap:overlap50)', '(NOT pre:tok:running)', '(NOT pre:tok:young)', '(NOT pre:tok:sits)', '(NOT pre:tok:at)', '(hyp:tok:surgery AND pre:tok:men)', '((NOT oth:overlap:overlap50) AND (hyp:tok:is OR pre:tok:in))', '(NOT pre:tok:down)', '(NOT hyp:tok:with)'}}\n",
    "a= {'Cluster1': {'(NOT hyp:tok:and)', '(NOT hyp:tok:wearing)', '(hyp:tok:in OR pre:tok:woman)', '(NOT pre:tok:for)', '((hyp:tok:for OR hyp:tok:to) OR hyp:tok:tall)', '(NOT hyp:tok:down)', '((NOT pre:tok:to) AND (hyp:tok:for OR hyp:tok:to))', '(oth:overlap:overlap25 OR pre:tok:man)', '((NOT oth:overlap:overlap50) AND (hyp:tok:is OR pre:tok:man))', '((NOT oth:overlap:overlap50) AND hyp:tok:in)', '(NOT pre:tok:water)', '(hyp:tok:is OR pre:tok:man)', '(oth:overlap:overlap50 OR pre:tok:shirt)', '(hyp:tok:nobody OR oth:overlap:overlap75)', '((NOT hyp:tok:at) AND oth:overlap:overlap25)', '((NOT oth:overlap:overlap50) AND (hyp:tok:at OR hyp:tok:in))', '((NOT oth:overlap:overlap50) AND hyp:tok:is)', '(pre:tok:in OR pre:tok:woman)', '((NOT oth:overlap:overlap50) AND (pre:tok:in OR pre:tok:woman))', '(hyp:tok:her OR oth:overlap:overlap75)', '(hyp:tok:nobody OR hyp:tok:sleeping)', '(NOT pre:tok:black)'}, 'Cluster2': {'((((hyp:tok:there OR oth:overlap:overlap50) OR hyp:tok:outside) OR hyp:tok:outdoors) AND (NOT hyp:tok:his))', '((hyp:tok:there OR oth:overlap:overlap75) OR hyp:tok:outdoors)', '(NOT pre:tok:girls)', '(NOT hyp:tok:dog)', '(((NOT oth:overlap:overlap50) AND (hyp:tok:is OR pre:tok:in)) AND (NOT hyp:tok:to))', '(NOT pre:tok:pool)', '(((NOT oth:overlap:overlap50) AND (pre:tok:in OR pre:tok:on)) OR hyp:tok:eating)', '(hyp:tok:to OR pre:tok:in)', '(hyp:tok:is OR hyp:tok:they)', '(hyp:tok:is OR oth:overlap:overlap25)', '(hyp:tok:is AND hyp:tok:sleeping)', '((NOT hyp:tok:sitting) AND (oth:overlap:overlap25 OR pre:tok:in))', '((NOT oth:overlap:overlap25) AND pre:tok:in)', '((oth:overlap:overlap25 OR pre:tok:in) OR hyp:tok:are)', '(NOT hyp:tok:her)', '(hyp:tok:there OR oth:overlap:overlap75)', '(hyp:tok:his OR hyp:tok:to)', '((hyp:tok:for OR hyp:tok:to) OR hyp:tok:after)', '((((NOT oth:overlap:overlap50) AND (pre:tok:in OR pre:tok:on)) OR hyp:tok:eating) AND (NOT hyp:tok:outside))', '(NOT hyp:tok:boy)', '(((hyp:tok:outside OR oth:overlap:overlap50) OR hyp:tok:there) OR hyp:tok:near)', '(hyp:tok:outdoors OR hyp:tok:people)', '(hyp:tok:in OR pre:tok:man)', '((NOT oth:overlap:overlap75) AND (oth:overlap:overlap25 OR pre:tok:in))', '((NOT oth:overlap:overlap50) AND (pre:tok:in OR pre:tok:on))', '((NOT pre:tok:on) AND hyp:tok:sleeping)', '(((hyp:tok:there OR oth:overlap:overlap50) OR hyp:tok:outside) OR hyp:tok:outdoors)', '(hyp:tok:his OR hyp:tok:in)', '((hyp:tok:for OR hyp:tok:to) OR hyp:tok:at)', '(hyp:tok:for OR hyp:tok:friends)', '((hyp:tok:for OR hyp:tok:to) OR hyp:tok:he)'}, 'Cluster3': {'((hyp:tok:for OR hyp:tok:to) OR hyp:tok:her)', '(((NOT oth:overlap:overlap50) AND (hyp:tok:is OR pre:tok:in)) AND (NOT hyp:tok:outside))', '(NOT hyp:tok:man)', '(((hyp:tok:for OR hyp:tok:to) OR hyp:tok:her) OR hyp:tok:his)', '(NOT hyp:tok:two)', '((NOT oth:overlap:overlap50) AND (hyp:tok:are OR hyp:tok:is))', '((NOT hyp:tok:in) AND oth:overlap:overlap50)', '(NOT pre:tok:boy)', '(NOT pre:tok:wearing)', '((hyp:tok:people OR oth:overlap:overlap75) OR hyp:tok:outdoors)', '(NOT pre:tok:while)', '((NOT pre:tok:for) AND hyp:tok:for)', '(((hyp:tok:people OR oth:overlap:overlap75) OR hyp:tok:outdoors) AND (NOT hyp:tok:to))', '(NOT pre:tok:background)', '(NOT hyp:tok:men)', '((hyp:tok:outside OR hyp:tok:there) OR hyp:tok:outdoors)', '(NOT hyp:tok:playing)', '((NOT oth:overlap:overlap25) AND pre:tok:in)', '(((hyp:tok:there OR oth:overlap:overlap50) OR hyp:tok:outdoors) OR hyp:tok:outside)', '((NOT hyp:tok:to) AND oth:overlap:overlap50)', '(hyp:tok:are OR hyp:tok:is)', '(NOT pre:tok:group)', '(NOT hyp:tok:person)', '((hyp:tok:alone OR hyp:tok:sleeping) OR hyp:tok:nobody)', '(NOT pre:tok:girl)', '(hyp:tok:outside OR hyp:tok:there)', '(NOT pre:tok:standing)', '(hyp:tok:for OR hyp:tok:outside)', '(((NOT pre:tok:for) AND hyp:tok:for) OR hyp:tok:tall)', '(hyp:tok:asleep OR hyp:tok:sleeping)'}, 'Cluster4': {'(NOT pre:tok:down)', '(hyp:tok:there OR oth:overlap:overlap50)', '(NOT hyp:tok:with)', '(((NOT oth:overlap:overlap50) AND (hyp:tok:is OR pre:tok:in)) AND (NOT hyp:tok:outside))', '(NOT pre:tok:running)', '(NOT hyp:tok:man)', '(hyp:tok:is OR pre:tok:in)', '(NOT pre:tok:sits)', '((NOT oth:overlap:overlap50) AND (hyp:tok:is OR pre:tok:in))', '(NOT pre:tok:at)', '(hyp:tok:surgery AND pre:tok:men)', '(NOT pre:tok:young)'}}\n"
   ]
  },
  {
   "cell_type": "code",
   "execution_count": null,
   "id": "54f884e1",
   "metadata": {},
   "outputs": [],
   "source": [
    "len(CCE_NLI/Analysis/Cluster1_pruned.csv.)"
   ]
  },
  {
   "cell_type": "code",
   "execution_count": 5,
   "id": "f89d70e5",
   "metadata": {},
   "outputs": [
    {
     "name": "stdout",
     "output_type": "stream",
     "text": [
      "prunedAfter [['Analysis/Expls1.5%Pruned/AfterFT/Cluster1IOUS1024N.csv', 'Analysis/Expls1.5%Pruned/AfterFT/Cluster2IOUS1024N.csv', 'Analysis/Expls1.5%Pruned/AfterFT/Cluster3IOUS1024N.csv', 'Analysis/Expls1.5%Pruned/AfterFT/Cluster4IOUS1024N.csv'], [0, 0]]\n"
     ]
    }
   ],
   "source": [
    "prunedAfterRT_expls = {'prunedAfter': [[\n",
    "        f\"Analysis/Expls1.5%Pruned/AfterFT/Cluster1IOUS1024N.csv\",\n",
    "        f\"Analysis/Expls1.5%Pruned/AfterFT/Cluster2IOUS1024N.csv\",\n",
    "        f\"Analysis/Expls1.5%Pruned/AfterFT/Cluster3IOUS1024N.csv\",\n",
    "        f\"Analysis/Expls1.5%Pruned/AfterFT/Cluster4IOUS1024N.csv\",\n",
    "    ], [0,0]],\n",
    "                      }\n",
    "for p_np, file in prunedAfterRT_expls.items():\n",
    "    print(p_np, file[])"
   ]
  },
  {
   "cell_type": "code",
   "execution_count": null,
   "id": "5801126f",
   "metadata": {},
   "outputs": [],
   "source": []
  }
 ],
 "metadata": {
  "kernelspec": {
   "display_name": "Python 3 (ipykernel)",
   "language": "python",
   "name": "python3"
  },
  "language_info": {
   "codemirror_mode": {
    "name": "ipython",
    "version": 3
   },
   "file_extension": ".py",
   "mimetype": "text/x-python",
   "name": "python",
   "nbconvert_exporter": "python",
   "pygments_lexer": "ipython3",
   "version": "3.8.10"
  }
 },
 "nbformat": 4,
 "nbformat_minor": 5
}
