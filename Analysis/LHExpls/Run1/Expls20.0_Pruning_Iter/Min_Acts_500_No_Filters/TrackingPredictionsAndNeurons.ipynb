{
 "cells": [
  {
   "cell_type": "code",
   "execution_count": 7,
   "id": "8c6ca98e",
   "metadata": {},
   "outputs": [
    {
     "name": "stdout",
     "output_type": "stream",
     "text": [
      "\n"
     ]
    }
   ],
   "source": [
    "import pandas as pd\n",
    "cluster=3\n",
    "fold=\"Min_Acts_500_No_Filters\" #No_Min_Acts_No_Filters\n",
    "c120=pd.read_csv(f\"/workspace/CCE_NLI/Analysis/LHExpls/Run1/Expls20.0_Pruning_Iter/{fold}/3Clusters/Cluster{cluster}IOUS1024N.csv\")\n",
    "for i,s in zip(c120['unit'], c120['samples_entailing_formulas']):\n",
    "    if \" 37, \" in s:\n",
    "        print(i, end=', ')\n",
    "print()\n",
    "c10=pd.read_csv(f\"/workspace/CCE_NLI/Analysis/LHExpls/Run1/Expls0.0_Pruning_Iter/{fold}/3Clusters/Cluster{cluster}IOUS1024N.csv\")\n",
    "for i,s in zip(c10['unit'], c10['samples_entailing_formulas']):\n",
    "    if \" 37, \" in s:\n",
    "        print(i, end=', ')"
   ]
  },
  {
   "cell_type": "code",
   "execution_count": 8,
   "id": "96c85777",
   "metadata": {},
   "outputs": [],
   "source": [
    "pruned_preds=pd.read_csv(\"Preds.csv\")\n",
    "unpruned_preds=pd.read_csv(\"../../Expls0.0_Pruning_Iter/Min_Acts_500_No_Filters/Preds.csv\")"
   ]
  },
  {
   "cell_type": "code",
   "execution_count": 9,
   "id": "7b27f528",
   "metadata": {},
   "outputs": [
    {
     "data": {
      "text/plain": [
       "sentences    this church choir sings to the masses as they ...\n",
       "gt                                                     neutral\n",
       "pred                                                   neutral\n",
       "correct                                                   True\n",
       "Name: 0, dtype: object"
      ]
     },
     "execution_count": 9,
     "metadata": {},
     "output_type": "execute_result"
    }
   ],
   "source": [
    "pruned_preds.iloc[0]"
   ]
  },
  {
   "cell_type": "code",
   "execution_count": 82,
   "id": "b56ad5e8",
   "metadata": {},
   "outputs": [],
   "source": [
    "#if pruned prediction is wrong but unpruned is right (I.E. correct->wrong)\n",
    "wrong_to_correct=[]\n",
    "for sample,correct in enumerate(unpruned_preds['correct']):\n",
    "    if  pruned_preds.iloc[sample]['correct']  and not correct:\n",
    "        wrong_to_correct.append(sample)"
   ]
  },
  {
   "cell_type": "code",
   "execution_count": null,
   "id": "a7ed5301",
   "metadata": {},
   "outputs": [],
   "source": [
    "folder= 'Min_Acts_500_No_Filters' # \n",
    "d_pruned={}\n",
    "d_nopruned={}\n",
    "for sample in wrong_to_correct:\n",
    "    d_pruned[sample]={}\n",
    "    d_nopruned[sample]={}\n",
    "    for cluster in [1,2,3]:\n",
    "        print(\"Cluster \", cluster)\n",
    "        print(f\"Pruned Sample {sample}: \", end=\"\")\n",
    "        c120=pd.read_csv(f\"/workspace/CCE_NLI/Analysis/LHExpls/Run1/Expls67.232_Pruning_Iter/{folder}/3Clusters/Cluster{cluster}IOUS1024N.csv\")\n",
    "        for i,s in zip(c120['unit'], c120['samples_entailing_formulas']):\n",
    "\n",
    "            if f\" {sample}, \" in s:\n",
    "                print(i, end=', ')\n",
    "                if f\"{cluster}\" in d_pruned[sample].keys():\n",
    "                    d_pruned[sample][f\"{cluster}\"].append(i)\n",
    "                else:\n",
    "                    d_pruned[sample][f\"{cluster}\"]=[i]\n",
    "                \n",
    "        print()\n",
    "        print(f\"UnPruned Sample {sample}: \", end=\"\")\n",
    "        c10=pd.read_csv(f\"/workspace/CCE_NLI/Analysis/LHExpls/Run1/Expls0.0_Pruning_Iter/{folder}/3Clusters/Cluster{cluster}IOUS1024N.csv\")\n",
    "        for i,s in zip(c10['unit'], c10['samples_entailing_formulas']):\n",
    "            if f\" {sample}, \" in s:\n",
    "                print(i, end=', ')\n",
    "                if f\"{cluster}\" in d_nopruned[sample].keys():\n",
    "                    d_nopruned[sample][f\"{cluster}\"].append(i)\n",
    "                else:\n",
    "                    d_nopruned[sample][f\"{cluster}\"]=[i]\n",
    "        print()"
   ]
  },
  {
   "cell_type": "code",
   "execution_count": null,
   "id": "9030cadf",
   "metadata": {},
   "outputs": [],
   "source": []
  },
  {
   "cell_type": "code",
   "execution_count": null,
   "id": "2f074a26",
   "metadata": {},
   "outputs": [],
   "source": [
    "cluster='3'\n",
    "for p,np in zip(d_pruned.keys(), d_nopruned.keys()):\n",
    "    if cluster in d_pruned[p].keys() and cluster in d_nopruned[p].keys():\n",
    "        print(p, iou(d_pruned[p][cluster], d_nopruned[p][cluster]))\n",
    "        \n",
    "        "
   ]
  },
  {
   "cell_type": "code",
   "execution_count": 49,
   "id": "25955c07",
   "metadata": {},
   "outputs": [],
   "source": [
    "def iou(l1,l2):\n",
    "    inter=set(l1).intersection(set(l2))\n",
    "    union = set(l1).union(set(l2))\n",
    "\n",
    "    return len(inter)/len(union)\n",
    "    "
   ]
  },
  {
   "cell_type": "code",
   "execution_count": 113,
   "id": "57e23f73",
   "metadata": {},
   "outputs": [],
   "source": [
    "d_pruned_500min=d_pruned"
   ]
  },
  {
   "cell_type": "code",
   "execution_count": 114,
   "id": "1dcb7c4e",
   "metadata": {},
   "outputs": [],
   "source": [
    "dead_pruned_500min=[]\n",
    "for k in d_pruned_500min.keys():\n",
    "    if len(d_pruned_500min[k]) == 0:\n",
    "        dead_pruned_500min.append(k)\n",
    "dead_pruned_nomin=[]\n",
    "for k in d_pruned_nomin.keys():\n",
    "    if len(d_pruned_nomin[k]) == 0:\n",
    "        dead_pruned_nomin.append(k)"
   ]
  },
  {
   "cell_type": "code",
   "execution_count": 115,
   "id": "5e930a04",
   "metadata": {},
   "outputs": [
    {
     "data": {
      "text/plain": [
       "(549, 193)"
      ]
     },
     "execution_count": 115,
     "metadata": {},
     "output_type": "execute_result"
    }
   ],
   "source": [
    "len(dead_pruned_500min), len(dead_pruned_nomin)"
   ]
  },
  {
   "cell_type": "code",
   "execution_count": 77,
   "id": "bc694a6c",
   "metadata": {},
   "outputs": [
    {
     "data": {
      "text/plain": [
       "0.1245674740484429"
      ]
     },
     "execution_count": 77,
     "metadata": {},
     "output_type": "execute_result"
    }
   ],
   "source": [
    "iou(dead_pruned_500min,dead_pruned_nomin)"
   ]
  },
  {
   "cell_type": "code",
   "execution_count": 89,
   "id": "dd629e87",
   "metadata": {},
   "outputs": [
    {
     "data": {
      "text/plain": [
       "0.8580246913580247"
      ]
     },
     "execution_count": 89,
     "metadata": {},
     "output_type": "execute_result"
    }
   ],
   "source": [
    "(324-46)/324"
   ]
  },
  {
   "cell_type": "code",
   "execution_count": null,
   "id": "a209fdb6",
   "metadata": {},
   "outputs": [],
   "source": []
  }
 ],
 "metadata": {
  "kernelspec": {
   "display_name": "Python 3 (ipykernel)",
   "language": "python",
   "name": "python3"
  },
  "language_info": {
   "codemirror_mode": {
    "name": "ipython",
    "version": 3
   },
   "file_extension": ".py",
   "mimetype": "text/x-python",
   "name": "python",
   "nbconvert_exporter": "python",
   "pygments_lexer": "ipython3",
   "version": "3.8.10"
  }
 },
 "nbformat": 4,
 "nbformat_minor": 5
}
