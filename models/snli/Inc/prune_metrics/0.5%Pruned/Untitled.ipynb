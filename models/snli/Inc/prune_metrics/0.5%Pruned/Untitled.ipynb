{
 "cells": [
  {
   "cell_type": "code",
   "execution_count": 16,
   "id": "c5542dab",
   "metadata": {},
   "outputs": [],
   "source": [
    "import torch\n",
    "a=torch.load(\"model_best.pth\")"
   ]
  },
  {
   "cell_type": "code",
   "execution_count": 17,
   "id": "292663ac",
   "metadata": {},
   "outputs": [
    {
     "data": {
      "text/plain": [
       "tensor(0.0026, device='cuda:0')"
      ]
     },
     "execution_count": 17,
     "metadata": {},
     "output_type": "execute_result"
    }
   ],
   "source": [
    "torch.where(a['state_dict']['mlp.0.weight']==0, 1,0).sum()/(1024*2048)"
   ]
  },
  {
   "cell_type": "code",
   "execution_count": 18,
   "id": "fa4d41ad",
   "metadata": {},
   "outputs": [],
   "source": [
    "a=torch.where(a['state_dict']['mlp.0.weight']==0, 1,0)"
   ]
  },
  {
   "cell_type": "code",
   "execution_count": 22,
   "id": "0618bbea",
   "metadata": {},
   "outputs": [
    {
     "data": {
      "text/plain": [
       "2048"
      ]
     },
     "execution_count": 22,
     "metadata": {},
     "output_type": "execute_result"
    }
   ],
   "source": [
    "len(a[0])"
   ]
  },
  {
   "cell_type": "code",
   "execution_count": 23,
   "id": "3378a8a4",
   "metadata": {},
   "outputs": [],
   "source": [
    "for i,l in enumerate(a):\n",
    "    if l.sum()==2048:\n",
    "        print(i)"
   ]
  },
  {
   "cell_type": "code",
   "execution_count": null,
   "id": "0b1905e3",
   "metadata": {},
   "outputs": [],
   "source": []
  }
 ],
 "metadata": {
  "kernelspec": {
   "display_name": "Python 3 (ipykernel)",
   "language": "python",
   "name": "python3"
  },
  "language_info": {
   "codemirror_mode": {
    "name": "ipython",
    "version": 3
   },
   "file_extension": ".py",
   "mimetype": "text/x-python",
   "name": "python",
   "nbconvert_exporter": "python",
   "pygments_lexer": "ipython3",
   "version": "3.8.10"
  }
 },
 "nbformat": 4,
 "nbformat_minor": 5
}
