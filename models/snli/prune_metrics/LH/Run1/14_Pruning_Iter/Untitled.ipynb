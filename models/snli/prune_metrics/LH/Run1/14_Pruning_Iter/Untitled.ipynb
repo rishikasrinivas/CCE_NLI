{
 "cells": [
  {
   "cell_type": "code",
   "execution_count": 9,
   "id": "9563b1f8",
   "metadata": {},
   "outputs": [],
   "source": [
    "import torch\n",
    "m = torch.load(\"../0_Pruning_Iter/model_best.pth\")['state_dict']['mlp.0.weight']\n",
    "a=m"
   ]
  },
  {
   "cell_type": "code",
   "execution_count": 10,
   "id": "63e5d0b2",
   "metadata": {},
   "outputs": [
    {
     "data": {
      "text/plain": [
       "tensor(0., device='cuda:0')"
      ]
     },
     "execution_count": 10,
     "metadata": {},
     "output_type": "execute_result"
    }
   ],
   "source": [
    "torch.where(a==0,1,0).sum()/(1024*2048)"
   ]
  },
  {
   "cell_type": "code",
   "execution_count": null,
   "id": "61d44bb8",
   "metadata": {},
   "outputs": [],
   "source": []
  }
 ],
 "metadata": {
  "kernelspec": {
   "display_name": "Python 3 (ipykernel)",
   "language": "python",
   "name": "python3"
  },
  "language_info": {
   "codemirror_mode": {
    "name": "ipython",
    "version": 3
   },
   "file_extension": ".py",
   "mimetype": "text/x-python",
   "name": "python",
   "nbconvert_exporter": "python",
   "pygments_lexer": "ipython3",
   "version": "3.8.10"
  }
 },
 "nbformat": 4,
 "nbformat_minor": 5
}
