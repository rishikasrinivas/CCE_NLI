{
 "cells": [
  {
   "cell_type": "code",
   "execution_count": 44,
   "id": "e9158156",
   "metadata": {},
   "outputs": [],
   "source": [
    "import torch\n",
    "a=torch.load(\"model_best.pth\")"
   ]
  },
  {
   "cell_type": "code",
   "execution_count": 45,
   "id": "c2f11b87",
   "metadata": {},
   "outputs": [],
   "source": [
    "b=a['state_dict']['mlp.0.weight']"
   ]
  },
  {
   "cell_type": "code",
   "execution_count": 50,
   "id": "115e6433",
   "metadata": {},
   "outputs": [
    {
     "data": {
      "text/plain": [
       "torch.Size([1024, 2048])"
      ]
     },
     "execution_count": 50,
     "metadata": {},
     "output_type": "execute_result"
    }
   ],
   "source": [
    "b.shape"
   ]
  },
  {
   "cell_type": "code",
   "execution_count": 61,
   "id": "419f9ea2",
   "metadata": {},
   "outputs": [
    {
     "data": {
      "text/plain": [
       "tensor(6195)"
      ]
     },
     "execution_count": 61,
     "metadata": {},
     "output_type": "execute_result"
    }
   ],
   "source": [
    "torch.where(b==0, 1,0).sum()"
   ]
  },
  {
   "cell_type": "code",
   "execution_count": 54,
   "id": "385fdcbc",
   "metadata": {},
   "outputs": [],
   "source": [
    "c=torch.randn(2,3)"
   ]
  },
  {
   "cell_type": "code",
   "execution_count": 55,
   "id": "57a942ce",
   "metadata": {},
   "outputs": [
    {
     "data": {
      "text/plain": [
       "tensor([[ 1.2744, -0.4050,  0.3726],\n",
       "        [-1.4659, -0.1930, -1.6673]])"
      ]
     },
     "execution_count": 55,
     "metadata": {},
     "output_type": "execute_result"
    }
   ],
   "source": [
    "c"
   ]
  },
  {
   "cell_type": "code",
   "execution_count": 60,
   "id": "96a119bf",
   "metadata": {},
   "outputs": [
    {
     "data": {
      "text/plain": [
       "tensor(2)"
      ]
     },
     "execution_count": 60,
     "metadata": {},
     "output_type": "execute_result"
    }
   ],
   "source": [
    "torch.where(c>0, 1, 0).sum()"
   ]
  },
  {
   "cell_type": "code",
   "execution_count": null,
   "id": "a085e3b2",
   "metadata": {},
   "outputs": [],
   "source": []
  }
 ],
 "metadata": {
  "kernelspec": {
   "display_name": "Python 3 (ipykernel)",
   "language": "python",
   "name": "python3"
  },
  "language_info": {
   "codemirror_mode": {
    "name": "ipython",
    "version": 3
   },
   "file_extension": ".py",
   "mimetype": "text/x-python",
   "name": "python",
   "nbconvert_exporter": "python",
   "pygments_lexer": "ipython3",
   "version": "3.8.10"
  }
 },
 "nbformat": 4,
 "nbformat_minor": 5
}
