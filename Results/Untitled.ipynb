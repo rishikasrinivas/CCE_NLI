{
 "cells": [
  {
   "cell_type": "code",
   "execution_count": 31,
   "id": "ab3a542a",
   "metadata": {},
   "outputs": [
    {
     "data": {
      "text/plain": [
       "{'cluseter 1': {'units': [5, 6], 'sim:': [5, 6]},\n",
       " 'cluseter 2': {'units': [3, 2], 'sim:': [1.2, 22]}}"
      ]
     },
     "execution_count": 31,
     "metadata": {},
     "output_type": "execute_result"
    }
   ],
   "source": [
    "import pandas as pd\n",
    "d = {\"cluseter 1\": {'units': [5,6], \"sim:\": [5,6]}, \"cluseter 2\": {'units': [3,2], \"sim:\": [1.2,22]}}\n",
    "d"
   ]
  },
  {
   "cell_type": "code",
   "execution_count": 71,
   "id": "626c34d3",
   "metadata": {},
   "outputs": [
    {
     "data": {
      "text/plain": [
       "False"
      ]
     },
     "execution_count": 71,
     "metadata": {},
     "output_type": "execute_result"
    }
   ],
   "source": [
    "import numpy\n",
    "a=numpy.array([1])\n",
    "type(a)=='numpy.ndarray'"
   ]
  },
  {
   "cell_type": "code",
   "execution_count": 35,
   "id": "de9c2b98",
   "metadata": {},
   "outputs": [
    {
     "data": {
      "text/html": [
       "<div>\n",
       "<style scoped>\n",
       "    .dataframe tbody tr th:only-of-type {\n",
       "        vertical-align: middle;\n",
       "    }\n",
       "\n",
       "    .dataframe tbody tr th {\n",
       "        vertical-align: top;\n",
       "    }\n",
       "\n",
       "    .dataframe thead th {\n",
       "        text-align: right;\n",
       "    }\n",
       "</style>\n",
       "<table border=\"1\" class=\"dataframe\">\n",
       "  <thead>\n",
       "    <tr style=\"text-align: right;\">\n",
       "      <th></th>\n",
       "      <th>sim:</th>\n",
       "    </tr>\n",
       "    <tr>\n",
       "      <th>units</th>\n",
       "      <th></th>\n",
       "    </tr>\n",
       "  </thead>\n",
       "  <tbody>\n",
       "    <tr>\n",
       "      <th>5</th>\n",
       "      <td>5</td>\n",
       "    </tr>\n",
       "    <tr>\n",
       "      <th>6</th>\n",
       "      <td>6</td>\n",
       "    </tr>\n",
       "  </tbody>\n",
       "</table>\n",
       "</div>"
      ],
      "text/plain": [
       "       sim:\n",
       "units      \n",
       "5         5\n",
       "6         6"
      ]
     },
     "execution_count": 35,
     "metadata": {},
     "output_type": "execute_result"
    }
   ],
   "source": [
    "df_1=pd.DataFrame(d['cluseter 1'])\n",
    "df_1.set_index('units')"
   ]
  },
  {
   "cell_type": "code",
   "execution_count": 61,
   "id": "82142d10",
   "metadata": {},
   "outputs": [
    {
     "data": {
      "text/plain": [
       "{1, 2, 3, 4, 43}"
      ]
     },
     "execution_count": 61,
     "metadata": {},
     "output_type": "execute_result"
    }
   ],
   "source": [
    "d= {\"a\":[1,2,3,4], \"b\":[3,43, 3,2]}\n",
    "li=set()\n",
    "for lis in d.values():\n",
    "    for l in lis:\n",
    "        li.add(l)\n",
    "li\n"
   ]
  },
  {
   "cell_type": "code",
   "execution_count": 36,
   "id": "31196874",
   "metadata": {},
   "outputs": [
    {
     "data": {
      "text/html": [
       "<div>\n",
       "<style scoped>\n",
       "    .dataframe tbody tr th:only-of-type {\n",
       "        vertical-align: middle;\n",
       "    }\n",
       "\n",
       "    .dataframe tbody tr th {\n",
       "        vertical-align: top;\n",
       "    }\n",
       "\n",
       "    .dataframe thead th {\n",
       "        text-align: right;\n",
       "    }\n",
       "</style>\n",
       "<table border=\"1\" class=\"dataframe\">\n",
       "  <thead>\n",
       "    <tr style=\"text-align: right;\">\n",
       "      <th></th>\n",
       "      <th>sim:</th>\n",
       "    </tr>\n",
       "    <tr>\n",
       "      <th>units</th>\n",
       "      <th></th>\n",
       "    </tr>\n",
       "  </thead>\n",
       "  <tbody>\n",
       "    <tr>\n",
       "      <th>3</th>\n",
       "      <td>1.2</td>\n",
       "    </tr>\n",
       "    <tr>\n",
       "      <th>2</th>\n",
       "      <td>22.0</td>\n",
       "    </tr>\n",
       "  </tbody>\n",
       "</table>\n",
       "</div>"
      ],
      "text/plain": [
       "       sim:\n",
       "units      \n",
       "3       1.2\n",
       "2      22.0"
      ]
     },
     "execution_count": 36,
     "metadata": {},
     "output_type": "execute_result"
    }
   ],
   "source": [
    "df_2=pd.DataFrame(d['cluseter 2'])\n",
    "df_2.set_index('units')"
   ]
  },
  {
   "cell_type": "code",
   "execution_count": 47,
   "id": "ecb067f4",
   "metadata": {},
   "outputs": [],
   "source": [
    "import pandas as pd\n",
    "\n",
    "# Given dictionary\n",
    "d = {\n",
    "    \"cluseter 1\": {'units': [5, 6], \"sim:\": [5, 6]},\n",
    "    \"cluseter 2\": {'units': [3, 2], \"sim:\": [1.2, 22]}\n",
    "}\n",
    "\n",
    "# Create a DataFrame from the dictionary\n",
    "df1 = pd.DataFrame(d[\"cluseter 1\"])\n",
    "df2 = pd.DataFrame(d[\"cluseter 2\"])\n",
    "\n",
    "# Add a column for the cluster\n",
    "df1['cluster'] = 'cluseter 1'\n",
    "df2['cluster'] = 'cluseter 2'\n",
    "\n",
    "# Concatenate the DataFrames\n",
    "df = pd.concat([df1, df2])\n",
    "\n",
    "# Pivot the DataFrame to get the desired format\n",
    "pivot_df = df.pivot_table(index='units', columns='cluster', values='sim:', aggfunc='sum')\n",
    "\n",
    "pivot_df.to_csv(\"test.csv\")\n"
   ]
  },
  {
   "cell_type": "code",
   "execution_count": 63,
   "id": "244da393",
   "metadata": {},
   "outputs": [],
   "source": [
    "asisnoprune = {'Cluster1': {'hyp:tok:at', 'hyp:tok:various', 'hyp:tok:theater', 'hyp:tok:while', 'pre:tok:to', 'pre:tok:straight', 'pre:tok:hangs', 'hyp:tok:among', 'pre:tok:heading', 'pre:tok:training', 'hyp:tok:fell', 'hyp:tok:puzzle', 'pre:tok:running', 'hyp:tok:outfits', 'hyp:tok:hoops', 'pre:tok:checkered', 'hyp:tok:slam', 'pre:tok:form', 'pre:tok:jean', 'pre:tok:scale', 'hyp:tok:groceries', 'hyp:tok:buildings', 'pre:tok:living', 'hyp:tok:fisherman', 'hyp:tok:rocky', 'pre:tok:kayak', 'pre:tok:tent', 'pre:tok:laughing', 'pre:tok:swimsuit', 'pre:tok:angry', 'hyp:tok:laundromat', 'hyp:tok:cafeteria', 'hyp:tok:arms', 'hyp:tok:sidewalk', 'pre:tok:hot', 'hyp:tok:case', 'hyp:tok:cricket', 'pre:tok:raises', 'pre:tok:antique', \"hyp:tok:'s\", 'pre:tok:different', 'pre:tok:people', 'pre:tok:swims', 'hyp:tok:humans', 'hyp:tok:rack', 'pre:tok:leaf', 'hyp:tok:rope', 'pre:tok:studio', 'hyp:tok:guitarist', 'hyp:tok:caught', 'pre:tok:couple', 'hyp:tok:uses', 'hyp:tok:produce', 'pre:tok:wild', 'pre:tok:telling', 'hyp:tok:bowling', 'hyp:tok:stripe', 'hyp:tok:in', 'pre:tok:candy', 'hyp:tok:not', 'hyp:tok:snowboarder', 'pre:tok:fast', 'hyp:tok:cafe', 'hyp:tok:lap', 'pre:tok:activity', 'pre:tok:motor', 'pre:tok:down', 'hyp:tok:balance', 'pre:tok:nutcracker', 'hyp:tok:guys', 'hyp:tok:maroon', 'pre:tok:terrain', 'hyp:tok:yellow', 'hyp:tok:television', 'pre:tok:european', 'hyp:tok:object', 'hyp:tok:sandals', 'hyp:tok:walking', 'hyp:tok:festival', 'hyp:tok:sound', 'pre:tok:curb', 'hyp:tok:derby', 'hyp:tok:staircase', 'pre:tok:wearing', 'hyp:tok:concert', 'hyp:tok:least', 'hyp:tok:snowy', 'hyp:tok:competing', 'hyp:tok:blouse', 'hyp:tok:police', 'hyp:tok:number', 'pre:tok:passed', 'pre:tok:one', 'pre:tok:arm', 'pre:tok:suit', 'hyp:tok:their', 'hyp:tok:skateboarder', 'hyp:tok:trunks', 'pre:tok:younger', 'hyp:tok:handed', 'pre:tok:bat', 'hyp:tok:protecting', 'hyp:tok:apartment', 'hyp:tok:duck', 'hyp:tok:sing', 'hyp:tok:crime', 'pre:tok:tv', 'hyp:tok:creating', 'pre:tok:at', 'pre:tok:dog', 'hyp:tok:alone', 'hyp:tok:terrain', 'hyp:tok:tattoo', 'hyp:tok:space', 'hyp:tok:bench', 'hyp:tok:officers', 'pre:tok:wig', 'hyp:tok:identical', 'pre:tok:someone', 'hyp:tok:rowboat', 'hyp:tok:green', 'hyp:tok:suburban', 'pre:tok:toys', 'pre:tok:motorcyclists', 'pre:tok:television', 'pre:tok:-', 'hyp:tok:wetsuit', 'hyp:tok:wares', 'pre:tok:hairnet', 'pre:tok:control', 'hyp:tok:image', 'hyp:tok:bamboo', 'hyp:tok:team', 'hyp:tok:diner', 'hyp:tok:observe', 'pre:tok:word', 'hyp:tok:pig', 'hyp:tok:boat', 'hyp:tok:popsicle', 'pre:tok:owner', 'hyp:tok:surfing', 'pre:tok:tattoos', 'hyp:tok:drives', 'hyp:tok:with', 'hyp:tok:helmet', 'pre:tok:smile', 'hyp:tok:championship', 'hyp:tok:bottles', 'hyp:tok:bridal', 'hyp:tok:referee', 'hyp:tok:blue', 'pre:tok:daughter', 'hyp:tok:mouths', 'hyp:tok:boards', 'hyp:tok:laying', 'pre:tok:pet', 'pre:tok:black', 'hyp:tok:tiles', 'hyp:tok:backpack', 'pre:tok:upset', 'pre:tok:pots', 'hyp:tok:preparing', 'hyp:tok:plastic', 'hyp:tok:suspended', 'pre:tok:young', 'hyp:tok:wooden', 'hyp:tok:fire', 'pre:tok:night', 'hyp:tok:night', 'pre:tok:golfer', 'pre:tok:from', 'pre:tok:is', 'pre:tok:rest', 'hyp:tok:ledge', 'pre:tok:i', 'oth:overlap:overlap25', 'pre:tok:compete', 'hyp:tok:control', 'hyp:tok:happening', 'pre:tok:musician', 'pre:tok:snowboarding', 'pre:tok:struggling', 'hyp:tok:photographers', 'hyp:tok:microphone', 'pre:tok:woman', 'hyp:tok:too', 'pre:tok:lunch', 'hyp:tok:black', 'pre:tok:multiple', 'hyp:tok:packages', 'hyp:tok:pushing', 'hyp:tok:lead', 'hyp:tok:bathrobe', 'hyp:tok:low', 'hyp:tok:hooded', 'hyp:tok:shoot', 'hyp:tok:well', 'pre:tok:blue', 'pre:tok:raining', 'hyp:tok:favorite', 'pre:tok:placing', 'pre:tok:t', 'pre:tok:standing', 'pre:tok:are', 'hyp:tok:people', 'hyp:tok:cameras', 'hyp:tok:wrestlers', 'hyp:tok:band', 'pre:tok:numbers', 'hyp:tok:rollerblading', 'pre:tok:boy', 'hyp:tok:new', 'pre:tok:bearded', 'pre:tok:handling', 'pre:tok:man', 'pre:tok:mirror', 'pre:tok:turns', 'hyp:tok:throws', 'hyp:tok:empty', 'hyp:tok:to', 'pre:tok:chat', 'pre:tok:yellow', 'hyp:tok:giant', 'pre:tok:pose', 'pre:tok:church', 'pre:tok:camping', 'hyp:tok:family', 'hyp:tok:professional', 'hyp:tok:camouflage', 'hyp:tok:garage', 'hyp:tok:roller', 'pre:tok:beach', 'pre:tok:book', 'hyp:tok:water', 'hyp:tok:skate', 'hyp:tok:sandwiches', 'hyp:tok:whose', 'hyp:tok:pretending', 'pre:tok:body', 'hyp:tok:ocean', 'hyp:tok:hiding', 'hyp:tok:legs', 'pre:tok:camera', 'hyp:tok:skirts', 'pre:tok:picker', 'hyp:tok:dock', 'pre:tok:crafts', 'hyp:tok:i', 'pre:tok:dogs', 'hyp:tok:stuck', 'pre:tok:splashes', 'hyp:tok:magazine', 'hyp:tok:is', 'hyp:tok:ramp', 'hyp:tok:may', 'hyp:tok:home', 'pre:tok:transportation', 'pre:tok:ceremony', 'pre:tok:desks', 'pre:tok:use', 'pre:tok:crane', 'hyp:tok:gather', 'hyp:tok:spinning', 'pre:tok:up', 'hyp:tok:cross', 'hyp:tok:bass', 'hyp:tok:mirror', 'hyp:tok:protective', 'hyp:tok:blanket', 'hyp:tok:holding', 'pre:tok:gesturing', 'hyp:tok:pizza', 'hyp:tok:outer', 'pre:tok:studying', 'hyp:tok:pillow', 'pre:tok:out', 'pre:tok:painted', 'pre:tok:low', 'pre:tok:wares', 'hyp:tok:bowls', 'hyp:tok:elephant', 'pre:tok:toddler', 'pre:tok:meet', 'hyp:tok:dog', 'hyp:tok:race', 'pre:tok:waves', 'pre:tok:fallen', 'hyp:tok:skater', 'hyp:tok:chicken', 'pre:tok:women', 'hyp:tok:6', 'hyp:tok:chasing', 'hyp:tok:clouds', 'hyp:tok:dogs', 'hyp:tok:displaying', 'pre:tok:chopping', 'hyp:tok:looks', 'pre:tok:bus', 'hyp:tok:cardboard', 'hyp:tok:dinner', 'hyp:tok:friends', 'hyp:tok:wearing', 'pre:tok:playing', 'hyp:tok:barely', 'hyp:tok:ground', 'hyp:tok:fan', 'pre:tok:microphone', 'pre:tok:his', 'hyp:tok:plane', 'pre:tok:grocery', 'pre:tok:giant', 'hyp:tok:knitting', 'pre:tok:riding', 'hyp:tok:running', 'pre:tok:singer', 'pre:tok:cameras', 'hyp:tok:holiday', 'pre:tok:bicycle', 'hyp:tok:boys', 'hyp:tok:station', 'hyp:tok:eight', 'pre:tok:hammer', 'pre:tok:unicycle', 'pre:tok:headscarf', 'pre:tok:army', 'hyp:tok:tie', 'pre:tok:washes', 'hyp:tok:finished', 'hyp:tok:sings', 'hyp:tok:pots', 'hyp:tok:desk', 'pre:tok:sits', 'hyp:tok:year', 'hyp:tok:sitting', 'hyp:tok:!', 'hyp:tok:above', 'pre:tok:orange', 'pre:tok:mcdonald', 'pre:tok:shaving', 'hyp:tok:beard', 'hyp:tok:dancing', 'hyp:tok:airport', 'pre:tok:rock', 'hyp:tok:tall', 'hyp:tok:look', 'hyp:tok:booth', 'pre:tok:surfing', 'hyp:tok:wrapped', 'hyp:tok:trick', 'pre:tok:snow', 'hyp:tok:indoors', 'hyp:tok:river', 'pre:tok:match', 'pre:tok:native', 'pre:tok:behind', 'hyp:tok:court', 'hyp:tok:herself', 'hyp:tok:face', 'pre:tok:forehead', 'hyp:tok:though', 'hyp:tok:walmart', 'hyp:tok:hardware', 'hyp:tok:jet', 'hyp:tok:repair', 'hyp:tok:writing', 'hyp:tok:inside', 'hyp:tok:present', 'pre:tok:chinese', 'hyp:tok:sad', 'pre:tok:got', 'pre:tok:driving', 'hyp:tok:grill', 'pre:tok:father', 'pre:tok:hikers', 'hyp:tok:filled', 'hyp:tok:girl', 'hyp:tok:parked', 'pre:tok:lane', 'pre:tok:front', 'hyp:tok:tourists', 'pre:tok:wife', 'hyp:tok:beer', 'hyp:tok:appears', 'hyp:tok:finishing', 'pre:tok:weather', 'hyp:tok:sheep', 'pre:tok:suspenders', 'pre:tok:masks', 'hyp:tok:video', 'pre:tok:tunnel', 'hyp:tok:waters', 'hyp:tok:tables', 'pre:tok:waiting', 'hyp:tok:handing', 'pre:tok:attached', 'hyp:tok:jumping', 'pre:tok:sitting', 'hyp:tok:riders', 'hyp:tok:getting', 'pre:tok:and', 'pre:tok:bicycles', 'pre:tok:farmer', 'hyp:tok:sandwich', 'pre:tok:jumped', 'pre:tok:prepare', 'hyp:tok:trip', 'hyp:tok:sits', 'pre:tok:background', 'hyp:tok:museum', 'hyp:tok:swimming', 'hyp:tok:had', 'hyp:tok:guitars', 'hyp:tok:has', 'pre:tok:chef', 'hyp:tok:group', 'hyp:tok:photographs', 'hyp:tok:drums', 'pre:tok:through', 'hyp:tok:nothing', 'pre:tok:glass', 'pre:tok:dressed', 'hyp:tok:within', 'pre:tok:climbs', 'pre:tok:flowered', 'pre:tok:uniformed', 'hyp:tok:ladies', 'pre:tok:two', 'pre:tok:little', 'pre:tok:dead', 'hyp:tok:bedroom', 'hyp:tok:sleeping', 'hyp:tok:coffee', 'pre:tok:rescue', 'hyp:tok:make', 'hyp:tok:suit', 'hyp:tok:eating', 'hyp:tok:saw', 'hyp:tok:years', 'hyp:tok:draped', 'hyp:tok:two', 'hyp:tok:countryside', 'pre:tok:this', 'hyp:tok:goal', 'pre:tok:next', 'pre:tok:goat', 'hyp:tok:bed', 'pre:tok:china', 'hyp:tok:room', 'hyp:tok:soap', 'hyp:tok:nobody', 'pre:tok:everywhere', 'pre:tok:chases', 'pre:tok:their', 'hyp:tok:lime', 'hyp:tok:helps', 'hyp:tok:sweater', 'oth:overlap:overlap50', 'hyp:tok:religious', 'hyp:tok:denim', 'pre:tok:nap', 'hyp:tok:tan', 'hyp:tok:bar', 'pre:tok:rowing', 'hyp:tok:protection', 'hyp:tok:written', 'hyp:tok:stars', 'pre:tok:child', 'pre:tok:business', 'pre:tok:as', 'hyp:tok:dance', 'hyp:tok:shirt', 'hyp:tok:kisses', 'hyp:tok:you', 'pre:tok:whose', 'pre:tok:items', 'hyp:tok:spray', 'hyp:tok:chewing', 'hyp:tok:passed', 'pre:tok:cook', 'pre:tok:photographer', 'pre:tok:jogging', 'hyp:tok:lake', 'pre:tok:street', 'pre:tok:design', 'hyp:tok:angry', 'pre:tok:bike', 'hyp:tok:about', 'hyp:tok:something', 'pre:tok:birthday', 'pre:tok:biker', 'hyp:tok:snowball', 'hyp:tok:activity', 'hyp:tok:desks', 'pre:tok:works', 'pre:tok:courtyard', 'hyp:tok:shopping', 'hyp:tok:and', 'hyp:tok:onlookers', 'pre:tok:brown', 'hyp:tok:muddy', 'hyp:tok:fish', 'pre:tok:backpacks', 'hyp:tok:snow', 'hyp:tok:child', 'hyp:tok:last', 'pre:tok:play', 'pre:tok:trampoline', 'pre:tok:pipe', 'pre:tok:stage', 'pre:tok:tie', 'hyp:tok:couch', 'pre:tok:hydrant', 'hyp:tok:chess', 'hyp:tok:directing', 'pre:tok:shirt', 'pre:tok:near', 'hyp:tok:colorful', 'hyp:tok:soccer', 'hyp:tok:softball', 'pre:tok:lap', 'hyp:tok:fake', 'hyp:tok:sides', 'hyp:tok:edge', 'hyp:tok:pitcher', 'hyp:tok:bicycle', 'hyp:tok:wheeled', 'hyp:tok:chases', 'hyp:tok:bone', 'pre:tok:us', 'hyp:tok:house', 'hyp:tok:scarves', 'hyp:tok:-', 'hyp:tok:gesturing', 'hyp:tok:tv', 'hyp:tok:pets', 'pre:tok:looking', 'hyp:tok:compete', 'hyp:tok:seven', 'hyp:tok:women', 'hyp:tok:white', 'hyp:tok:tired', 'hyp:tok:sunny', 'hyp:tok:customer', 'hyp:tok:chat', 'hyp:tok:art', 'hyp:tok:speed', 'pre:tok:karate', 'pre:tok:all', 'hyp:tok:driving', 'hyp:tok:greyhound', 'hyp:tok:surf', 'pre:tok:snowman', 'pre:tok:clear', 'hyp:tok:jump', 'pre:tok:guitars', 'hyp:tok:computer', 'hyp:tok:paddle', 'hyp:tok:spring', 'hyp:tok:snowshoes', 'pre:tok:into', 'pre:tok:skiing', 'pre:tok:skateboard', 'pre:tok:her', 'hyp:tok:man', 'hyp:tok:some', 'pre:tok:asian', 'hyp:tok:yelling', 'hyp:tok:half', 'hyp:tok:men', 'hyp:tok:dry', 'pre:tok:rowboat', 'hyp:tok:her', 'hyp:tok:moon', 'hyp:tok:neck', 'pre:tok:images', 'hyp:tok:playing', 'pre:tok:hanging', 'hyp:tok:airplane', 'hyp:tok:pocket', 'hyp:tok:bread', 'pre:tok:kids', 'hyp:tok:lamp', 'pre:tok:railing', 'hyp:tok:instruments', 'pre:tok:photographs', 'hyp:tok:field', 'pre:tok:enter', 'pre:tok:produce', 'hyp:tok:through', 'hyp:tok:walk', 'hyp:tok:push', 'pre:tok:four', 'hyp:tok:clean', 'hyp:tok:crying', 'hyp:tok:pub', 'pre:tok:in', 'pre:tok:thinking', 'pre:tok:doctors', 'hyp:tok:brushes', 'hyp:tok:machine', 'hyp:tok:wild', 'pre:tok:cafe', 'hyp:tok:gathered', 'hyp:tok:small', 'pre:tok:food', 'hyp:tok:eats', 'hyp:tok:newspapers', 'hyp:tok:sunlight', 'hyp:tok:kitchen', 'hyp:tok:pants', 'pre:tok:course', 'hyp:tok:maintenance', 'hyp:tok:motor', 'hyp:tok:sleep', 'pre:tok:chairs', 'hyp:tok:no', 'pre:tok:button', 'hyp:tok:buys', 'pre:tok:holding', 'pre:tok:performs', 'hyp:tok:shade', 'pre:tok:too', 'hyp:tok:subway', 'pre:tok:while', 'pre:tok:gathering', 'hyp:tok:science', 'pre:tok:vacation', 'pre:tok:clown', 'hyp:tok:mid', 'pre:tok:game', 'pre:tok:lemons', 'hyp:tok:girlfriend', 'pre:tok:slope', 'hyp:tok:sport', 'pre:tok:table', 'hyp:tok:shoe', 'pre:tok:tank', 'hyp:tok:costumes', 'hyp:tok:football', 'pre:tok:boards', 'pre:tok:building', 'hyp:tok:step', 'hyp:tok:on', 'pre:tok:by', 'pre:tok:airport', 'hyp:tok:son', 'hyp:tok:dishes', 'pre:tok:working', 'pre:tok:colorful', 'pre:tok:apartment', 'pre:tok:least', 'pre:tok:on', 'pre:tok:sunset', 'hyp:tok:bottom', 'hyp:tok:discussing', 'pre:tok:put', 'pre:tok:back', 'pre:tok:sister', 'pre:tok:lady', 'hyp:tok:they', 'pre:tok:three', 'hyp:tok:sofa', 'pre:tok:race', 'hyp:tok:racing', 'pre:tok:cute', 'hyp:tok:marathon', 'hyp:tok:lying', 'hyp:tok:middle', 'hyp:tok:robe', 'pre:tok:swimming', 'pre:tok:him', 'pre:tok:leans', 'pre:tok:learning', 'hyp:tok:sleeps', 'hyp:tok:naked', 'pre:tok:walking', 'hyp:tok:old', 'hyp:tok:there', 'pre:tok:numbered', 'hyp:tok:underneath', 'hyp:tok:tunnel', 'pre:tok:reads', 'hyp:tok:photographing', 'pre:tok:men', 'pre:tok:individual', 'hyp:tok:female', 'pre:tok:attempting', 'hyp:tok:outside', 'pre:tok:lake', 'hyp:tok:chair', 'hyp:tok:bent', 'hyp:tok:throw', 'hyp:tok:exercising', 'pre:tok:movie', 'pre:tok:similar', 'hyp:tok:bus', 'hyp:tok:lunch', 'pre:tok:shoot', 'hyp:tok:seated', 'pre:tok:hang', 'pre:tok:rink', 'hyp:tok:groom', 'pre:tok:cherry', 'hyp:tok:golden', 'hyp:tok:toothbrush', 'hyp:tok:talks', 'hyp:tok:wood', 'oth:overlap:overlap75', 'pre:tok:pick', 'hyp:tok:amusement', 'hyp:tok:bin', 'hyp:tok:waiting', 'hyp:tok:drinking', 'pre:tok:old', 'hyp:tok:trumpet', 'hyp:tok:riding', 'pre:tok:football', 'pre:tok:fight', 'hyp:tok:cows', 'hyp:tok:suv', 'pre:tok:group', 'pre:tok:white', 'pre:tok:girl', 'hyp:tok:for', 'hyp:tok:asleep', 'pre:tok:together', 'hyp:tok:smiling', 'hyp:tok:ft', 'hyp:tok:hydrant', 'hyp:tok:park', 'pre:tok:some', 'pre:tok:ready', 'pre:tok:talks', 'pre:tok:leaping', \"hyp:tok:n't\", 'pre:tok:liquid', 'pre:tok:stand', 'pre:tok:ramp', 'hyp:tok:crib', 'pre:tok:pavement', 'hyp:tok:daughter', 'hyp:tok:soldier', 'hyp:tok:upright', 'pre:tok:steel', 'pre:tok:rainy', 'pre:tok:skydiving', 'hyp:tok:clock', 'hyp:tok:woman', 'hyp:tok:his', 'hyp:tok:robes', 'hyp:tok:older', 'hyp:tok:sister', 'hyp:tok:cat', 'hyp:tok:lighting', 'pre:tok:road', 'hyp:tok:rival', 'pre:tok:tools', 'hyp:tok:shoveling', 'pre:tok:checks', 'hyp:tok:cow', 'hyp:tok:screaming', 'pre:tok:fun', 'hyp:tok:carrot', 'pre:tok:folding', 'pre:tok:shoveling', 'hyp:tok:pool', 'hyp:tok:person', 'hyp:tok:truck', 'pre:tok:easter', 'pre:tok:puts', 'pre:tok:seat', 'hyp:tok:gymnasium', 'hyp:tok:cats', 'pre:tok:skateboarder', 'hyp:tok:enjoy', 'hyp:tok:furniture', 'hyp:tok:human', 'hyp:tok:steering', 'hyp:tok:watching', 'pre:tok:skateboarding', 'pre:tok:picking', 'pre:tok:skate', 'hyp:tok:are', 'hyp:tok:tea', 'pre:tok:bathing', 'pre:tok:girls', 'pre:tok:guitar', 'hyp:tok:outdoors', 'pre:tok:pumpkin', 'hyp:tok:church', 'hyp:tok:pick', 'pre:tok:instruments', 'hyp:tok:horses', 'hyp:tok:building', 'pre:tok:with', 'hyp:tok:down', 'pre:tok:walked', 'hyp:tok:project', 'hyp:tok:during'}, 'Cluster2': {'hyp:tok:at', 'pre:tok:creating', 'pre:tok:enjoys', 'hyp:tok:heading', 'pre:tok:to', 'hyp:tok:theater', 'hyp:tok:while', 'pre:tok:field', 'hyp:tok:where', 'pre:tok:heading', 'pre:tok:stove', 'hyp:tok:before', 'pre:tok:ground', 'pre:tok:skinned', 'hyp:tok:stream', 'hyp:tok:puzzle', 'pre:tok:running', 'hyp:tok:stay', 'pre:tok:form', 'hyp:tok:rink', 'pre:tok:competition', 'hyp:tok:direction', 'pre:tok:ft', 'hyp:tok:sidewalk', 'pre:tok:people', 'hyp:tok:humans', 'hyp:tok:produce', 'pre:tok:wild', 'hyp:tok:children', 'hyp:tok:bowling', 'hyp:tok:in', 'hyp:tok:animals', 'pre:tok:clothes', 'pre:tok:pants', 'hyp:tok:not', 'pre:tok:supermarket', 'hyp:tok:cafe', 'hyp:tok:traditional', 'pre:tok:relax', 'hyp:tok:balance', 'pre:tok:nutcracker', 'hyp:tok:milk', 'pre:tok:lying', 'hyp:tok:talk', 'hyp:tok:television', 'hyp:tok:conversation', 'hyp:tok:walking', 'hyp:tok:wife', 'pre:tok:wearing', 'hyp:tok:least', 'hyp:tok:pulled', 'hyp:tok:blouse', 'pre:tok:passed', 'pre:tok:one', 'hyp:tok:wet', 'hyp:tok:their', 'pre:tok:surf', 'hyp:tok:straight', 'hyp:tok:duck', 'hyp:tok:paved', 'hyp:tok:sing', 'hyp:tok:tips', 'pre:tok:flags', 'pre:tok:sound', 'pre:tok:at', 'pre:tok:dog', 'hyp:tok:alone', 'hyp:tok:model', 'hyp:tok:brown', 'pre:tok:strike', 'hyp:tok:up', 'hyp:tok:silver', 'hyp:tok:skydiving', 'hyp:tok:green', 'hyp:tok:opponent', 'hyp:tok:suburban', 'hyp:tok:cliff', 'hyp:tok:curly', 'pre:tok:motorcyclists', 'hyp:tok:owner', 'pre:tok:television', 'pre:tok:-', 'hyp:tok:next', 'pre:tok:racing', 'hyp:tok:wares', 'pre:tok:hairnet', 'pre:tok:walks', 'hyp:tok:image', 'hyp:tok:only', 'hyp:tok:gear', 'pre:tok:word', 'pre:tok:dish', 'hyp:tok:surfing', 'hyp:tok:drives', 'pre:tok:park', 'hyp:tok:swims', 'hyp:tok:with', 'hyp:tok:bottles', 'hyp:tok:blue', 'hyp:tok:boards', 'pre:tok:pet', 'pre:tok:marathon', 'pre:tok:kite', 'pre:tok:black', 'hyp:tok:backpack', 'hyp:tok:sticks', 'pre:tok:below', 'pre:tok:young', 'hyp:tok:funny', 'pre:tok:steering', 'hyp:tok:attempt', 'pre:tok:from', 'pre:tok:is', 'hyp:tok:below', 'oth:overlap:overlap25', 'hyp:tok:left', 'pre:tok:woman', 'pre:tok:water', 'hyp:tok:black', 'hyp:tok:packages', 'hyp:tok:lead', 'pre:tok:shepherd', 'hyp:tok:low', 'hyp:tok:hooded', 'hyp:tok:shoot', 'pre:tok:crib', 'hyp:tok:interested', 'pre:tok:blue', 'hyp:tok:favorite', 'hyp:tok:beach', 'hyp:tok:bikini', 'pre:tok:standing', 'hyp:tok:mother', 'pre:tok:are', 'hyp:tok:people', 'hyp:tok:jogging', 'hyp:tok:rollerblading', 'pre:tok:boy', 'pre:tok:live', 'pre:tok:lay', 'pre:tok:belt', 'pre:tok:man', 'hyp:tok:pictured', 'pre:tok:turns', 'pre:tok:converse', 'hyp:tok:empty', 'hyp:tok:to', 'pre:tok:yellow', 'pre:tok:church', 'pre:tok:instrument', 'hyp:tok:professional', 'hyp:tok:camouflage', 'hyp:tok:tag', 'hyp:tok:store', 'pre:tok:beach', 'pre:tok:daughters', 'hyp:tok:water', 'hyp:tok:sandwiches', 'pre:tok:mural', 'hyp:tok:ocean', 'pre:tok:farmers', 'hyp:tok:barbecue', 'pre:tok:crafts', 'hyp:tok:dock', 'pre:tok:splashes', 'hyp:tok:is', 'hyp:tok:past', 'hyp:tok:desert', 'hyp:tok:home', 'hyp:tok:heels', 'hyp:tok:hate', 'hyp:tok:cheerleading', 'hyp:tok:painting', 'pre:tok:homeless', 'hyp:tok:unicycle', 'hyp:tok:mirror', 'pre:tok:outside', 'hyp:tok:holding', 'hyp:tok:begins', 'hyp:tok:bath', 'hyp:tok:podium', 'hyp:tok:near', 'hyp:tok:pizza', 'hyp:tok:outer', 'hyp:tok:way', 'pre:tok:shade', 'hyp:tok:restaurant', 'hyp:tok:standing', 'pre:tok:meet', 'hyp:tok:dog', 'hyp:tok:casual', 'pre:tok:wineglass', 'pre:tok:see', 'pre:tok:tee', 'pre:tok:women', 'hyp:tok:anything', 'hyp:tok:fetch', 'hyp:tok:dinner', 'hyp:tok:tutu', 'hyp:tok:friends', 'hyp:tok:wearing', 'pre:tok:playing', 'pre:tok:mid', 'hyp:tok:glasses', 'pre:tok:his', 'pre:tok:riding', 'hyp:tok:running', 'hyp:tok:touching', 'hyp:tok:relax', 'pre:tok:army', 'hyp:tok:finished', 'hyp:tok:shaped', 'hyp:tok:desk', 'pre:tok:pan', 'pre:tok:sits', 'hyp:tok:year', 'hyp:tok:snowman', 'hyp:tok:audience', 'pre:tok:stringed', 'hyp:tok:street', 'hyp:tok:sitting', 'hyp:tok:!', 'pre:tok:mall', 'hyp:tok:dancers', 'pre:tok:shaving', 'hyp:tok:dancing', 'hyp:tok:airport', 'pre:tok:rock', 'hyp:tok:tall', 'pre:tok:surfing', 'hyp:tok:trick', 'hyp:tok:backyard', 'hyp:tok:indoors', 'hyp:tok:river', 'hyp:tok:vegetable', 'hyp:tok:multiple', 'hyp:tok:face', 'hyp:tok:signs', 'pre:tok:fence', 'hyp:tok:though', 'hyp:tok:office', 'pre:tok:for', 'hyp:tok:inside', 'pre:tok:elephant', 'hyp:tok:sad', 'hyp:tok:vests', 'pre:tok:makeup', 'pre:tok:male', 'pre:tok:hikers', 'hyp:tok:hallway', 'pre:tok:blond', 'hyp:tok:costumed', 'hyp:tok:device', 'pre:tok:wheeler', 'hyp:tok:girl', 'hyp:tok:piano', 'pre:tok:lane', 'pre:tok:front', 'pre:tok:red', 'hyp:tok:appears', 'pre:tok:barn', 'pre:tok:suspenders', 'pre:tok:tunnel', 'hyp:tok:artwork', 'pre:tok:goggles', 'hyp:tok:handing', 'hyp:tok:apron', 'pre:tok:sitting', 'hyp:tok:hillside', 'hyp:tok:jersey', 'pre:tok:and', 'pre:tok:muddy', 'pre:tok:jumped', 'pre:tok:prepare', 'pre:tok:upwards', 'hyp:tok:sits', 'hyp:tok:jumped', 'pre:tok:surfboard', 'hyp:tok:swimming', 'hyp:tok:guitars', 'hyp:tok:has', 'pre:tok:tray', 'hyp:tok:group', 'hyp:tok:falls', 'hyp:tok:guitar', 'pre:tok:dressed', 'hyp:tok:nothing', 'hyp:tok:5', 'hyp:tok:after', 'pre:tok:flowered', 'pre:tok:two', 'pre:tok:dead', 'hyp:tok:bedroom', 'hyp:tok:sleeping', 'hyp:tok:coffee', 'pre:tok:rescue', 'hyp:tok:eating', 'hyp:tok:saw', 'hyp:tok:two', 'hyp:tok:bystanders', 'hyp:tok:musical', 'pre:tok:act', 'hyp:tok:vehicles', 'hyp:tok:waist', 'pre:tok:hits', 'hyp:tok:bed', 'hyp:tok:nap', 'hyp:tok:cars', 'hyp:tok:teen', 'hyp:tok:clothed', 'hyp:tok:protesting', 'hyp:tok:nobody', 'hyp:tok:inline', 'pre:tok:chases', 'hyp:tok:hats', 'hyp:tok:wheeler', 'pre:tok:patio', 'hyp:tok:singing', 'pre:tok:stunt', 'pre:tok:open', 'oth:overlap:overlap50', 'pre:tok:flipping', 'hyp:tok:dish', 'hyp:tok:bar', 'hyp:tok:tan', 'hyp:tok:religious', 'hyp:tok:butterfly', 'pre:tok:tea', 'pre:tok:child', 'pre:tok:as', 'hyp:tok:kisses', 'hyp:tok:elder', 'hyp:tok:you', 'hyp:tok:arena', 'pre:tok:wizard', 'hyp:tok:car', 'hyp:tok:grassy', 'pre:tok:street', 'hyp:tok:blonde', 'hyp:tok:uniformed', 'hyp:tok:angry', 'pre:tok:making', 'pre:tok:courtyard', 'hyp:tok:activity', 'hyp:tok:desks', 'hyp:tok:shopping', 'hyp:tok:books', 'hyp:tok:and', 'hyp:tok:onlookers', 'pre:tok:brown', 'pre:tok:indoor', 'hyp:tok:runs', 'pre:tok:trampoline', 'pre:tok:play', 'pre:tok:stage', 'hyp:tok:couch', 'pre:tok:near', 'hyp:tok:body', 'pre:tok:shirt', 'hyp:tok:this', 'hyp:tok:tricks', 'hyp:tok:summer', 'pre:tok:sunny', 'hyp:tok:fake', 'hyp:tok:diving', 'hyp:tok:bicycle', 'hyp:tok:wheeled', 'pre:tok:stars', 'hyp:tok:chases', 'hyp:tok:gun', 'pre:tok:hiding', 'hyp:tok:tv', 'hyp:tok:farmer', 'hyp:tok:atv', 'hyp:tok:napping', 'hyp:tok:pets', 'hyp:tok:compete', 'pre:tok:river', 'pre:tok:balcony', 'hyp:tok:cream', 'hyp:tok:women', 'hyp:tok:groups', 'hyp:tok:white', 'hyp:tok:tired', 'pre:tok:its', 'hyp:tok:chat', 'pre:tok:go', 'pre:tok:life', 'hyp:tok:driving', 'hyp:tok:surf', 'hyp:tok:dingy', 'hyp:tok:rollerskating', 'hyp:tok:east', 'hyp:tok:indian', 'pre:tok:skiing', 'pre:tok:skateboard', 'pre:tok:car', 'pre:tok:playground', 'hyp:tok:play', 'hyp:tok:ball', 'hyp:tok:man', 'hyp:tok:waitress', 'hyp:tok:some', 'pre:tok:hose', 'hyp:tok:men', 'hyp:tok:her', 'hyp:tok:playing', 'hyp:tok:lamp', 'pre:tok:city', 'pre:tok:soda', 'hyp:tok:complete', 'pre:tok:pool', 'hyp:tok:clothes', 'pre:tok:railing', 'pre:tok:between', 'pre:tok:ball', 'pre:tok:remote', 'hyp:tok:field', 'hyp:tok:through', 'pre:tok:gentleman', 'hyp:tok:clean', 'pre:tok:alone', 'hyp:tok:husky', 'hyp:tok:barefoot', 'pre:tok:fly', 'hyp:tok:by', 'hyp:tok:pub', 'hyp:tok:watched', 'hyp:tok:bottoms', 'pre:tok:in', 'hyp:tok:volleyball', 'hyp:tok:brushes', 'hyp:tok:greyhounds', 'pre:tok:thinking', 'pre:tok:yelling', 'hyp:tok:lumberjack', 'hyp:tok:instrument', 'hyp:tok:sunlight', 'hyp:tok:everyone', 'pre:tok:duck', 'pre:tok:closed', 'hyp:tok:sleep', 'pre:tok:style', 'pre:tok:listens', 'hyp:tok:no', 'pre:tok:structure', 'pre:tok:holding', 'pre:tok:napping', 'pre:tok:best', 'pre:tok:too', 'hyp:tok:sleeved', 'pre:tok:lost', 'hyp:tok:strike', 'pre:tok:while', 'hyp:tok:subway', 'hyp:tok:closed', 'pre:tok:golden', 'hyp:tok:rolled', 'pre:tok:vacation', 'hyp:tok:walks', 'pre:tok:platform', 'hyp:tok:inflatable', 'pre:tok:puddle', 'hyp:tok:plays', 'hyp:tok:football', 'hyp:tok:into', 'pre:tok:artwork', 'hyp:tok:instructor', 'pre:tok:winter', 'hyp:tok:turns', 'hyp:tok:on', 'hyp:tok:stroller', 'pre:tok:airport', 'pre:tok:by', 'pre:tok:working', 'hyp:tok:tools', 'hyp:tok:ears', 'pre:tok:moon', 'pre:tok:on', 'hyp:tok:he', 'hyp:tok:conductor', 'pre:tok:sister', 'hyp:tok:toy', 'hyp:tok:they', 'pre:tok:three', 'hyp:tok:sofa', 'pre:tok:trail', 'hyp:tok:weapons', 'hyp:tok:diver', 'hyp:tok:mask', 'pre:tok:win', 'pre:tok:swimming', 'hyp:tok:microscope', 'pre:tok:learning', 'hyp:tok:naked', 'hyp:tok:sleeps', 'hyp:tok:stage', 'pre:tok:walking', 'hyp:tok:old', 'hyp:tok:there', 'pre:tok:numbered', 'pre:tok:tire', 'hyp:tok:move', 'hyp:tok:shooting', 'pre:tok:excited', 'hyp:tok:red', 'pre:tok:men', 'hyp:tok:formal', 'hyp:tok:costume', 'hyp:tok:outside', 'hyp:tok:chair', 'hyp:tok:bus', 'pre:tok:conducting', 'hyp:tok:competition', 'hyp:tok:lunch', 'pre:tok:jet', 'pre:tok:ballet', 'pre:tok:hang', 'hyp:tok:crane', 'hyp:tok:groom', 'pre:tok:cherry', 'oth:overlap:overlap75', 'hyp:tok:stool', 'hyp:tok:music', 'pre:tok:performers', 'pre:tok:pick', 'hyp:tok:amusement', 'hyp:tok:bin', 'hyp:tok:shop', 'hyp:tok:riding', 'hyp:tok:poor', 'hyp:tok:beige', 'pre:tok:group', 'pre:tok:white', 'pre:tok:girl', 'hyp:tok:for', 'hyp:tok:asleep', 'pre:tok:cement', 'hyp:tok:swimsuit', 'pre:tok:shoulders', 'hyp:tok:smiling', 'hyp:tok:glass', 'hyp:tok:trail', 'hyp:tok:park', 'hyp:tok:ring', 'pre:tok:leaping', 'pre:tok:babies', 'pre:tok:traveling', 'hyp:tok:kid', 'pre:tok:shown', 'pre:tok:steel', 'hyp:tok:brother', 'hyp:tok:clock', 'pre:tok:married', 'pre:tok:other', 'pre:tok:blocking', 'hyp:tok:woman', 'pre:tok:gives', 'hyp:tok:his', 'hyp:tok:older', 'hyp:tok:cat', 'pre:tok:else', 'pre:tok:poster', 'pre:tok:protecting', 'hyp:tok:lighting', \"pre:tok:n't\", 'hyp:tok:shoveling', 'pre:tok:large', 'pre:tok:shark', 'hyp:tok:school', 'pre:tok:dump', 'hyp:tok:party', 'hyp:tok:pool', 'pre:tok:person', 'pre:tok:auditorium', 'hyp:tok:person', 'hyp:tok:chain', 'pre:tok:hug', 'pre:tok:spray', 'pre:tok:practice', 'pre:tok:shadow', 'pre:tok:pier', 'pre:tok:quickly', 'hyp:tok:human', 'hyp:tok:steering', 'hyp:tok:watching', 'pre:tok:diaper', 'hyp:tok:tea', 'hyp:tok:are', 'hyp:tok:cooking', 'pre:tok:enthusiasts', 'hyp:tok:outdoors', 'pre:tok:with', 'hyp:tok:down', 'pre:tok:walked', 'pre:tok:company', 'hyp:tok:during'}, 'Cluster3': {'hyp:tok:at', 'hyp:tok:while', 'pre:tok:to', 'pre:tok:heading', 'pre:tok:training', \"pre:tok:'s\", 'pre:tok:trunks', 'pre:tok:stool', 'pre:tok:running', 'hyp:tok:jean', 'hyp:tok:hoops', 'hyp:tok:stay', 'hyp:tok:buildings', 'hyp:tok:powerpoint', 'hyp:tok:convertible', 'hyp:tok:moving', 'hyp:tok:catching', 'hyp:tok:lost', 'pre:tok:people', 'hyp:tok:humans', 'hyp:tok:seems', 'pre:tok:she', 'hyp:tok:uses', 'pre:tok:6', 'hyp:tok:trying', 'hyp:tok:bowling', 'hyp:tok:in', 'hyp:tok:landing', 'hyp:tok:not', 'pre:tok:laundry', 'pre:tok:sleeps', 'pre:tok:relax', 'hyp:tok:whilst', 'hyp:tok:milk', 'hyp:tok:sit', 'hyp:tok:yellow', 'hyp:tok:television', 'pre:tok:arrive', 'hyp:tok:walking', 'hyp:tok:setting', 'hyp:tok:sound', 'hyp:tok:staircase', 'pre:tok:wearing', 'pre:tok:profile', 'pre:tok:parents', 'hyp:tok:cake', 'hyp:tok:pulled', 'hyp:tok:yarn', 'hyp:tok:short', 'pre:tok:motorcycles', 'pre:tok:suit', 'hyp:tok:their', 'hyp:tok:trunks', 'pre:tok:surf', 'hyp:tok:straight', 'hyp:tok:sing', 'hyp:tok:selling', 'pre:tok:sound', 'hyp:tok:name', 'hyp:tok:creating', 'pre:tok:at', 'pre:tok:dog', 'hyp:tok:alone', 'hyp:tok:brown', 'pre:tok:yarn', 'hyp:tok:drinks', 'hyp:tok:boy', 'pre:tok:late', 'pre:tok:television', 'hyp:tok:only', 'hyp:tok:bamboo', 'pre:tok:races', 'hyp:tok:bare', 'hyp:tok:teenagers', 'pre:tok:partially', 'hyp:tok:drives', 'hyp:tok:baseball', 'hyp:tok:with', 'hyp:tok:championship', 'hyp:tok:jerseys', 'hyp:tok:it', 'hyp:tok:bottles', 'hyp:tok:boards', 'hyp:tok:adults', 'hyp:tok:fingers', 'pre:tok:black', 'pre:tok:kite', 'hyp:tok:orchestra', 'hyp:tok:suspended', 'hyp:tok:puddle', 'pre:tok:young', 'pre:tok:kiss', 'pre:tok:golfer', 'pre:tok:is', 'hyp:tok:control', 'oth:overlap:overlap25', 'pre:tok:clouds', 'pre:tok:bicyclists', 'pre:tok:woman', 'hyp:tok:black', 'hyp:tok:vehicle', 'pre:tok:blue', 'hyp:tok:favorite', 'hyp:tok:beach', 'hyp:tok:japanese', 'hyp:tok:people', 'pre:tok:are', 'hyp:tok:brothers', 'hyp:tok:jogging', 'hyp:tok:rollerblading', 'pre:tok:live', 'hyp:tok:shops', 'pre:tok:humans', 'pre:tok:man', 'pre:tok:mirror', 'hyp:tok:buddhist', 'pre:tok:turns', 'hyp:tok:walked', 'hyp:tok:empty', 'hyp:tok:to', 'pre:tok:chat', 'pre:tok:yellow', 'hyp:tok:merchandise', 'hyp:tok:couple', 'hyp:tok:professional', 'pre:tok:beach', 'hyp:tok:roller', 'hyp:tok:water', 'hyp:tok:bikes', 'hyp:tok:sandwiches', 'hyp:tok:feet', 'pre:tok:mural', 'hyp:tok:ocean', 'pre:tok:camera', 'hyp:tok:students', 'hyp:tok:magazine', 'hyp:tok:is', 'hyp:tok:home', 'pre:tok:sandals', 'pre:tok:resting', 'hyp:tok:hate', 'pre:tok:ceremony', 'hyp:tok:scooters', 'hyp:tok:buggy', 'pre:tok:rooftop', 'hyp:tok:painting', 'hyp:tok:statue', 'hyp:tok:unicycle', 'hyp:tok:mirror', 'hyp:tok:begins', 'hyp:tok:bath', 'hyp:tok:near', 'hyp:tok:brushing', 'hyp:tok:outer', 'pre:tok:practicing', 'hyp:tok:tube', 'hyp:tok:gloves', 'pre:tok:naked', 'hyp:tok:standing', 'pre:tok:meet', 'hyp:tok:parking', 'hyp:tok:dog', 'hyp:tok:speaking', 'hyp:tok:tennis', 'hyp:tok:6', 'pre:tok:women', 'hyp:tok:chasing', 'pre:tok:injured', 'hyp:tok:doors', 'hyp:tok:clouds', 'pre:tok:stream', 'hyp:tok:dogs', 'pre:tok:set', 'hyp:tok:fetch', 'hyp:tok:friends', 'hyp:tok:wearing', 'pre:tok:against', 'pre:tok:playing', 'hyp:tok:fan', 'hyp:tok:cigarette', 'pre:tok:his', 'hyp:tok:been', 'hyp:tok:running', 'pre:tok:ride', 'hyp:tok:boys', 'pre:tok:chess', 'hyp:tok:eight', 'pre:tok:laundromat', 'pre:tok:army', 'pre:tok:older', 'hyp:tok:pots', 'hyp:tok:hug', 'pre:tok:warehouse', 'hyp:tok:street', 'hyp:tok:sitting', 'hyp:tok:!', 'pre:tok:trains', 'hyp:tok:beard', 'pre:tok:shaving', 'pre:tok:sandwich', 'hyp:tok:dancing', 'hyp:tok:tall', 'hyp:tok:wading', 'pre:tok:snow', 'hyp:tok:vegetable', 'hyp:tok:climbs', 'pre:tok:!', 'pre:tok:for', 'pre:tok:decorative', 'pre:tok:wash', 'hyp:tok:inside', 'hyp:tok:present', 'hyp:tok:sad', 'hyp:tok:vacation', 'hyp:tok:train', 'pre:tok:going', 'hyp:tok:obstacle', 'hyp:tok:girl', 'hyp:tok:from', 'pre:tok:knife', 'pre:tok:red', 'hyp:tok:headphones', 'pre:tok:peace', 'hyp:tok:finishing', 'pre:tok:bench', 'pre:tok:barn', 'hyp:tok:sheep', 'hyp:tok:video', 'pre:tok:tunnel', 'hyp:tok:pedaling', 'hyp:tok:pet', 'pre:tok:sitting', 'hyp:tok:nine', 'hyp:tok:jersey', 'pre:tok:and', 'hyp:tok:course', 'hyp:tok:hillside', 'hyp:tok:cloudy', 'pre:tok:photographed', 'hyp:tok:swimming', 'hyp:tok:guitars', 'hyp:tok:has', 'hyp:tok:falls', 'hyp:tok:nothing', 'pre:tok:garage', 'hyp:tok:5', 'hyp:tok:after', 'pre:tok:flowered', 'hyp:tok:ladies', 'pre:tok:two', 'pre:tok:dead', 'hyp:tok:sleeping', 'hyp:tok:coffee', 'hyp:tok:eating', 'hyp:tok:draped', 'hyp:tok:elderly', 'pre:tok:act', 'pre:tok:watching', 'pre:tok:husky', 'pre:tok:heels', 'pre:tok:hits', 'hyp:tok:bed', 'hyp:tok:pipes', 'hyp:tok:nap', 'hyp:tok:cars', 'hyp:tok:nobody', 'pre:tok:league', 'hyp:tok:mural', 'hyp:tok:12', 'pre:tok:baby', 'hyp:tok:hats', 'hyp:tok:singing', 'hyp:tok:denim', 'oth:overlap:overlap50', 'hyp:tok:dish', 'hyp:tok:bar', 'pre:tok:museum', 'hyp:tok:wineglass', 'hyp:tok:tan', 'pre:tok:rowing', 'hyp:tok:shirt', 'hyp:tok:elder', 'hyp:tok:wheelchair', 'hyp:tok:you', 'pre:tok:wizard', 'pre:tok:like', 'hyp:tok:than', 'pre:tok:blanket', 'hyp:tok:surrounded', 'hyp:tok:car', 'hyp:tok:grassy', 'pre:tok:groom', 'hyp:tok:uniformed', 'pre:tok:off', 'hyp:tok:something', 'hyp:tok:young', 'pre:tok:making', 'hyp:tok:activity', 'pre:tok:funny', 'hyp:tok:addressing', 'hyp:tok:and', 'hyp:tok:runs', 'pre:tok:vehicles', 'hyp:tok:happy', 'pre:tok:trampoline', 'pre:tok:play', 'pre:tok:pipe', 'hyp:tok:couch', 'hyp:tok:numbers', 'pre:tok:shirt', 'pre:tok:pie', 'hyp:tok:soccer', 'hyp:tok:summer', 'pre:tok:dirt', 'hyp:tok:diving', 'hyp:tok:edge', 'hyp:tok:pitcher', 'pre:tok:cigarettes', 'hyp:tok:bicycle', 'hyp:tok:soup', 'hyp:tok:chases', 'pre:tok:hiding', 'hyp:tok:tv', 'hyp:tok:bride', 'hyp:tok:pets', 'pre:tok:cooks', 'pre:tok:looking', 'hyp:tok:gravel', 'hyp:tok:women', 'hyp:tok:feeding', 'pre:tok:others', 'hyp:tok:tired', 'hyp:tok:basketball', 'hyp:tok:backwards', 'hyp:tok:accordion', 'pre:tok:diner', 'hyp:tok:surf', 'hyp:tok:clothing', 'hyp:tok:haired', 'hyp:tok:run', 'pre:tok:skiing', 'pre:tok:car', 'pre:tok:playground', 'pre:tok:corn', 'pre:tok:her', 'pre:tok:performer', 'pre:tok:asian', 'hyp:tok:half', 'hyp:tok:men', 'hyp:tok:her', 'hyp:tok:moon', 'hyp:tok:parade', 'pre:tok:images', 'hyp:tok:playing', 'pre:tok:cup', 'hyp:tok:relaxing', 'hyp:tok:enjoying', 'hyp:tok:woods', 'hyp:tok:clothes', 'pre:tok:railing', 'hyp:tok:lab', 'hyp:tok:climbing', 'pre:tok:shooting', 'hyp:tok:through', 'hyp:tok:tractor', 'hyp:tok:clean', 'pre:tok:soap', 'pre:tok:fly', 'hyp:tok:fishing', 'pre:tok:in', 'pre:tok:thinking', 'pre:tok:doctors', 'hyp:tok:brushes', 'hyp:tok:stroll', 'pre:tok:along', 'hyp:tok:eats', 'hyp:tok:sunlight', 'hyp:tok:toward', 'hyp:tok:skateboarding', 'hyp:tok:kitchen', 'pre:tok:casual', 'hyp:tok:sleep', 'pre:tok:listens', 'pre:tok:among', 'hyp:tok:no', 'pre:tok:neighborhood', 'hyp:tok:courtyard', 'pre:tok:hit', 'pre:tok:holding', 'pre:tok:hair', 'pre:tok:napping', 'hyp:tok:picnic', 'hyp:tok:scouts', 'pre:tok:clock', 'pre:tok:lost', 'pre:tok:while', 'hyp:tok:upset', 'hyp:tok:sport', 'hyp:tok:bank', 'hyp:tok:clear', 'hyp:tok:kissing', 'pre:tok:platform', 'hyp:tok:plays', 'hyp:tok:bows', 'hyp:tok:football', 'pre:tok:nose', 'hyp:tok:lane', 'hyp:tok:on', 'pre:tok:by', 'hyp:tok:stroller', 'hyp:tok:dishes', 'hyp:tok:tools', 'hyp:tok:ears', 'pre:tok:moon', 'pre:tok:on', 'pre:tok:sunset', 'hyp:tok:phone', 'pre:tok:three', 'hyp:tok:sofa', 'hyp:tok:marathon', 'hyp:tok:mask', 'pre:tok:castle', 'pre:tok:learning', 'hyp:tok:naked', 'hyp:tok:sleeps', 'pre:tok:walking', 'hyp:tok:carving', 'hyp:tok:old', 'hyp:tok:there', 'pre:tok:numbered', 'hyp:tok:move', 'pre:tok:cleaning', 'pre:tok:fetch', 'pre:tok:happy', 'hyp:tok:girls', 'hyp:tok:red', 'hyp:tok:picture', 'pre:tok:men', 'hyp:tok:formal', 'hyp:tok:outside', 'pre:tok:students', 'hyp:tok:exercising', 'hyp:tok:around', 'pre:tok:eight', 'hyp:tok:bus', 'pre:tok:flowers', 'pre:tok:shoot', 'hyp:tok:seated', 'hyp:tok:crane', 'hyp:tok:groom', 'hyp:tok:pointed', 'oth:overlap:overlap75', 'hyp:tok:drinking', 'hyp:tok:riding', 'pre:tok:experiment', 'hyp:tok:beige', 'hyp:tok:cows', 'pre:tok:staring', 'hyp:tok:first', 'hyp:tok:backpacks', 'pre:tok:white', 'pre:tok:girl', 'hyp:tok:rowing', 'hyp:tok:for', 'hyp:tok:asleep', 'hyp:tok:swimsuit', 'hyp:tok:trail', 'hyp:tok:bikers', 'hyp:tok:ring', 'pre:tok:skates', 'pre:tok:carriage', 'hyp:tok:brunette', 'hyp:tok:full', 'pre:tok:liquid', 'hyp:tok:crossing', 'pre:tok:traveling', 'hyp:tok:tops', 'pre:tok:married', 'hyp:tok:clock', 'hyp:tok:woman', 'hyp:tok:his', 'pre:tok:concert', 'hyp:tok:blows', 'hyp:tok:cat', 'hyp:tok:chatting', 'hyp:tok:lighting', 'hyp:tok:acoustic', 'hyp:tok:shoveling', 'pre:tok:large', 'hyp:tok:beam', 'hyp:tok:pool', 'pre:tok:person', 'hyp:tok:international', 'pre:tok:seems', 'hyp:tok:person', 'hyp:tok:chinese', 'hyp:tok:mountain', 'pre:tok:get', 'pre:tok:practice', 'hyp:tok:cats', 'hyp:tok:steering', 'hyp:tok:human', 'hyp:tok:laboratory', 'hyp:tok:knee', 'hyp:tok:are', 'pre:tok:land', 'hyp:tok:outdoors', 'pre:tok:pumpkin', 'hyp:tok:building', 'pre:tok:with', 'hyp:tok:down', 'pre:tok:females', 'hyp:tok:hair'}, 'Cluster4': {'hyp:tok:at', 'hyp:tok:theater', 'pre:tok:to', 'hyp:tok:cool', 'pre:tok:tables', 'hyp:tok:stream', 'pre:tok:running', 'pre:tok:glasses', 'hyp:tok:hoops', 'hyp:tok:slam', 'hyp:tok:buildings', 'hyp:tok:played', 'hyp:tok:rocky', 'hyp:tok:walkway', 'hyp:tok:cafeteria', 'hyp:tok:moving', 'hyp:tok:neighborhood', 'hyp:tok:carnival', 'hyp:tok:as', \"hyp:tok:'s\", 'pre:tok:people', 'hyp:tok:humans', 'pre:tok:wild', 'hyp:tok:trying', 'hyp:tok:in', 'hyp:tok:not', 'hyp:tok:bowl', 'pre:tok:nutcracker', 'hyp:tok:fighting', 'hyp:tok:maroon', 'pre:tok:runner', 'hyp:tok:walking', 'hyp:tok:staircase', 'pre:tok:another', 'hyp:tok:squatting', 'pre:tok:wearing', 'hyp:tok:hugging', 'hyp:tok:least', 'hyp:tok:yarn', 'pre:tok:preschool', 'pre:tok:one', 'hyp:tok:wet', 'hyp:tok:their', 'pre:tok:ocean', 'hyp:tok:mower', 'pre:tok:;', 'pre:tok:talking', 'hyp:tok:swing', 'hyp:tok:name', 'pre:tok:sound', 'pre:tok:dog', 'hyp:tok:alone', 'pre:tok:roller', 'pre:tok:yarn', 'hyp:tok:waterfall', 'hyp:tok:friend', 'hyp:tok:boy', 'pre:tok:skyline', 'pre:tok:green', 'hyp:tok:curly', 'pre:tok:television', 'pre:tok:-', 'pre:tok:dress', 'hyp:tok:bamboo', 'pre:tok:word', 'hyp:tok:boat', 'pre:tok:vest', 'hyp:tok:drives', 'pre:tok:park', 'hyp:tok:with', 'hyp:tok:championship', 'hyp:tok:coat', 'hyp:tok:bottles', 'hyp:tok:blue', 'hyp:tok:cute', 'hyp:tok:laying', 'pre:tok:yoga', 'hyp:tok:adults', 'pre:tok:kite', 'hyp:tok:hang', 'hyp:tok:orchestra', 'hyp:tok:suspended', 'pre:tok:young', 'pre:tok:golfer', 'pre:tok:is', 'oth:overlap:overlap25', 'pre:tok:woman', 'pre:tok:water', 'pre:tok:lunch', 'hyp:tok:black', 'hyp:tok:vehicle', 'pre:tok:blue', 'hyp:tok:beach', 'hyp:tok:pile', 'hyp:tok:japanese', 'hyp:tok:hot', 'hyp:tok:people', 'pre:tok:are', 'hyp:tok:rollerblading', 'hyp:tok:new', 'pre:tok:live', 'pre:tok:boy', 'pre:tok:man', 'hyp:tok:buddhist', 'hyp:tok:to', 'hyp:tok:crowded', 'pre:tok:yellow', 'hyp:tok:couple', 'hyp:tok:roller', 'pre:tok:gymnasium', 'pre:tok:daughters', 'hyp:tok:box', 'pre:tok:six', 'hyp:tok:hoping', 'pre:tok:sleeping', 'pre:tok:countryside', 'hyp:tok:is', 'hyp:tok:desert', 'hyp:tok:paddles', 'hyp:tok:past', 'pre:tok:boardwalk', 'pre:tok:sandals', 'hyp:tok:story', 'pre:tok:benches', 'hyp:tok:come', 'pre:tok:starting', 'hyp:tok:mirror', 'hyp:tok:safety', 'pre:tok:outside', 'hyp:tok:holding', 'hyp:tok:bath', 'hyp:tok:near', 'hyp:tok:brushing', 'hyp:tok:classroom', 'hyp:tok:outer', 'pre:tok:stairs', 'pre:tok:drums', 'hyp:tok:standing', 'pre:tok:meet', 'pre:tok:cool', 'pre:tok:bucket', 'pre:tok:speaks', 'hyp:tok:race', 'hyp:tok:each', 'hyp:tok:skater', 'pre:tok:injured', 'pre:tok:includes', 'hyp:tok:dogs', 'pre:tok:few', 'hyp:tok:tutu', 'hyp:tok:friends', 'hyp:tok:wearing', 'pre:tok:playing', 'pre:tok:his', 'pre:tok:poker', 'hyp:tok:running', 'hyp:tok:different', 'hyp:tok:rides', 'pre:tok:jockey', 'hyp:tok:finished', 'pre:tok:older', 'hyp:tok:pots', 'hyp:tok:desk', 'hyp:tok:year', 'pre:tok:stringed', 'hyp:tok:sitting', 'pre:tok:mall', 'pre:tok:magazine', 'pre:tok:mcdonald', 'hyp:tok:break', 'hyp:tok:dancing', 'hyp:tok:tall', 'hyp:tok:booth', 'hyp:tok:wrapped', 'hyp:tok:indoors', 'hyp:tok:vegetable', 'pre:tok:for', 'hyp:tok:inside', 'hyp:tok:sad', 'hyp:tok:vacation', 'hyp:tok:bandanna', 'pre:tok:going', 'hyp:tok:daughters', 'hyp:tok:flies', 'pre:tok:parade', 'hyp:tok:winning', 'hyp:tok:obstacle', 'hyp:tok:girl', 'pre:tok:husband', 'pre:tok:event', 'hyp:tok:piano', 'pre:tok:knife', 'pre:tok:front', 'pre:tok:red', 'pre:tok:barn', 'hyp:tok:sheep', 'hyp:tok:racetrack', 'pre:tok:line', 'hyp:tok:harnesses', 'pre:tok:goggles', 'hyp:tok:handing', 'hyp:tok:jumping', 'pre:tok:sitting', 'hyp:tok:hillside', 'hyp:tok:nine', 'pre:tok:and', 'pre:tok:sunlight', 'pre:tok:popsicle', 'hyp:tok:doctors', 'pre:tok:jumped', 'hyp:tok:sits', 'pre:tok:background', 'hyp:tok:swimming', 'hyp:tok:has', 'hyp:tok:guitars', 'hyp:tok:kite', 'hyp:tok:group', 'hyp:tok:hotel', 'pre:tok:through', 'hyp:tok:belt', 'hyp:tok:after', 'pre:tok:two', 'hyp:tok:ladies', 'hyp:tok:other', 'hyp:tok:sleeping', 'hyp:tok:curtain', 'hyp:tok:eating', 'pre:tok:urban', 'pre:tok:musicians', 'hyp:tok:burning', 'hyp:tok:waist', 'hyp:tok:nap', 'hyp:tok:nobody', 'pre:tok:league', 'hyp:tok:mural', 'hyp:tok:wheeler', 'oth:overlap:overlap50', 'pre:tok:museum', 'hyp:tok:butterfly', 'pre:tok:tea', 'pre:tok:child', 'pre:tok:as', 'hyp:tok:shirt', 'hyp:tok:you', 'hyp:tok:swim', 'hyp:tok:song', 'pre:tok:wizard', 'hyp:tok:than', 'hyp:tok:lake', 'hyp:tok:grassy', 'pre:tok:street', 'hyp:tok:uniformed', 'hyp:tok:something', 'pre:tok:birthday', 'hyp:tok:flip', 'pre:tok:courtyard', 'hyp:tok:addressing', 'pre:tok:laboratory', 'hyp:tok:and', 'hyp:tok:free', 'pre:tok:indoor', 'pre:tok:vehicles', 'hyp:tok:snow', 'hyp:tok:child', 'hyp:tok:last', 'pre:tok:play', 'hyp:tok:couch', 'hyp:tok:numbers', 'pre:tok:shirt', 'hyp:tok:soccer', 'hyp:tok:diving', 'hyp:tok:bicycle', 'pre:tok:hiding', 'hyp:tok:tv', 'pre:tok:cooks', 'hyp:tok:women', 'hyp:tok:groups', 'hyp:tok:basketball', 'hyp:tok:backwards', 'hyp:tok:sunny', 'pre:tok:conversation', 'hyp:tok:cuts', 'hyp:tok:driving', 'hyp:tok:surf', 'pre:tok:dark', 'hyp:tok:chainsaw', 'hyp:tok:paddle', 'hyp:tok:surfboard', 'hyp:tok:deer', 'pre:tok:skiing', 'hyp:tok:one', 'pre:tok:basketball', 'hyp:tok:man', 'hyp:tok:some', 'hyp:tok:men', 'hyp:tok:her', 'hyp:tok:moon', 'pre:tok:images', 'pre:tok:cup', 'pre:tok:buy', 'pre:tok:track', 'pre:tok:than', 'pre:tok:soda', 'hyp:tok:khaki', 'pre:tok:remote', 'pre:tok:shooting', 'hyp:tok:push', 'hyp:tok:chef', 'hyp:tok:watched', 'pre:tok:in', 'hyp:tok:brushes', 'hyp:tok:eats', 'pre:tok:burning', 'hyp:tok:sunlight', 'hyp:tok:bathtub', 'hyp:tok:no', 'hyp:tok:cleaning', 'hyp:tok:event', 'hyp:tok:courtyard', 'pre:tok:lost', 'pre:tok:while', 'pre:tok:cats', 'pre:tok:gym', 'hyp:tok:sport', 'hyp:tok:stopped', 'hyp:tok:inflatable', 'hyp:tok:football', 'hyp:tok:lane', 'hyp:tok:into', 'pre:tok:building', 'hyp:tok:on', 'hyp:tok:stroller', 'pre:tok:airport', 'hyp:tok:clown', 'pre:tok:gets', 'pre:tok:only', 'hyp:tok:bright', 'pre:tok:pulled', 'pre:tok:moon', 'pre:tok:on', 'hyp:tok:phone', 'pre:tok:tips', 'pre:tok:shelter', 'hyp:tok:marathon', 'hyp:tok:visiting', 'hyp:tok:mask', 'pre:tok:him', 'pre:tok:concrete', 'hyp:tok:naked', 'pre:tok:walking', 'hyp:tok:there', 'hyp:tok:halloween', 'hyp:tok:girls', 'hyp:tok:red', 'pre:tok:men', 'pre:tok:coat', 'pre:tok:wet', 'hyp:tok:costume', 'hyp:tok:coach', 'hyp:tok:outside', 'hyp:tok:any', 'hyp:tok:chair', 'pre:tok:crossing', 'hyp:tok:bus', 'pre:tok:shoot', 'oth:overlap:overlap75', 'pre:tok:scarves', 'pre:tok:digging', 'hyp:tok:fixing', 'hyp:tok:riding', 'pre:tok:football', 'pre:tok:sides', 'pre:tok:group', 'hyp:tok:backpacks', 'pre:tok:white', 'hyp:tok:steps', 'pre:tok:girl', 'pre:tok:wall', 'hyp:tok:asleep', 'hyp:tok:for', 'hyp:tok:swimsuit', 'hyp:tok:smiling', 'hyp:tok:park', 'pre:tok:liquid', 'hyp:tok:without', 'hyp:tok:kid', 'hyp:tok:upright', 'hyp:tok:tops', 'hyp:tok:woman', 'hyp:tok:his', 'hyp:tok:cat', 'hyp:tok:acoustic', 'pre:tok:males', 'hyp:tok:shoveling', 'pre:tok:propeller', 'pre:tok:shark', 'pre:tok:helps', 'pre:tok:gentlemen', 'hyp:tok:international', 'hyp:tok:chinese', 'hyp:tok:person', 'pre:tok:auditorium', 'pre:tok:pier', 'pre:tok:quickly', 'hyp:tok:human', 'hyp:tok:are', 'hyp:tok:balding', 'hyp:tok:world', 'pre:tok:pumpkin', 'pre:tok:sport', 'hyp:tok:outdoors', 'pre:tok:with'}}"
   ]
  },
  {
   "cell_type": "code",
   "execution_count": 64,
   "id": "bf29fbce",
   "metadata": {},
   "outputs": [],
   "source": [
    "arrangesnoprune={'hyp:tok:theater', 'hyp:tok:while', 'pre:tok:stove', 'pre:tok:training', 'pre:tok:skinned', 'pre:tok:running', 'hyp:tok:outfits', 'hyp:tok:hoops', 'hyp:tok:stay', 'pre:tok:checkered', 'hyp:tok:slam', 'hyp:tok:groceries', 'pre:tok:living', 'pre:tok:kayak', 'pre:tok:laughing', 'hyp:tok:direction', 'hyp:tok:sidewalk', 'pre:tok:hot', 'hyp:tok:neighborhood', 'hyp:tok:as', \"hyp:tok:'s\", 'pre:tok:swims', 'hyp:tok:rack', 'hyp:tok:bowling', 'hyp:tok:stripe', 'hyp:tok:in', 'pre:tok:clothes', 'hyp:tok:snowboarder', 'pre:tok:fast', 'pre:tok:sleeps', 'hyp:tok:guys', 'hyp:tok:maroon', 'pre:tok:lying', 'pre:tok:runner', 'pre:tok:european', 'pre:tok:arrive', 'hyp:tok:walking', 'hyp:tok:setting', 'hyp:tok:wife', 'hyp:tok:staircase', 'pre:tok:wearing', 'hyp:tok:least', 'hyp:tok:competing', 'hyp:tok:yarn', 'pre:tok:preschool', 'pre:tok:ocean', 'hyp:tok:sing', 'pre:tok:talking', 'hyp:tok:selling', 'pre:tok:at', 'hyp:tok:terrain', 'hyp:tok:waterfall', 'hyp:tok:bench', 'hyp:tok:officers', 'pre:tok:skyline', 'pre:tok:green', 'pre:tok:late', 'hyp:tok:owner', 'hyp:tok:only', 'pre:tok:dish', 'hyp:tok:boat', 'pre:tok:vest', 'pre:tok:tattoos', 'hyp:tok:drives', 'pre:tok:smile', 'pre:tok:yoga', 'pre:tok:black', 'hyp:tok:preparing', 'hyp:tok:fire', 'hyp:tok:funny', 'pre:tok:steering', 'pre:tok:from', 'pre:tok:rest', 'pre:tok:compete', 'pre:tok:musician', 'pre:tok:clouds', 'hyp:tok:happening', 'hyp:tok:too', 'pre:tok:lunch', 'hyp:tok:pushing', 'hyp:tok:low', 'pre:tok:crib', 'hyp:tok:well', 'pre:tok:blue', 'hyp:tok:japanese', 'pre:tok:placing', 'pre:tok:t', 'pre:tok:standing', 'hyp:tok:people', 'hyp:tok:band', 'hyp:tok:wrestlers', 'hyp:tok:jogging', 'pre:tok:boy', 'pre:tok:bearded', 'hyp:tok:buddhist', 'pre:tok:chat', 'hyp:tok:giant', 'hyp:tok:merchandise', 'pre:tok:church', 'hyp:tok:couple', 'hyp:tok:roller', 'pre:tok:gymnasium', 'hyp:tok:box', 'hyp:tok:whose', 'hyp:tok:feet', 'hyp:tok:hiding', 'pre:tok:dogs', 'hyp:tok:stuck', 'hyp:tok:desert', 'hyp:tok:buggy', 'hyp:tok:story', 'pre:tok:rooftop', 'hyp:tok:bass', 'hyp:tok:protective', 'hyp:tok:blanket', 'hyp:tok:brushing', 'pre:tok:out', 'pre:tok:low', 'pre:tok:drums', 'hyp:tok:gloves', 'hyp:tok:standing', 'pre:tok:meet', 'hyp:tok:dog', 'hyp:tok:speaking', 'pre:tok:speaks', 'pre:tok:injured', 'pre:tok:stream', 'hyp:tok:anything', 'hyp:tok:looks', 'pre:tok:bus', 'hyp:tok:dinner', 'hyp:tok:barely', 'pre:tok:mid', 'hyp:tok:glasses', 'hyp:tok:plane', 'pre:tok:poker', 'pre:tok:cameras', 'pre:tok:ride', 'hyp:tok:holiday', 'hyp:tok:eight', 'pre:tok:hammer', 'pre:tok:washes', 'hyp:tok:sings', 'hyp:tok:hug', 'hyp:tok:street', 'hyp:tok:sitting', 'hyp:tok:!', 'pre:tok:magazine', 'pre:tok:orange', 'pre:tok:mcdonald', 'hyp:tok:beard', 'hyp:tok:indoors', 'hyp:tok:vegetable', 'hyp:tok:herself', 'hyp:tok:repair', 'hyp:tok:writing', 'pre:tok:driving', 'hyp:tok:bandanna', 'hyp:tok:grill', 'hyp:tok:hallway', 'pre:tok:parade', 'pre:tok:blond', 'hyp:tok:device', 'pre:tok:wheeler', 'hyp:tok:parked', 'pre:tok:event', 'hyp:tok:piano', 'hyp:tok:headphones', 'hyp:tok:sheep', 'pre:tok:barn', 'pre:tok:waiting', 'pre:tok:attached', 'hyp:tok:hillside', 'hyp:tok:jersey', 'hyp:tok:nine', 'pre:tok:sunlight', 'hyp:tok:swimming', 'hyp:tok:hotel', 'hyp:tok:after', 'pre:tok:flowered', 'hyp:tok:ladies', 'hyp:tok:sleeping', 'hyp:tok:curtain', 'hyp:tok:suit', 'hyp:tok:eating', 'hyp:tok:years', 'hyp:tok:draped', 'hyp:tok:goal', 'hyp:tok:nap', 'hyp:tok:room', 'hyp:tok:soap', 'hyp:tok:nobody', 'pre:tok:league', 'pre:tok:chases', 'hyp:tok:hats', 'hyp:tok:wheeler', 'pre:tok:patio', 'pre:tok:stunt', 'hyp:tok:helps', 'pre:tok:flipping', 'hyp:tok:dish', 'pre:tok:nap', 'hyp:tok:wineglass', 'hyp:tok:butterfly', 'pre:tok:rowing', 'pre:tok:as', 'pre:tok:whose', 'hyp:tok:arena', 'pre:tok:wizard', 'pre:tok:like', 'pre:tok:design', 'pre:tok:making', 'pre:tok:funny', 'hyp:tok:books', 'hyp:tok:addressing', 'hyp:tok:runs', 'hyp:tok:fish', 'pre:tok:backpacks', 'hyp:tok:snow', 'pre:tok:trampoline', 'hyp:tok:numbers', 'pre:tok:shirt', 'pre:tok:pie', 'hyp:tok:colorful', 'hyp:tok:tricks', 'hyp:tok:summer', 'hyp:tok:fake', 'pre:tok:cigarettes', 'hyp:tok:bone', 'hyp:tok:scarves', 'hyp:tok:tv', 'hyp:tok:compete', 'hyp:tok:gravel', 'hyp:tok:feeding', 'pre:tok:others', 'hyp:tok:sunny', 'hyp:tok:chat', 'pre:tok:go', 'hyp:tok:speed', 'pre:tok:life', 'hyp:tok:jump', 'pre:tok:dark', 'hyp:tok:computer', 'hyp:tok:rollerskating', 'hyp:tok:spring', 'pre:tok:skiing', 'pre:tok:skateboard', 'pre:tok:car', 'pre:tok:performer', 'pre:tok:asian', 'hyp:tok:half', 'pre:tok:hose', 'hyp:tok:dry', 'hyp:tok:neck', 'pre:tok:images', 'hyp:tok:relaxing', 'pre:tok:hanging', 'hyp:tok:bread', 'pre:tok:kids', 'pre:tok:city', 'pre:tok:soda', 'pre:tok:pool', 'pre:tok:between', 'pre:tok:produce', 'pre:tok:soap', 'hyp:tok:husky', 'pre:tok:cafe', 'hyp:tok:greyhounds', 'pre:tok:along', 'pre:tok:burning', 'hyp:tok:newspapers', 'hyp:tok:skateboarding', 'hyp:tok:bathtub', 'hyp:tok:sleep', 'pre:tok:button', 'hyp:tok:event', 'hyp:tok:buys', 'pre:tok:napping', 'pre:tok:best', 'pre:tok:golden', 'pre:tok:clown', 'hyp:tok:upset', 'pre:tok:table', 'pre:tok:platform', 'hyp:tok:football', 'hyp:tok:lane', 'pre:tok:by', 'pre:tok:airport', 'hyp:tok:stroller', 'hyp:tok:clown', 'hyp:tok:son', 'hyp:tok:bright', 'hyp:tok:tools', 'pre:tok:sunset', 'hyp:tok:he', 'pre:tok:back', 'pre:tok:three', 'pre:tok:trail', 'pre:tok:shelter', 'pre:tok:cute', 'hyp:tok:marathon', 'hyp:tok:weapons', 'hyp:tok:diver', 'pre:tok:leans', 'hyp:tok:naked', 'hyp:tok:stage', 'pre:tok:walking', 'hyp:tok:underneath', 'pre:tok:tire', 'hyp:tok:tunnel', 'pre:tok:men', 'hyp:tok:female', 'pre:tok:wet', 'hyp:tok:costume', 'hyp:tok:throw', 'pre:tok:movie', 'hyp:tok:bus', 'pre:tok:hang', 'pre:tok:rink', 'hyp:tok:amusement', 'hyp:tok:bin', 'hyp:tok:waiting', 'hyp:tok:trumpet', 'hyp:tok:shop', 'pre:tok:football', 'hyp:tok:beige', 'hyp:tok:first', 'pre:tok:wall', 'hyp:tok:steps', 'pre:tok:girl', 'hyp:tok:asleep', 'pre:tok:cement', 'pre:tok:liquid', 'hyp:tok:crib', 'pre:tok:pavement', 'hyp:tok:crossing', 'hyp:tok:soldier', 'pre:tok:skydiving', 'hyp:tok:robes', 'hyp:tok:older', 'pre:tok:poster', \"pre:tok:n't\", 'hyp:tok:shoveling', 'pre:tok:checks', 'pre:tok:shoveling', 'hyp:tok:pool', 'hyp:tok:party', 'pre:tok:seems', 'hyp:tok:mountain', 'hyp:tok:truck', 'pre:tok:easter', 'pre:tok:seat', 'pre:tok:skateboarder', 'pre:tok:next', 'pre:tok:quickly', 'hyp:tok:enjoy', 'hyp:tok:steering', 'hyp:tok:laboratory', 'hyp:tok:knee', 'pre:tok:girls', 'hyp:tok:world', 'pre:tok:pumpkin', 'pre:tok:enjoys', 'hyp:tok:heading', 'pre:tok:straight', 'hyp:tok:cool', 'hyp:tok:where', 'hyp:tok:fell', 'hyp:tok:stream', 'hyp:tok:puzzle', 'pre:tok:glasses', 'pre:tok:scale', 'hyp:tok:powerpoint', 'hyp:tok:fisherman', 'pre:tok:tent', 'pre:tok:swimsuit', 'pre:tok:ft', 'hyp:tok:cafeteria', 'hyp:tok:case', 'hyp:tok:cricket', 'pre:tok:antique', 'hyp:tok:carnival', 'hyp:tok:lost', 'pre:tok:different', 'hyp:tok:guitarist', 'hyp:tok:caught', 'hyp:tok:uses', 'pre:tok:6', 'hyp:tok:children', 'hyp:tok:animals', 'pre:tok:pants', 'hyp:tok:not', 'hyp:tok:landing', 'pre:tok:laundry', 'pre:tok:motor', 'pre:tok:relax', 'hyp:tok:talk', 'hyp:tok:yellow', 'hyp:tok:conversation', 'pre:tok:curb', 'hyp:tok:hugging', 'hyp:tok:cake', 'hyp:tok:snowy', 'hyp:tok:police', 'pre:tok:motorcycles', 'pre:tok:passed', 'pre:tok:arm', 'hyp:tok:wet', 'hyp:tok:skateboarder', 'hyp:tok:mower', 'pre:tok:younger', 'hyp:tok:handed', 'pre:tok:bat', 'hyp:tok:paved', 'pre:tok:dog', 'hyp:tok:brown', 'hyp:tok:model', 'pre:tok:roller', 'hyp:tok:tattoo', 'hyp:tok:identical', 'pre:tok:someone', 'hyp:tok:skydiving', 'hyp:tok:curly', 'pre:tok:-', 'pre:tok:hairnet', 'pre:tok:control', 'hyp:tok:team', 'hyp:tok:diner', 'pre:tok:races', 'hyp:tok:gear', 'hyp:tok:pig', 'pre:tok:partially', 'hyp:tok:jerseys', 'hyp:tok:coat', 'hyp:tok:bottles', 'pre:tok:daughter', 'hyp:tok:cute', 'hyp:tok:tiles', 'hyp:tok:plastic', 'hyp:tok:suspended', 'pre:tok:young', 'hyp:tok:night', 'hyp:tok:attempt', 'pre:tok:snowboarding', 'pre:tok:struggling', 'hyp:tok:photographers', 'pre:tok:water', 'hyp:tok:lead', 'hyp:tok:interested', 'hyp:tok:favorite', 'hyp:tok:beach', 'hyp:tok:pile', 'hyp:tok:cameras', 'hyp:tok:brothers', 'hyp:tok:new', 'pre:tok:live', 'pre:tok:handling', 'pre:tok:humans', 'pre:tok:man', 'pre:tok:mirror', 'hyp:tok:walked', 'pre:tok:instrument', 'hyp:tok:professional', 'hyp:tok:camouflage', 'pre:tok:daughters', 'hyp:tok:pretending', 'pre:tok:six', 'pre:tok:picker', 'hyp:tok:dock', 'pre:tok:countryside', 'pre:tok:splashes', 'hyp:tok:students', 'hyp:tok:is', 'hyp:tok:paddles', 'hyp:tok:may', 'hyp:tok:home', 'hyp:tok:hate', 'hyp:tok:scooters', 'pre:tok:homeless', 'hyp:tok:statue', 'hyp:tok:mirror', 'hyp:tok:safety', 'hyp:tok:holding', 'hyp:tok:podium', 'hyp:tok:near', 'hyp:tok:pizza', 'pre:tok:studying', 'pre:tok:wares', 'hyp:tok:restaurant', 'hyp:tok:casual', 'pre:tok:wineglass', 'hyp:tok:race', 'pre:tok:waves', 'hyp:tok:each', 'pre:tok:chopping', 'hyp:tok:cardboard', 'pre:tok:microphone', 'pre:tok:his', 'hyp:tok:knitting', 'hyp:tok:different', 'hyp:tok:rides', 'hyp:tok:touching', 'pre:tok:unicycle', 'hyp:tok:tie', 'pre:tok:jockey', 'pre:tok:pan', 'hyp:tok:desk', 'pre:tok:sits', 'hyp:tok:year', 'hyp:tok:above', 'hyp:tok:airport', 'hyp:tok:wading', 'hyp:tok:look', 'hyp:tok:booth', 'hyp:tok:backyard', 'pre:tok:behind', 'hyp:tok:climbs', 'hyp:tok:signs', 'pre:tok:fence', 'hyp:tok:walmart', 'hyp:tok:office', 'pre:tok:for', 'pre:tok:elephant', 'pre:tok:decorative', 'pre:tok:wash', 'hyp:tok:present', 'hyp:tok:vests', 'hyp:tok:vacation', 'hyp:tok:daughters', 'pre:tok:male', 'hyp:tok:winning', 'hyp:tok:girl', 'pre:tok:knife', 'pre:tok:front', 'pre:tok:red', 'pre:tok:wife', 'hyp:tok:beer', 'pre:tok:peace', 'pre:tok:suspenders', 'hyp:tok:racetrack', 'hyp:tok:pedaling', 'hyp:tok:waters', 'hyp:tok:harnesses', 'hyp:tok:riders', 'hyp:tok:sandwich', 'hyp:tok:sits', 'pre:tok:surfboard', 'hyp:tok:had', 'hyp:tok:guitars', 'pre:tok:chef', 'hyp:tok:kite', 'hyp:tok:falls', 'hyp:tok:drums', 'hyp:tok:nothing', 'hyp:tok:within', 'hyp:tok:5', 'pre:tok:dead', 'hyp:tok:other', 'hyp:tok:bedroom', 'pre:tok:rescue', 'hyp:tok:make', 'hyp:tok:saw', 'pre:tok:urban', 'hyp:tok:two', 'hyp:tok:bystanders', 'hyp:tok:elderly', 'pre:tok:heels', 'hyp:tok:vehicles', 'pre:tok:hits', 'hyp:tok:pipes', 'hyp:tok:protesting', 'hyp:tok:mural', 'pre:tok:baby', 'pre:tok:museum', 'hyp:tok:protection', 'hyp:tok:written', 'pre:tok:child', 'hyp:tok:kisses', 'hyp:tok:wheelchair', 'hyp:tok:song', 'hyp:tok:passed', 'pre:tok:cook', 'hyp:tok:surrounded', 'hyp:tok:car', 'pre:tok:street', 'pre:tok:birthday', 'pre:tok:courtyard', 'hyp:tok:and', 'hyp:tok:onlookers', 'pre:tok:vehicles', 'hyp:tok:couch', 'hyp:tok:body', 'hyp:tok:edge', 'pre:tok:stars', 'pre:tok:us', 'hyp:tok:house', 'hyp:tok:gun', 'hyp:tok:-', 'hyp:tok:atv', 'pre:tok:balcony', 'hyp:tok:cream', 'hyp:tok:women', 'hyp:tok:basketball', 'hyp:tok:cuts', 'pre:tok:all', 'hyp:tok:driving', 'hyp:tok:greyhound', 'pre:tok:clear', 'hyp:tok:east', 'hyp:tok:chainsaw', 'hyp:tok:snowshoes', 'pre:tok:into', 'hyp:tok:one', 'hyp:tok:play', 'pre:tok:basketball', 'pre:tok:rowboat', 'pre:tok:cup', 'pre:tok:track', 'hyp:tok:pocket', 'pre:tok:railing', 'hyp:tok:instruments', 'pre:tok:ball', 'pre:tok:photographs', 'hyp:tok:climbing', 'pre:tok:remote', 'pre:tok:shooting', 'hyp:tok:field', 'pre:tok:gentleman', 'hyp:tok:walk', 'pre:tok:four', 'hyp:tok:chef', 'hyp:tok:by', 'pre:tok:in', 'pre:tok:yelling', 'hyp:tok:small', 'hyp:tok:toward', 'hyp:tok:everyone', 'pre:tok:style', 'pre:tok:chairs', 'pre:tok:listens', 'hyp:tok:cleaning', 'hyp:tok:courtyard', 'pre:tok:hit', 'pre:tok:hair', 'hyp:tok:picnic', 'hyp:tok:shade', 'hyp:tok:sleeved', 'hyp:tok:strike', 'pre:tok:while', 'pre:tok:vacation', 'pre:tok:gym', 'hyp:tok:mid', 'pre:tok:game', 'hyp:tok:bank', 'hyp:tok:kissing', 'hyp:tok:stopped', 'pre:tok:nose', 'pre:tok:winter', 'pre:tok:building', 'hyp:tok:step', 'hyp:tok:dishes', 'pre:tok:colorful', 'pre:tok:apartment', 'hyp:tok:discussing', 'hyp:tok:conductor', 'hyp:tok:phone', 'hyp:tok:sofa', 'pre:tok:race', 'pre:tok:win', 'pre:tok:castle', 'pre:tok:him', 'hyp:tok:microscope', 'pre:tok:learning', 'hyp:tok:old', 'hyp:tok:shooting', 'pre:tok:cleaning', 'pre:tok:fetch', 'hyp:tok:halloween', 'hyp:tok:photographing', 'hyp:tok:girls', 'hyp:tok:red', 'pre:tok:attempting', 'pre:tok:similar', 'pre:tok:eight', 'pre:tok:flowers', 'hyp:tok:lunch', 'pre:tok:cherry', 'oth:overlap:overlap75', 'hyp:tok:stool', 'pre:tok:scarves', 'pre:tok:digging', 'pre:tok:pick', 'hyp:tok:drinking', 'pre:tok:staring', 'hyp:tok:rowing', 'hyp:tok:for', 'pre:tok:together', 'hyp:tok:glass', 'hyp:tok:ft', 'hyp:tok:hydrant', 'hyp:tok:park', 'pre:tok:some', 'hyp:tok:ring', 'pre:tok:skates', 'pre:tok:leaping', 'pre:tok:ramp', 'pre:tok:babies', 'hyp:tok:daughter', 'pre:tok:traveling', 'pre:tok:shown', 'pre:tok:rainy', 'hyp:tok:brother', 'pre:tok:other', 'pre:tok:blocking', 'hyp:tok:his', 'hyp:tok:blows', 'hyp:tok:cat', 'pre:tok:else', 'hyp:tok:acoustic', 'pre:tok:males', 'hyp:tok:cow', 'hyp:tok:screaming', 'pre:tok:helps', 'hyp:tok:carrot', 'pre:tok:gentlemen', 'pre:tok:person', 'hyp:tok:international', 'hyp:tok:chinese', 'pre:tok:puts', 'pre:tok:diaper', 'hyp:tok:are', 'pre:tok:bathing', 'hyp:tok:balding', 'pre:tok:sport', 'pre:tok:instruments', 'hyp:tok:pick', 'hyp:tok:horses', 'pre:tok:walked', 'pre:tok:company', 'hyp:tok:hair', 'hyp:tok:at', 'hyp:tok:among', 'pre:tok:tables', 'hyp:tok:before', \"pre:tok:'s\", 'pre:tok:trunks', 'pre:tok:stool', 'pre:tok:form', 'hyp:tok:buildings', 'hyp:tok:rocky', 'hyp:tok:rink', 'hyp:tok:walkway', 'pre:tok:angry', 'hyp:tok:arms', 'hyp:tok:catching', 'hyp:tok:moving', 'pre:tok:people', 'hyp:tok:seems', 'pre:tok:leaf', 'hyp:tok:rope', 'pre:tok:she', 'hyp:tok:produce', 'pre:tok:down', 'hyp:tok:balance', 'hyp:tok:sit', 'pre:tok:terrain', 'hyp:tok:television', 'hyp:tok:festival', 'hyp:tok:sound', 'pre:tok:another', 'pre:tok:parents', 'hyp:tok:short', 'pre:tok:one', 'pre:tok:suit', 'hyp:tok:trunks', 'hyp:tok:straight', 'hyp:tok:apartment', 'hyp:tok:duck', 'hyp:tok:tips', 'pre:tok:flags', 'hyp:tok:crime', 'pre:tok:tv', 'pre:tok:sound', 'hyp:tok:alone', 'pre:tok:strike', 'pre:tok:yarn', 'hyp:tok:silver', 'hyp:tok:drinks', 'hyp:tok:cliff', 'pre:tok:toys', 'hyp:tok:next', 'pre:tok:racing', 'pre:tok:walks', 'hyp:tok:bamboo', 'hyp:tok:bare', 'pre:tok:owner', 'hyp:tok:surfing', 'hyp:tok:baseball', 'hyp:tok:with', 'hyp:tok:it', 'hyp:tok:mouths', 'hyp:tok:boards', 'hyp:tok:laying', 'pre:tok:pet', 'pre:tok:kite', 'hyp:tok:legs', 'hyp:tok:backpack', 'pre:tok:upset', 'hyp:tok:orchestra', 'pre:tok:pots', 'hyp:tok:fingers', 'pre:tok:golfer', 'hyp:tok:ledge', 'hyp:tok:below', 'oth:overlap:overlap25', 'hyp:tok:left', 'pre:tok:bicyclists', 'hyp:tok:black', 'hyp:tok:bathrobe', 'pre:tok:shepherd', 'hyp:tok:vehicle', 'hyp:tok:hot', 'hyp:tok:mother', 'pre:tok:are', 'pre:tok:numbers', 'hyp:tok:rollerblading', 'pre:tok:belt', 'hyp:tok:throws', 'hyp:tok:empty', 'hyp:tok:crowded', 'pre:tok:yellow', 'pre:tok:camping', 'hyp:tok:family', 'hyp:tok:garage', 'hyp:tok:tag', 'pre:tok:beach', 'hyp:tok:store', 'pre:tok:book', 'hyp:tok:water', 'hyp:tok:skate', 'hyp:tok:bikes', 'pre:tok:mural', 'hyp:tok:ocean', 'pre:tok:farmers', 'pre:tok:sleeping', 'hyp:tok:ramp', 'pre:tok:transportation', 'pre:tok:sandals', 'hyp:tok:heels', 'pre:tok:crane', 'hyp:tok:cheerleading', 'hyp:tok:painting', 'pre:tok:starting', 'hyp:tok:begins', 'hyp:tok:classroom', 'hyp:tok:pillow', 'hyp:tok:way', 'hyp:tok:tube', 'hyp:tok:bowls', 'hyp:tok:elephant', 'pre:tok:stairs', 'pre:tok:naked', 'pre:tok:cool', 'hyp:tok:parking', 'pre:tok:bucket', 'hyp:tok:tennis', 'pre:tok:fallen', 'hyp:tok:chicken', 'hyp:tok:6', 'hyp:tok:doors', 'pre:tok:includes', 'pre:tok:few', 'hyp:tok:friends', 'hyp:tok:wearing', 'pre:tok:against', 'pre:tok:playing', 'hyp:tok:ground', 'hyp:tok:fan', 'pre:tok:grocery', 'hyp:tok:been', 'pre:tok:singer', 'hyp:tok:boys', 'hyp:tok:finished', 'hyp:tok:pots', 'hyp:tok:audience', 'pre:tok:stringed', 'hyp:tok:dancers', 'pre:tok:shaving', 'pre:tok:sandwich', 'hyp:tok:dancing', 'pre:tok:rock', 'hyp:tok:tall', 'pre:tok:surfing', 'hyp:tok:wrapped', 'pre:tok:snow', 'hyp:tok:river', 'hyp:tok:court', 'hyp:tok:multiple', 'hyp:tok:though', 'pre:tok:!', 'pre:tok:chinese', 'hyp:tok:sad', 'pre:tok:father', 'pre:tok:going', 'hyp:tok:flies', 'hyp:tok:obstacle', 'hyp:tok:filled', 'pre:tok:husband', 'hyp:tok:appears', 'hyp:tok:finishing', 'pre:tok:bench', 'pre:tok:weather', 'pre:tok:masks', 'hyp:tok:video', 'pre:tok:line', 'hyp:tok:tables', 'hyp:tok:handing', 'pre:tok:goggles', 'hyp:tok:pet', 'hyp:tok:apron', 'pre:tok:sitting', 'pre:tok:and', 'pre:tok:bicycles', 'hyp:tok:cloudy', 'pre:tok:farmer', 'pre:tok:muddy', 'pre:tok:popsicle', 'hyp:tok:doctors', 'pre:tok:jumped', 'pre:tok:upwards', 'hyp:tok:museum', 'hyp:tok:group', 'pre:tok:climbs', 'pre:tok:uniformed', 'pre:tok:little', 'hyp:tok:coffee', 'hyp:tok:countryside', 'pre:tok:musicians', 'hyp:tok:musical', 'pre:tok:act', 'pre:tok:this', 'hyp:tok:burning', 'pre:tok:goat', 'hyp:tok:waist', 'hyp:tok:bed', 'hyp:tok:teen', 'hyp:tok:clothed', 'pre:tok:everywhere', 'hyp:tok:lime', 'hyp:tok:singing', 'pre:tok:open', 'hyp:tok:sweater', 'hyp:tok:religious', 'hyp:tok:denim', 'pre:tok:tea', 'pre:tok:items', 'hyp:tok:chewing', 'pre:tok:blanket', 'hyp:tok:lake', 'hyp:tok:grassy', 'pre:tok:groom', 'hyp:tok:blonde', 'hyp:tok:angry', 'pre:tok:bike', 'hyp:tok:about', 'hyp:tok:flip', 'pre:tok:biker', 'hyp:tok:activity', 'hyp:tok:desks', 'hyp:tok:shopping', 'hyp:tok:free', 'hyp:tok:last', 'pre:tok:tie', 'pre:tok:stage', 'pre:tok:hydrant', 'hyp:tok:chess', 'hyp:tok:directing', 'pre:tok:near', 'hyp:tok:this', 'hyp:tok:soccer', 'pre:tok:sunny', 'hyp:tok:diving', 'hyp:tok:bicycle', 'hyp:tok:soup', 'hyp:tok:gesturing', 'hyp:tok:farmer', 'pre:tok:looking', 'pre:tok:river', 'hyp:tok:white', 'hyp:tok:groups', 'hyp:tok:tired', 'pre:tok:its', 'hyp:tok:accordion', 'pre:tok:diner', 'hyp:tok:haired', 'hyp:tok:surfboard', 'hyp:tok:deer', 'pre:tok:playground', 'pre:tok:corn', 'pre:tok:her', 'hyp:tok:yelling', 'hyp:tok:her', 'hyp:tok:playing', 'hyp:tok:enjoying', 'hyp:tok:lamp', 'hyp:tok:complete', 'hyp:tok:woods', 'hyp:tok:lab', 'pre:tok:enter', 'hyp:tok:through', 'hyp:tok:clean', 'pre:tok:alone', 'hyp:tok:barefoot', 'hyp:tok:volleyball', 'hyp:tok:brushes', 'pre:tok:food', 'hyp:tok:eats', 'hyp:tok:lumberjack', 'hyp:tok:sunlight', 'hyp:tok:kitchen', 'pre:tok:duck', 'pre:tok:holding', 'hyp:tok:scouts', 'pre:tok:clock', 'hyp:tok:closed', 'hyp:tok:subway', 'pre:tok:gathering', 'hyp:tok:science', 'pre:tok:lemons', 'pre:tok:slope', 'hyp:tok:shoe', 'pre:tok:tank', 'pre:tok:puddle', 'hyp:tok:bows', 'hyp:tok:instructor', 'hyp:tok:turns', 'hyp:tok:on', 'pre:tok:only', 'pre:tok:working', 'pre:tok:moon', 'hyp:tok:bottom', 'pre:tok:put', 'pre:tok:tips', 'pre:tok:lady', 'hyp:tok:racing', 'hyp:tok:middle', 'pre:tok:swimming', 'hyp:tok:sleeps', 'hyp:tok:carving', 'hyp:tok:there', 'hyp:tok:picture', 'pre:tok:individual', 'pre:tok:coat', 'hyp:tok:formal', 'hyp:tok:coach', 'pre:tok:students', 'hyp:tok:any', 'hyp:tok:chair', 'hyp:tok:bent', 'hyp:tok:exercising', 'pre:tok:conducting', 'hyp:tok:seated', 'hyp:tok:crane', 'hyp:tok:groom', 'hyp:tok:wood', 'hyp:tok:talks', 'hyp:tok:pointed', 'hyp:tok:music', 'pre:tok:old', 'pre:tok:fight', 'hyp:tok:cows', 'pre:tok:group', 'pre:tok:shoulders', 'hyp:tok:smiling', 'hyp:tok:swimsuit', 'pre:tok:ready', 'pre:tok:stand', 'hyp:tok:kid', 'hyp:tok:upright', 'hyp:tok:tops', 'hyp:tok:sister', 'hyp:tok:lighting', 'pre:tok:road', 'pre:tok:large', 'pre:tok:fun', 'pre:tok:dump', 'pre:tok:folding', 'hyp:tok:chain', 'pre:tok:hug', 'pre:tok:spray', 'pre:tok:practice', 'hyp:tok:gymnasium', 'hyp:tok:cats', 'pre:tok:shadow', 'pre:tok:skate', 'hyp:tok:watching', 'pre:tok:picking', 'hyp:tok:tea', 'pre:tok:land', 'pre:tok:guitar', 'hyp:tok:building', 'hyp:tok:down', 'hyp:tok:project', 'hyp:tok:during', 'hyp:tok:various', 'pre:tok:creating', 'pre:tok:to', 'pre:tok:field', 'pre:tok:hangs', 'pre:tok:heading', 'pre:tok:ground', 'hyp:tok:jean', 'pre:tok:jean', 'hyp:tok:played', 'pre:tok:competition', 'hyp:tok:laundromat', 'hyp:tok:convertible', 'pre:tok:raises', 'hyp:tok:humans', 'pre:tok:studio', 'pre:tok:couple', 'pre:tok:wild', 'pre:tok:telling', 'pre:tok:candy', 'hyp:tok:trying', 'pre:tok:supermarket', 'hyp:tok:cafe', 'hyp:tok:bowl', 'hyp:tok:lap', 'pre:tok:activity', 'hyp:tok:traditional', 'hyp:tok:whilst', 'pre:tok:nutcracker', 'hyp:tok:fighting', 'hyp:tok:milk', 'hyp:tok:object', 'hyp:tok:sandals', 'hyp:tok:derby', 'hyp:tok:squatting', 'pre:tok:profile', 'hyp:tok:concert', 'hyp:tok:pulled', 'hyp:tok:blouse', 'hyp:tok:number', 'hyp:tok:their', 'pre:tok:;', 'pre:tok:surf', 'hyp:tok:protecting', 'hyp:tok:swing', 'hyp:tok:name', 'hyp:tok:creating', 'hyp:tok:space', 'hyp:tok:up', 'pre:tok:wig', 'hyp:tok:friend', 'hyp:tok:boy', 'hyp:tok:rowboat', 'hyp:tok:green', 'hyp:tok:opponent', 'hyp:tok:suburban', 'pre:tok:motorcyclists', 'pre:tok:television', 'hyp:tok:wetsuit', 'hyp:tok:wares', 'pre:tok:dress', 'hyp:tok:image', 'hyp:tok:observe', 'pre:tok:word', 'hyp:tok:teenagers', 'hyp:tok:popsicle', 'pre:tok:park', 'hyp:tok:swims', 'hyp:tok:helmet', 'hyp:tok:championship', 'hyp:tok:bridal', 'hyp:tok:referee', 'hyp:tok:blue', 'hyp:tok:adults', 'pre:tok:marathon', 'hyp:tok:hang', 'hyp:tok:sticks', 'pre:tok:below', 'hyp:tok:puddle', 'hyp:tok:wooden', 'pre:tok:night', 'pre:tok:kiss', 'pre:tok:is', 'pre:tok:i', 'hyp:tok:control', 'hyp:tok:microphone', 'pre:tok:woman', 'pre:tok:multiple', 'hyp:tok:packages', 'hyp:tok:hooded', 'hyp:tok:shoot', 'pre:tok:raining', 'hyp:tok:bikini', 'hyp:tok:shops', 'pre:tok:lay', 'hyp:tok:pictured', 'pre:tok:turns', 'pre:tok:converse', 'hyp:tok:to', 'pre:tok:pose', 'hyp:tok:sandwiches', 'pre:tok:body', 'hyp:tok:barbecue', 'pre:tok:camera', 'hyp:tok:skirts', 'hyp:tok:hoping', 'pre:tok:crafts', 'hyp:tok:i', 'hyp:tok:magazine', 'hyp:tok:past', 'pre:tok:boardwalk', 'pre:tok:ceremony', 'pre:tok:desks', 'pre:tok:use', 'pre:tok:resting', 'hyp:tok:gather', 'pre:tok:benches', 'hyp:tok:come', 'hyp:tok:spinning', 'pre:tok:up', 'hyp:tok:cross', 'hyp:tok:unicycle', 'pre:tok:outside', 'pre:tok:gesturing', 'hyp:tok:bath', 'hyp:tok:outer', 'pre:tok:painted', 'pre:tok:practicing', 'pre:tok:shade', 'pre:tok:toddler', 'pre:tok:see', 'pre:tok:tee', 'hyp:tok:skater', 'pre:tok:women', 'hyp:tok:chasing', 'hyp:tok:clouds', 'hyp:tok:dogs', 'hyp:tok:fetch', 'pre:tok:set', 'hyp:tok:displaying', 'hyp:tok:tutu', 'hyp:tok:cigarette', 'pre:tok:riding', 'pre:tok:giant', 'hyp:tok:running', 'pre:tok:bicycle', 'pre:tok:chess', 'hyp:tok:station', 'hyp:tok:relax', 'pre:tok:laundromat', 'pre:tok:headscarf', 'pre:tok:army', 'pre:tok:older', 'hyp:tok:shaped', 'pre:tok:warehouse', 'hyp:tok:snowman', 'pre:tok:mall', 'pre:tok:trains', 'hyp:tok:break', 'hyp:tok:trick', 'pre:tok:match', 'pre:tok:native', 'hyp:tok:face', 'pre:tok:forehead', 'hyp:tok:hardware', 'hyp:tok:jet', 'hyp:tok:inside', 'pre:tok:got', 'pre:tok:makeup', 'hyp:tok:train', 'pre:tok:hikers', 'hyp:tok:costumed', 'hyp:tok:from', 'pre:tok:lane', 'hyp:tok:tourists', 'pre:tok:tunnel', 'hyp:tok:artwork', 'hyp:tok:jumping', 'hyp:tok:getting', 'hyp:tok:course', 'pre:tok:prepare', 'pre:tok:photographed', 'hyp:tok:trip', 'pre:tok:background', 'hyp:tok:jumped', 'hyp:tok:has', 'pre:tok:tray', 'hyp:tok:guitar', 'hyp:tok:photographs', 'pre:tok:dressed', 'pre:tok:through', 'pre:tok:glass', 'pre:tok:garage', 'hyp:tok:belt', 'pre:tok:two', 'pre:tok:watching', 'pre:tok:husky', 'hyp:tok:cars', 'pre:tok:china', 'hyp:tok:inline', 'hyp:tok:12', 'pre:tok:their', 'oth:overlap:overlap50', 'hyp:tok:bar', 'hyp:tok:tan', 'hyp:tok:stars', 'pre:tok:business', 'hyp:tok:dance', 'hyp:tok:shirt', 'hyp:tok:elder', 'hyp:tok:you', 'hyp:tok:swim', 'hyp:tok:spray', 'hyp:tok:than', 'pre:tok:photographer', 'pre:tok:jogging', 'hyp:tok:uniformed', 'pre:tok:off', 'hyp:tok:something', 'hyp:tok:young', 'hyp:tok:snowball', 'pre:tok:works', 'pre:tok:laboratory', 'hyp:tok:muddy', 'pre:tok:brown', 'pre:tok:indoor', 'hyp:tok:child', 'hyp:tok:happy', 'pre:tok:play', 'pre:tok:pipe', 'hyp:tok:softball', 'pre:tok:dirt', 'pre:tok:lap', 'hyp:tok:sides', 'hyp:tok:pitcher', 'hyp:tok:wheeled', 'hyp:tok:chases', 'pre:tok:hiding', 'hyp:tok:pets', 'hyp:tok:bride', 'pre:tok:cooks', 'hyp:tok:napping', 'hyp:tok:seven', 'hyp:tok:backwards', 'hyp:tok:customer', 'pre:tok:conversation', 'hyp:tok:art', 'pre:tok:karate', 'hyp:tok:surf', 'pre:tok:snowman', 'hyp:tok:clothing', 'pre:tok:guitars', 'hyp:tok:dingy', 'hyp:tok:paddle', 'hyp:tok:indian', 'hyp:tok:run', 'hyp:tok:ball', 'hyp:tok:man', 'hyp:tok:waitress', 'hyp:tok:some', 'hyp:tok:men', 'hyp:tok:moon', 'hyp:tok:parade', 'pre:tok:buy', 'hyp:tok:airplane', 'pre:tok:than', 'hyp:tok:clothes', 'hyp:tok:khaki', 'hyp:tok:push', 'hyp:tok:tractor', 'hyp:tok:crying', 'pre:tok:fly', 'hyp:tok:fishing', 'hyp:tok:pub', 'hyp:tok:watched', 'hyp:tok:bottoms', 'pre:tok:thinking', 'pre:tok:doctors', 'hyp:tok:machine', 'hyp:tok:wild', 'hyp:tok:gathered', 'hyp:tok:stroll', 'hyp:tok:instrument', 'hyp:tok:pants', 'pre:tok:casual', 'pre:tok:course', 'hyp:tok:maintenance', 'hyp:tok:motor', 'pre:tok:closed', 'pre:tok:among', 'hyp:tok:no', 'pre:tok:structure', 'pre:tok:neighborhood', 'pre:tok:performs', 'pre:tok:too', 'pre:tok:lost', 'pre:tok:cats', 'hyp:tok:rolled', 'hyp:tok:walks', 'hyp:tok:girlfriend', 'hyp:tok:sport', 'hyp:tok:clear', 'hyp:tok:inflatable', 'hyp:tok:costumes', 'hyp:tok:plays', 'pre:tok:boards', 'hyp:tok:into', 'pre:tok:artwork', 'pre:tok:gets', 'pre:tok:pulled', 'hyp:tok:ears', 'pre:tok:least', 'pre:tok:on', 'pre:tok:sister', 'hyp:tok:toy', 'hyp:tok:they', 'hyp:tok:lying', 'hyp:tok:visiting', 'hyp:tok:robe', 'hyp:tok:mask', 'pre:tok:concrete', 'pre:tok:numbered', 'hyp:tok:move', 'pre:tok:excited', 'pre:tok:reads', 'pre:tok:happy', 'hyp:tok:outside', 'pre:tok:lake', 'hyp:tok:around', 'pre:tok:crossing', 'hyp:tok:competition', 'pre:tok:shoot', 'pre:tok:jet', 'pre:tok:ballet', 'hyp:tok:golden', 'hyp:tok:toothbrush', 'pre:tok:performers', 'hyp:tok:fixing', 'hyp:tok:riding', 'pre:tok:experiment', 'hyp:tok:poor', 'pre:tok:sides', 'hyp:tok:suv', 'hyp:tok:backpacks', 'pre:tok:white', 'hyp:tok:trail', 'hyp:tok:bikers', 'pre:tok:carriage', 'pre:tok:talks', 'hyp:tok:brunette', \"hyp:tok:n't\", 'hyp:tok:full', 'hyp:tok:without', 'pre:tok:steel', 'hyp:tok:clock', 'pre:tok:married', 'hyp:tok:woman', 'pre:tok:gives', 'pre:tok:concert', 'hyp:tok:chatting', 'pre:tok:protecting', 'hyp:tok:rival', 'pre:tok:tools', 'pre:tok:propeller', 'pre:tok:shark', 'hyp:tok:school', 'hyp:tok:beam', 'pre:tok:auditorium', 'hyp:tok:person', 'pre:tok:get', 'pre:tok:pier', 'hyp:tok:furniture', 'hyp:tok:human', 'pre:tok:skateboarding', 'hyp:tok:cooking', 'pre:tok:enthusiasts', 'hyp:tok:outdoors', 'hyp:tok:church', 'pre:tok:with', 'pre:tok:females'}"
   ]
  },
  {
   "cell_type": "code",
   "execution_count": 67,
   "id": "3306c5f1",
   "metadata": {},
   "outputs": [],
   "source": [
    "for k,v in asisnoprune.items():\n",
    "    for ele in v:\n",
    "        assert ele in arrangesnoprune"
   ]
  },
  {
   "cell_type": "code",
   "execution_count": 155,
   "id": "0d1b6fed",
   "metadata": {},
   "outputs": [],
   "source": [
    "d = {0: 1, 2001: 1, 4000: 0.11917659804983749, 4: 0.11740297778862582, 6: 0.11693325979040264, 783: 0.11209006363191386, 300: 0.11209006363191386, 3: 0.11209006363191386, 2: 0.1108305983337541, 1: 0.10934604183214192, 2005: 0.10261456283384875, 2002: 0.1005586592178771}\n"
   ]
  },
  {
   "cell_type": "code",
   "execution_count": 170,
   "id": "23fa18f6",
   "metadata": {},
   "outputs": [],
   "source": [
    "from collections import Counter, defaultdict\n",
    "best_noncomp = Counter(d).most_common()"
   ]
  },
  {
   "cell_type": "code",
   "execution_count": 169,
   "id": "5fc80721",
   "metadata": {},
   "outputs": [],
   "source": [
    "best_noncomp=[i for i in best_noncomp if i[1] == best_noncomp[0][1]]"
   ]
  },
  {
   "cell_type": "code",
   "execution_count": 171,
   "id": "cdfbcce7",
   "metadata": {},
   "outputs": [
    {
     "data": {
      "text/plain": [
       "[(0, 1),\n",
       " (2001, 1),\n",
       " (4000, 0.11917659804983749),\n",
       " (4, 0.11740297778862582),\n",
       " (6, 0.11693325979040264),\n",
       " (783, 0.11209006363191386),\n",
       " (300, 0.11209006363191386),\n",
       " (3, 0.11209006363191386),\n",
       " (2, 0.1108305983337541),\n",
       " (1, 0.10934604183214192),\n",
       " (2005, 0.10261456283384875),\n",
       " (2002, 0.1005586592178771)]"
      ]
     },
     "execution_count": 171,
     "metadata": {},
     "output_type": "execute_result"
    }
   ],
   "source": [
    "best_noncomp"
   ]
  },
  {
   "cell_type": "code",
   "execution_count": 158,
   "id": "4ba3043c",
   "metadata": {},
   "outputs": [
    {
     "data": {
      "text/plain": [
       "[(0, 1),\n",
       " (2001, 1),\n",
       " (4000, 0.11917659804983749),\n",
       " (4, 0.11740297778862582),\n",
       " (6, 0.11693325979040264),\n",
       " (3, 0.11209006363191386),\n",
       " (300, 0.11209006363191386),\n",
       " (783, 0.11209006363191386),\n",
       " (2, 0.1108305983337541),\n",
       " (1, 0.10934604183214192),\n",
       " (2005, 0.10261456283384875),\n",
       " (2002, 0.1005586592178771)]"
      ]
     },
     "execution_count": 158,
     "metadata": {},
     "output_type": "execute_result"
    }
   ],
   "source": [
    "sorted_items = sorted(d.items(), key=lambda x: (-x[1], x[0]))\n",
    "while i < len(sorted_items):\n",
    "    val = sorted_items[i][1]\n",
    "    while "
   ]
  },
  {
   "cell_type": "code",
   "execution_count": 149,
   "id": "cc93b8cd",
   "metadata": {},
   "outputs": [
    {
     "name": "stdout",
     "output_type": "stream",
     "text": [
      "[(0, 1), (2001, 1), (4000, 0.11917659804983749), (4, 0.11740297778862582), (6, 0.11693325979040264), (3, 0.11209006363191386), (300, 0.11209006363191386), (783, 0.11209006363191386)]\n"
     ]
    }
   ],
   "source": [
    "d = {0: 1, 2001: 1, 4000: 0.11917659804983749, 4: 0.11740297778862582, 6: 0.11693325979040264, 783: 0.11209006363191386, 300: 0.11209006363191386, 3: 0.11209006363191386, 2: 0.1108305983337541, 1: 0.10934604183214192, 2005: 0.10261456283384875, 2002: 0.1005586592178771}\n",
    "\n",
    "# Sort the dictionary by values in descending order and then by keys in ascending order if values are equal\n",
    "sorted_items = sorted(d.items(), key=lambda x: (-x[1], x[0]))\n",
    "\n",
    "# Collect the top 6 entries with the highest values\n",
    "result = []\n",
    "i = 0\n",
    "while len(result) <= 6:\n",
    "    value = sorted_items[i][1]\n",
    "    # Collect all keys with the current value\n",
    "    while sorted_items[i][1] == value:\n",
    "        result.append((sorted_items[i][0],sorted_items[i][1]))\n",
    "        i += 1\n",
    "\n",
    "# Print the result\n",
    "print(result)\n"
   ]
  },
  {
   "cell_type": "code",
   "execution_count": 130,
   "id": "8e5aeb20",
   "metadata": {},
   "outputs": [
    {
     "data": {
      "text/plain": [
       "{1: [0, 2001],\n",
       " 0.11917659804983749: [4000],\n",
       " 0.11740297778862582: [4],\n",
       " 0.11693325979040264: [6],\n",
       " 0.11209006363191386: [3],\n",
       " 0.1108305983337541: [2],\n",
       " 0.10934604183214192: [1],\n",
       " 0.10261456283384875: [2005],\n",
       " 0.1005586592178771: [2002]}"
      ]
     },
     "execution_count": 130,
     "metadata": {},
     "output_type": "execute_result"
    }
   ],
   "source": []
  },
  {
   "cell_type": "code",
   "execution_count": 131,
   "id": "bf647b25",
   "metadata": {},
   "outputs": [
    {
     "ename": "TypeError",
     "evalue": "unhashable type: 'list'",
     "output_type": "error",
     "traceback": [
      "\u001b[0;31m---------------------------------------------------------------------------\u001b[0m",
      "\u001b[0;31mTypeError\u001b[0m                                 Traceback (most recent call last)",
      "Cell \u001b[0;32mIn[131], line 1\u001b[0m\n\u001b[0;32m----> 1\u001b[0m {n[k]:k \u001b[38;5;28;01mfor\u001b[39;00m k \u001b[38;5;129;01min\u001b[39;00m n\u001b[38;5;241m.\u001b[39mkeys()}\n",
      "Cell \u001b[0;32mIn[131], line 1\u001b[0m, in \u001b[0;36m<dictcomp>\u001b[0;34m(.0)\u001b[0m\n\u001b[0;32m----> 1\u001b[0m {n[k]:k \u001b[38;5;28;01mfor\u001b[39;00m k \u001b[38;5;129;01min\u001b[39;00m n\u001b[38;5;241m.\u001b[39mkeys()}\n",
      "\u001b[0;31mTypeError\u001b[0m: unhashable type: 'list'"
     ]
    }
   ],
   "source": []
  },
  {
   "cell_type": "code",
   "execution_count": 117,
   "id": "60152b7a",
   "metadata": {},
   "outputs": [
    {
     "data": {
      "text/plain": [
       "[(0.11917659804983749, [4000]),\n",
       " (0.10261456283384875, [2005]),\n",
       " (0.1005586592178771, [2002]),\n",
       " (0.11693325979040264, [6]),\n",
       " (0.11740297778862582, [4]),\n",
       " (0.11209006363191386, [3])]"
      ]
     },
     "execution_count": 117,
     "metadata": {},
     "output_type": "execute_result"
    }
   ],
   "source": [
    "Counter(n).most_common(6)"
   ]
  },
  {
   "cell_type": "code",
   "execution_count": null,
   "id": "6ad63954",
   "metadata": {},
   "outputs": [],
   "source": []
  }
 ],
 "metadata": {
  "kernelspec": {
   "display_name": "Python 3 (ipykernel)",
   "language": "python",
   "name": "python3"
  },
  "language_info": {
   "codemirror_mode": {
    "name": "ipython",
    "version": 3
   },
   "file_extension": ".py",
   "mimetype": "text/x-python",
   "name": "python",
   "nbconvert_exporter": "python",
   "pygments_lexer": "ipython3",
   "version": "3.8.10"
  }
 },
 "nbformat": 4,
 "nbformat_minor": 5
}
