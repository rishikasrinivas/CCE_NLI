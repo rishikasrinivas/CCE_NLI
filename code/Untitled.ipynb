{
 "cells": [
  {
   "cell_type": "code",
   "execution_count": 57,
   "id": "a7d3f241",
   "metadata": {},
   "outputs": [],
   "source": [
    "import torch\n",
    "import models,settings\n",
    "import numpy as np"
   ]
  },
  {
   "cell_type": "code",
   "execution_count": 58,
   "id": "a327c84d",
   "metadata": {},
   "outputs": [
    {
     "data": {
      "text/plain": [
       "<All keys matched successfully>"
      ]
     },
     "execution_count": 58,
     "metadata": {},
     "output_type": "execute_result"
    }
   ],
   "source": [
    "ckpt = torch.load(f\"../{settings.MODEL}\", map_location=\"cpu\")\n",
    "clf = models.BowmanEntailmentClassifier\n",
    "enc = models.TextEncoder(len(ckpt[\"stoi\"]))\n",
    "model=clf(enc)\n",
    "model.load_state_dict(ckpt['state_dict'])"
   ]
  },
  {
   "cell_type": "code",
   "execution_count": 40,
   "id": "e49553b2",
   "metadata": {},
   "outputs": [
    {
     "name": "stdout",
     "output_type": "stream",
     "text": [
      "tensor([[-0.6631,  1.0282,  0.0766, -0.3954],\n",
      "        [-1.7383, -0.3737, -0.1654,  1.2035]])\n"
     ]
    },
    {
     "data": {
      "text/plain": [
       "(tensor([[1., 0., 1.,  ..., 0., 0., 1.],\n",
       "         [1., 0., 1.,  ..., 0., 0., 0.],\n",
       "         [0., 1., 1.,  ..., 1., 0., 0.],\n",
       "         ...,\n",
       "         [1., 0., 1.,  ..., 0., 0., 0.],\n",
       "         [0., 0., 1.,  ..., 1., 0., 1.],\n",
       "         [1., 0., 0.,  ..., 0., 1., 1.]]),\n",
       " tensor([[ 0.1021,  0.0000, -0.1801,  ...,  0.0000,  0.0000,  0.1054],\n",
       "         [ 0.1023,  0.0000,  0.1012,  ...,  0.0000,  0.0000,  0.0000],\n",
       "         [ 0.0000, -0.0737,  0.1627,  ..., -0.0726,  0.0000,  0.0000],\n",
       "         ...,\n",
       "         [ 0.2561,  0.0000,  0.0704,  ...,  0.0000,  0.0000,  0.0000],\n",
       "         [ 0.0000,  0.0000, -0.1102,  ..., -0.1076,  0.0000, -0.4026],\n",
       "         [ 0.1069,  0.0000,  0.0000,  ...,  0.0000, -0.1041, -0.0549]]))"
      ]
     },
     "execution_count": 40,
     "metadata": {},
     "output_type": "execute_result"
    }
   ],
   "source": [
    "n=torch.randn(2,4)\n",
    "print(n)\n",
    "def prune_by_percent_once(percent, mask, final_weight):\n",
    "    # Put the weights that aren't masked out in sorted order.\n",
    "    sorted_weights = np.sort(np.abs(final_weight[mask != 0]))\n",
    "\n",
    "    # Determine the cutoff for weights to be pruned.\n",
    "    \n",
    "    cutoff_index = np.round(percent * sorted_weights.size).astype(int)\n",
    "    cutoff = sorted_weights[cutoff_index - 1] \n",
    "    # Prune all weights below the cutoff.\n",
    "    new_mask= torch.where(torch.abs(torch.tensor(final_weight)) <= cutoff, torch.zeros(mask.shape), mask)\n",
    "    \n",
    "    new_weights= torch.where(torch.abs(torch.tensor(final_weight)) <= cutoff, torch.zeros(mask.shape), torch.tensor(final_weight))\n",
    "    return new_mask, new_weights\n",
    "prune_by_percent_once(0.5, torch.ones(weights.shape),weights) "
   ]
  },
  {
   "cell_type": "code",
   "execution_count": 59,
   "id": "96bda9e4",
   "metadata": {},
   "outputs": [
    {
     "data": {
      "text/plain": [
       "<All keys matched successfully>"
      ]
     },
     "execution_count": 59,
     "metadata": {},
     "output_type": "execute_result"
    }
   ],
   "source": [
    "prune_metrics_dir = \"../models/snli/Inc/prune_metrics/0.5%Pruned/model_best.pth\"\n",
    "weights=torch.load(f\"{prune_metrics_dir}\")['state_dict']\n",
    "model.load_state_dict(weights)"
   ]
  },
  {
   "cell_type": "code",
   "execution_count": 60,
   "id": "40f81203",
   "metadata": {},
   "outputs": [
    {
     "data": {
      "text/plain": [
       "54.54999923706055"
      ]
     },
     "execution_count": 60,
     "metadata": {},
     "output_type": "execute_result"
    }
   ],
   "source": [
    "a=torch.where(model.mlp[0].weight==0,1,0).sum()/100\n",
    "a.item()"
   ]
  },
  {
   "cell_type": "code",
   "execution_count": 61,
   "id": "c6b478c6",
   "metadata": {},
   "outputs": [],
   "source": [
    "weights = model.mlp[0].weight.t().detach().cpu().numpy()"
   ]
  },
  {
   "cell_type": "code",
   "execution_count": 63,
   "id": "f2cd1c02",
   "metadata": {},
   "outputs": [],
   "source": [
    "nm,nw=prune_by_percent_once(0.5, torch.ones(weights.shape),weights) "
   ]
  },
  {
   "cell_type": "code",
   "execution_count": 130,
   "id": "d6668d2d",
   "metadata": {},
   "outputs": [],
   "source": [
    "mask=torch.ones(weights.shape)\n",
    "final_weight=np.sort(np.abs(weights>0)).astype('int')"
   ]
  },
  {
   "cell_type": "code",
   "execution_count": 64,
   "id": "4372d628",
   "metadata": {},
   "outputs": [
    {
     "data": {
      "text/plain": [
       "tensor([[ 0.1409,  0.0000, -0.1801,  ...,  0.0000,  0.0000,  0.1419],\n",
       "        [ 0.0905,  0.0000,  0.1012,  ...,  0.0000,  0.0000,  0.0000],\n",
       "        [ 0.0000, -0.0737,  0.1627,  ...,  0.0000,  0.0000,  0.0000],\n",
       "        ...,\n",
       "        [ 0.2711,  0.0000,  0.0704,  ...,  0.0000,  0.0000, -0.0821],\n",
       "        [ 0.0000,  0.0000, -0.1102,  ..., -0.2112,  0.0000, -0.4373],\n",
       "        [ 0.1016,  0.0000,  0.0000,  ..., -0.0884, -0.1041,  0.0000]])"
      ]
     },
     "execution_count": 64,
     "metadata": {},
     "output_type": "execute_result"
    }
   ],
   "source": [
    "model.mlp[0].weight.t().detach().cpu().copy(nw)"
   ]
  },
  {
   "cell_type": "code",
   "execution_count": 55,
   "id": "e3c6e191",
   "metadata": {},
   "outputs": [
    {
     "ename": "NameError",
     "evalue": "name 'final_weight' is not defined",
     "output_type": "error",
     "traceback": [
      "\u001b[0;31m---------------------------------------------------------------------------\u001b[0m",
      "\u001b[0;31mNameError\u001b[0m                                 Traceback (most recent call last)",
      "Cell \u001b[0;32mIn[55], line 1\u001b[0m\n\u001b[0;32m----> 1\u001b[0m a\u001b[38;5;241m=\u001b[39mtorch\u001b[38;5;241m.\u001b[39mwhere(torch\u001b[38;5;241m.\u001b[39mabs(torch\u001b[38;5;241m.\u001b[39mtensor(\u001b[43mfinal_weight\u001b[49m)) \u001b[38;5;241m==\u001b[39m \u001b[38;5;241m1\u001b[39m, torch\u001b[38;5;241m.\u001b[39mzeros(mask\u001b[38;5;241m.\u001b[39mshape), mask)\n",
      "\u001b[0;31mNameError\u001b[0m: name 'final_weight' is not defined"
     ]
    }
   ],
   "source": [
    "a=torch.where(torch.abs(torch.tensor(final_weight)) == 1, torch.zeros(mask.shape), mask)"
   ]
  },
  {
   "cell_type": "code",
   "execution_count": 65,
   "id": "000965de",
   "metadata": {},
   "outputs": [
    {
     "data": {
      "text/plain": [
       "True"
      ]
     },
     "execution_count": 65,
     "metadata": {},
     "output_type": "execute_result"
    }
   ],
   "source": [
    "torch.equal(model.mlp[0].weight.t().detach().cpu(),nw)"
   ]
  },
  {
   "cell_type": "code",
   "execution_count": 129,
   "id": "5d6df9e9",
   "metadata": {},
   "outputs": [
    {
     "data": {
      "text/plain": [
       "tensor(0.5000)"
      ]
     },
     "execution_count": 129,
     "metadata": {},
     "output_type": "execute_result"
    }
   ],
   "source": [
    "np.round((torch.where(model.mlp[0].weight.t()==0,1,0).sum()/(1024*2048)),1)"
   ]
  },
  {
   "cell_type": "code",
   "execution_count": null,
   "id": "2d51b808",
   "metadata": {},
   "outputs": [],
   "source": []
  }
 ],
 "metadata": {
  "kernelspec": {
   "display_name": "Python 3 (ipykernel)",
   "language": "python",
   "name": "python3"
  },
  "language_info": {
   "codemirror_mode": {
    "name": "ipython",
    "version": 3
   },
   "file_extension": ".py",
   "mimetype": "text/x-python",
   "name": "python",
   "nbconvert_exporter": "python",
   "pygments_lexer": "ipython3",
   "version": "3.8.10"
  }
 },
 "nbformat": 4,
 "nbformat_minor": 5
}
