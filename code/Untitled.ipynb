{
 "cells": [
  {
   "cell_type": "code",
   "execution_count": 47,
   "id": "85488ae7",
   "metadata": {},
   "outputs": [],
   "source": [
    "import torch\n",
    "import models,settings\n",
    "import numpy as np"
   ]
  },
  {
   "cell_type": "code",
   "execution_count": 106,
   "id": "c89b8c78",
   "metadata": {},
   "outputs": [
    {
     "data": {
      "text/plain": [
       "<All keys matched successfully>"
      ]
     },
     "execution_count": 106,
     "metadata": {},
     "output_type": "execute_result"
    }
   ],
   "source": [
    "ckpt = torch.load(f\"../{settings.MODEL}\", map_location=\"cpu\")\n",
    "clf = models.BowmanEntailmentClassifier\n",
    "enc = models.TextEncoder(len(ckpt[\"stoi\"]))\n",
    "model=clf(enc)\n",
    "model.load_state_dict(ckpt['state_dict'])"
   ]
  },
  {
   "cell_type": "code",
   "execution_count": 133,
   "id": "08302aad",
   "metadata": {},
   "outputs": [
    {
     "ename": "TypeError",
     "evalue": "Expected state_dict to be dict-like, got <class 'torch.Tensor'>.",
     "output_type": "error",
     "traceback": [
      "\u001b[0;31m---------------------------------------------------------------------------\u001b[0m",
      "\u001b[0;31mTypeError\u001b[0m                                 Traceback (most recent call last)",
      "Cell \u001b[0;32mIn[133], line 5\u001b[0m\n\u001b[1;32m      2\u001b[0m weights\u001b[38;5;241m=\u001b[39mtorch\u001b[38;5;241m.\u001b[39mload(\u001b[38;5;124mf\u001b[39m\u001b[38;5;124m\"\u001b[39m\u001b[38;5;132;01m{\u001b[39;00mprune_metrics_dir\u001b[38;5;132;01m}\u001b[39;00m\u001b[38;5;124m\"\u001b[39m)[\u001b[38;5;124m'\u001b[39m\u001b[38;5;124mstate_dict\u001b[39m\u001b[38;5;124m'\u001b[39m][\u001b[38;5;124m'\u001b[39m\u001b[38;5;124mmlp.0.weight\u001b[39m\u001b[38;5;124m'\u001b[39m]\n\u001b[1;32m      3\u001b[0m prev_total_pruned_amt\u001b[38;5;241m=\u001b[39mtorch\u001b[38;5;241m.\u001b[39mwhere(weights\u001b[38;5;241m==\u001b[39m\u001b[38;5;241m0\u001b[39m,\u001b[38;5;241m1\u001b[39m,\u001b[38;5;241m0\u001b[39m)\u001b[38;5;241m.\u001b[39msum()\n\u001b[0;32m----> 5\u001b[0m \u001b[43mmodel\u001b[49m\u001b[38;5;241;43m.\u001b[39;49m\u001b[43mload_state_dict\u001b[49m\u001b[43m(\u001b[49m\u001b[43mweights\u001b[49m\u001b[43m)\u001b[49m\n",
      "File \u001b[0;32m/usr/local/lib/python3.8/dist-packages/torch/nn/modules/module.py:1954\u001b[0m, in \u001b[0;36mModule.load_state_dict\u001b[0;34m(self, state_dict, strict)\u001b[0m\n\u001b[1;32m   1931\u001b[0m \u001b[38;5;250m\u001b[39m\u001b[38;5;124mr\u001b[39m\u001b[38;5;124;03m\"\"\"Copies parameters and buffers from :attr:`state_dict` into\u001b[39;00m\n\u001b[1;32m   1932\u001b[0m \u001b[38;5;124;03mthis module and its descendants. If :attr:`strict` is ``True``, then\u001b[39;00m\n\u001b[1;32m   1933\u001b[0m \u001b[38;5;124;03mthe keys of :attr:`state_dict` must exactly match the keys returned\u001b[39;00m\n\u001b[0;32m   (...)\u001b[0m\n\u001b[1;32m   1951\u001b[0m \u001b[38;5;124;03m    ``RuntimeError``.\u001b[39;00m\n\u001b[1;32m   1952\u001b[0m \u001b[38;5;124;03m\"\"\"\u001b[39;00m\n\u001b[1;32m   1953\u001b[0m \u001b[38;5;28;01mif\u001b[39;00m \u001b[38;5;129;01mnot\u001b[39;00m \u001b[38;5;28misinstance\u001b[39m(state_dict, Mapping):\n\u001b[0;32m-> 1954\u001b[0m     \u001b[38;5;28;01mraise\u001b[39;00m \u001b[38;5;167;01mTypeError\u001b[39;00m(\u001b[38;5;124m\"\u001b[39m\u001b[38;5;124mExpected state_dict to be dict-like, got \u001b[39m\u001b[38;5;132;01m{}\u001b[39;00m\u001b[38;5;124m.\u001b[39m\u001b[38;5;124m\"\u001b[39m\u001b[38;5;241m.\u001b[39mformat(\u001b[38;5;28mtype\u001b[39m(state_dict)))\n\u001b[1;32m   1956\u001b[0m missing_keys: List[\u001b[38;5;28mstr\u001b[39m] \u001b[38;5;241m=\u001b[39m []\n\u001b[1;32m   1957\u001b[0m unexpected_keys: List[\u001b[38;5;28mstr\u001b[39m] \u001b[38;5;241m=\u001b[39m []\n",
      "\u001b[0;31mTypeError\u001b[0m: Expected state_dict to be dict-like, got <class 'torch.Tensor'>."
     ]
    }
   ],
   "source": [
    "prune_metrics_dir = \"../models/bowman_snli/6.pth\"\n",
    "weights=torch.load(f\"{prune_metrics_dir}\")['state_dict']['mlp.0.weight']\n",
    "prev_total_pruned_amt=torch.where(weights==0,1,0).sum()\n",
    "\n",
    "model.load_state_dict(weights)"
   ]
  },
  {
   "cell_type": "code",
   "execution_count": 113,
   "id": "2ae78c2f",
   "metadata": {},
   "outputs": [],
   "source": [
    "weights = model.mlp[0].weight.t().detach().cpu().numpy()"
   ]
  },
  {
   "cell_type": "code",
   "execution_count": 114,
   "id": "52464de8",
   "metadata": {},
   "outputs": [
    {
     "data": {
      "text/plain": [
       "array([[ 0.1020597 ,  0.04020922, -0.18008865, ..., -0.02218907,\n",
       "        -0.02251127,  0.10539793],\n",
       "       [ 0.10230313,  0.00156967,  0.10115597, ...,  0.00161468,\n",
       "         0.03990527, -0.03830835],\n",
       "       [ 0.04028716, -0.07368106,  0.16273642, ..., -0.07258727,\n",
       "         0.02142162,  0.01602799],\n",
       "       ...,\n",
       "       [ 0.25605595,  0.03776345,  0.07038172, ...,  0.00953927,\n",
       "         0.01841197, -0.0531592 ],\n",
       "       [ 0.0333262 ,  0.05475619, -0.11017767, ..., -0.10764154,\n",
       "        -0.03854869, -0.40262905],\n",
       "       [ 0.1068556 , -0.00570201, -0.00749541, ..., -0.03318856,\n",
       "        -0.10414948, -0.05488989]], dtype=float32)"
      ]
     },
     "execution_count": 114,
     "metadata": {},
     "output_type": "execute_result"
    }
   ],
   "source": [
    "weights"
   ]
  },
  {
   "cell_type": "code",
   "execution_count": 130,
   "id": "534f484d",
   "metadata": {},
   "outputs": [],
   "source": [
    "mask=torch.ones(weights.shape)\n",
    "final_weight=np.sort(np.abs(weights>0)).astype('int')"
   ]
  },
  {
   "cell_type": "code",
   "execution_count": 131,
   "id": "77296b04",
   "metadata": {},
   "outputs": [
    {
     "data": {
      "text/plain": [
       "tensor([[1., 1., 1.,  ..., 1., 1., 1.],\n",
       "        [1., 1., 1.,  ..., 1., 1., 1.],\n",
       "        [1., 1., 1.,  ..., 1., 1., 1.],\n",
       "        ...,\n",
       "        [1., 1., 1.,  ..., 1., 1., 1.],\n",
       "        [1., 1., 1.,  ..., 1., 1., 1.],\n",
       "        [1., 1., 1.,  ..., 1., 1., 1.]])"
      ]
     },
     "execution_count": 131,
     "metadata": {},
     "output_type": "execute_result"
    }
   ],
   "source": [
    "mask"
   ]
  },
  {
   "cell_type": "code",
   "execution_count": 120,
   "id": "6bacd865",
   "metadata": {},
   "outputs": [],
   "source": [
    "a=torch.where(torch.abs(torch.tensor(final_weight)) == 1, torch.zeros(mask.shape), mask)"
   ]
  },
  {
   "cell_type": "code",
   "execution_count": 125,
   "id": "5cf9fff3",
   "metadata": {},
   "outputs": [
    {
     "data": {
      "text/plain": [
       "tensor([[ 1.3091,  0.1033, -0.3737,  ...,  0.0000,  0.0000,  0.0000],\n",
       "        [ 1.2211, -0.5964, -1.6174,  ...,  0.0000,  0.0000,  0.0000],\n",
       "        [-1.2485,  0.4992, -0.3649,  ...,  0.0000,  0.0000,  0.0000],\n",
       "        ...,\n",
       "        [-1.4813, -0.6652,  0.5357,  ...,  0.0000,  0.0000,  0.0000],\n",
       "        [ 0.2188,  1.4192,  0.1945,  ...,  0.0000,  0.0000,  0.0000],\n",
       "        [ 0.5796, -0.0526,  0.8584,  ...,  0.0000,  0.0000,  0.0000]])"
      ]
     },
     "execution_count": 125,
     "metadata": {},
     "output_type": "execute_result"
    }
   ],
   "source": [
    "model.mlp[0].weight.t().detach().cpu().copy_(a)"
   ]
  },
  {
   "cell_type": "code",
   "execution_count": 129,
   "id": "4b2a6dce",
   "metadata": {},
   "outputs": [
    {
     "data": {
      "text/plain": [
       "tensor(0.5000)"
      ]
     },
     "execution_count": 129,
     "metadata": {},
     "output_type": "execute_result"
    }
   ],
   "source": [
    "np.round((torch.where(model.mlp[0].weight.t()==0,1,0).sum()/(1024*2048)),1)"
   ]
  },
  {
   "cell_type": "code",
   "execution_count": null,
   "id": "342aeb26",
   "metadata": {},
   "outputs": [],
   "source": []
  }
 ],
 "metadata": {
  "kernelspec": {
   "display_name": "Python 3 (ipykernel)",
   "language": "python",
   "name": "python3"
  },
  "language_info": {
   "codemirror_mode": {
    "name": "ipython",
    "version": 3
   },
   "file_extension": ".py",
   "mimetype": "text/x-python",
   "name": "python",
   "nbconvert_exporter": "python",
   "pygments_lexer": "ipython3",
   "version": "3.8.10"
  }
 },
 "nbformat": 4,
 "nbformat_minor": 5
}
