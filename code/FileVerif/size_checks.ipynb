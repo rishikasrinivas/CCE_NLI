{
 "cells": [
  {
   "cell_type": "code",
   "execution_count": null,
   "id": "f26581dc",
   "metadata": {},
   "outputs": [],
   "source": []
  },
  {
   "cell_type": "code",
   "execution_count": 16,
   "id": "30e22f6c",
   "metadata": {},
   "outputs": [],
   "source": [
    "import torch,pickle\n",
    "original_model_weights = torch.load(\"original_model_weights.sav\")\n",
    "best_model_weights = torch.load(\"best_model_weights.sav\")"
   ]
  },
  {
   "cell_type": "code",
   "execution_count": 3,
   "id": "3759cb6c",
   "metadata": {},
   "outputs": [
    {
     "data": {
      "text/plain": [
       "tensor([[-0.6410,  0.5122, -1.0769,  ..., -0.4538,  1.2254,  0.1012],\n",
       "        [ 0.0000,  0.0000,  0.0000,  ...,  0.0000,  0.0000,  0.0000],\n",
       "        [ 1.0718, -0.8612, -0.4993,  ..., -0.0719, -0.4495,  0.0784],\n",
       "        ...,\n",
       "        [-1.5495,  1.0045, -0.3588,  ..., -0.5973,  1.3856,  0.4081],\n",
       "        [-0.5594,  0.6517,  0.7567,  ..., -2.4072, -0.6877, -0.9820],\n",
       "        [ 0.2240, -2.8621,  2.6664,  ...,  1.5311, -1.3813, -1.2170]],\n",
       "       device='cuda:0')"
      ]
     },
     "execution_count": 3,
     "metadata": {},
     "output_type": "execute_result"
    }
   ],
   "source": [
    "original_model_weights"
   ]
  },
  {
   "cell_type": "code",
   "execution_count": 4,
   "id": "b5c727aa",
   "metadata": {},
   "outputs": [
    {
     "data": {
      "text/plain": [
       "tensor([[-0.6410,  0.5122, -1.0769,  ..., -0.4538,  1.2254,  0.1012],\n",
       "        [ 0.0000,  0.0000,  0.0000,  ...,  0.0000,  0.0000,  0.0000],\n",
       "        [ 1.0198, -0.8565, -0.4784,  ..., -0.1318, -0.4502,  0.1097],\n",
       "        ...,\n",
       "        [-1.5495,  1.0045, -0.3588,  ..., -0.5973,  1.3856,  0.4081],\n",
       "        [-0.5594,  0.6517,  0.7567,  ..., -2.4072, -0.6877, -0.9820],\n",
       "        [ 0.2240, -2.8621,  2.6664,  ...,  1.5311, -1.3813, -1.2170]],\n",
       "       device='cuda:0')"
      ]
     },
     "execution_count": 4,
     "metadata": {},
     "output_type": "execute_result"
    }
   ],
   "source": [
    "best_model_weights"
   ]
  },
  {
   "cell_type": "markdown",
   "id": "90b1ab95",
   "metadata": {},
   "source": [
    "**Checking the vocab size between the original weights and finetuned**"
   ]
  },
  {
   "cell_type": "code",
   "execution_count": 19,
   "id": "a75d3dde",
   "metadata": {},
   "outputs": [],
   "source": [
    "with open('stoi_6pth.txt', 'rb') as f:\n",
    "    og=pickle.load(f)\n",
    "with open('stoi_modelbest_pth.txt', 'rb') as f:\n",
    "    mb=pickle.load(f)"
   ]
  },
  {
   "cell_type": "code",
   "execution_count": 26,
   "id": "c58e513b",
   "metadata": {},
   "outputs": [
    {
     "name": "stdout",
     "output_type": "stream",
     "text": [
      "27883 more keys in orig than finetuned\n",
      "27883 keys not in finetuning but in orig\n",
      "0 keys in finetuned but not in orig\n"
     ]
    }
   ],
   "source": [
    "difference_in_key_lens=len(og.keys())-len(mb.keys())\n",
    "number_of_keys_inOG_notInMB=len([i for i in og.keys() if i not in mb.keys()])\n",
    "number_of_keys_inMB_notInOG=len([i for i in mb.keys() if i not in og.keys()])\n",
    "print(f\"{difference_in_key_lens} more keys in orig than finetuned\\n{number_of_keys_inOG_notInMB} keys not in finetuning but in orig\\n{number_of_keys_inMB_notInOG} keys in finetuned but not in orig\")"
   ]
  },
  {
   "cell_type": "code",
   "execution_count": null,
   "id": "e1e30eb2",
   "metadata": {},
   "outputs": [],
   "source": []
  }
 ],
 "metadata": {
  "kernelspec": {
   "display_name": "Python 3 (ipykernel)",
   "language": "python",
   "name": "python3"
  },
  "language_info": {
   "codemirror_mode": {
    "name": "ipython",
    "version": 3
   },
   "file_extension": ".py",
   "mimetype": "text/x-python",
   "name": "python",
   "nbconvert_exporter": "python",
   "pygments_lexer": "ipython3",
   "version": "3.8.10"
  }
 },
 "nbformat": 4,
 "nbformat_minor": 5
}
