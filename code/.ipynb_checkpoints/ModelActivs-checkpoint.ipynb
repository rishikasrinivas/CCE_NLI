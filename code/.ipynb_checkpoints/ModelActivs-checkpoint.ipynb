{
 "cells": [
  {
   "cell_type": "code",
   "execution_count": 17,
   "id": "67223c57",
   "metadata": {},
   "outputs": [],
   "source": [
    "import torch\n",
    "import os\n",
    "import numpy as np\n",
    "no_pruning_activations=torch.load(\"Data/WithoutPruningActivations.pt\")\n",
    "pruning5_activations=torch.load(\"Data/5%PrunedActivs.pt\")"
   ]
  },
  {
   "cell_type": "code",
   "execution_count": 1,
   "id": "08416ee6",
   "metadata": {},
   "outputs": [
    {
     "name": "stdout",
     "output_type": "stream",
     "text": [
      "/workspace/CCE_NLI/Analysis\n"
     ]
    }
   ],
   "source": [
    "!pwd"
   ]
  },
  {
   "cell_type": "code",
   "execution_count": 18,
   "id": "adff9e07",
   "metadata": {},
   "outputs": [
    {
     "data": {
      "text/plain": [
       "(1024,)"
      ]
     },
     "execution_count": 18,
     "metadata": {},
     "output_type": "execute_result"
    }
   ],
   "source": [
    "no_pruning_activations[0].shape"
   ]
  },
  {
   "cell_type": "code",
   "execution_count": 19,
   "id": "3855464b",
   "metadata": {},
   "outputs": [
    {
     "data": {
      "text/plain": [
       "(1024,)"
      ]
     },
     "execution_count": 19,
     "metadata": {},
     "output_type": "execute_result"
    }
   ],
   "source": [
    "pruning5_activations[0].shape"
   ]
  },
  {
   "cell_type": "code",
   "execution_count": 21,
   "id": "5f586585",
   "metadata": {},
   "outputs": [
    {
     "data": {
      "text/plain": [
       "-88916.82003289461"
      ]
     },
     "execution_count": 21,
     "metadata": {},
     "output_type": "execute_result"
    }
   ],
   "source": [
    "actives_diffs = []\n",
    "for i in range(10000):\n",
    "    diffs=(pruning5_activations[i]-no_pruning_activations[i]).sum()\n",
    "    actives_diffs.append(diffs)\n",
    "sum(actives_diffs)"
   ]
  },
  {
   "cell_type": "code",
   "execution_count": null,
   "id": "07f5a0e8",
   "metadata": {},
   "outputs": [],
   "source": []
  }
 ],
 "metadata": {
  "kernelspec": {
   "display_name": "Python 3 (ipykernel)",
   "language": "python",
   "name": "python3"
  },
  "language_info": {
   "codemirror_mode": {
    "name": "ipython",
    "version": 3
   },
   "file_extension": ".py",
   "mimetype": "text/x-python",
   "name": "python",
   "nbconvert_exporter": "python",
   "pygments_lexer": "ipython3",
   "version": "3.8.10"
  }
 },
 "nbformat": 4,
 "nbformat_minor": 5
}
