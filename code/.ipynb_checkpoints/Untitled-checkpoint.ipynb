{
 "cells": [
  {
   "cell_type": "code",
   "execution_count": 124,
   "id": "5df094df",
   "metadata": {},
   "outputs": [],
   "source": [
    "import torch\n",
    "import models,settings\n",
    "import numpy as np\n",
    "import sklearn.cluster as scikit_cluster"
   ]
  },
  {
   "cell_type": "code",
   "execution_count": 148,
   "id": "661eb2c5",
   "metadata": {},
   "outputs": [],
   "source": [
    "a =np.random.randn(1,10)"
   ]
  },
  {
   "cell_type": "code",
   "execution_count": 224,
   "id": "6b3ee676",
   "metadata": {},
   "outputs": [],
   "source": [
    "import pickle\n",
    "# Read the list of lists from the pickle file\n",
    "with open(\"Masks.pkl\", 'rb') as f:\n",
    "    a=pickle.load(f)"
   ]
  },
  {
   "cell_type": "code",
   "execution_count": 228,
   "id": "343d73ee",
   "metadata": {},
   "outputs": [
    {
     "data": {
      "text/plain": [
       "696"
      ]
     },
     "execution_count": 228,
     "metadata": {},
     "output_type": "execute_result"
    }
   ],
   "source": [
    "c=0\n",
    "for i in a:\n",
    "    if len(i) == 0:\n",
    "        c+=1\n",
    "c"
   ]
  },
  {
   "cell_type": "code",
   "execution_count": 227,
   "id": "783d765c",
   "metadata": {},
   "outputs": [],
   "source": [
    "listt=[1, 2, 3, 4, 5, 7, 9, 10, 11, 12, 13, 14, 18, 20, 21, 23, 24, 25, 26, 27, 29, 30, 31, 32, 33, 34, 35, 36, 38, 42, 43, 44, 46, 47, 48, 49, 51, 53, 54, 55, 56, 57, 58, 60, 62, 64, 66, 68, 69, 72, 73, 74, 75, 78, 79, 80, 81, 82, 84, 88, 90, 91, 93, 94, 95, 96, 97, 100, 101, 102, 103, 104, 105, 107, 108, 109, 110, 111, 112, 114, 115, 116, 117, 118, 119, 120, 121, 122, 123, 124, 125, 126, 127, 130, 131, 135, 136, 138, 141, 142, 143, 144, 145, 146, 147, 148, 149, 152, 153, 154, 155, 158, 159, 160, 161, 162, 163, 164, 165, 166, 167, 168, 169, 172, 174, 175, 177, 178, 180, 182, 183, 184, 186, 187, 188, 189, 190, 193, 194, 195, 196, 199, 200, 201, 202, 205, 206, 207, 208, 210, 211, 212, 214, 216, 217, 218, 219, 220, 221, 222, 223, 224, 225, 226, 227, 228, 229, 233, 235, 236, 237, 240, 242, 243, 245, 246, 249, 250, 251, 252, 255, 256, 258, 259, 263, 264, 266, 268, 269, 271, 272, 273, 274, 276, 277, 278, 279, 281, 282, 286, 289, 291, 295, 299, 300, 301, 303, 305, 306, 310, 311, 313, 314, 315, 317, 318, 319, 321, 322, 323, 324, 325, 327, 329, 330, 331, 333, 334, 335, 337, 338, 339, 340, 342, 343, 344, 345, 347, 349, 350, 351, 352, 353, 354, 355, 356, 357, 358, 360, 361, 363, 364, 365, 366, 370, 371, 372, 373, 374, 379, 381, 383, 384, 388, 393, 394, 396, 397, 398, 401, 402, 405, 406, 407, 408, 409, 414, 415, 417, 418, 419, 421, 422, 425, 426, 427, 428, 430, 431, 432, 433, 438, 439, 440, 441, 442, 443, 444, 446, 447, 449, 451, 452, 453, 455, 456, 459, 460, 461, 464, 465, 467, 468, 469, 471, 472, 474, 475, 476, 477, 479, 481, 482, 484, 485, 488, 489, 490, 492, 493, 494, 496, 503, 504, 505, 508, 509, 513, 518, 519, 520, 521, 526, 529, 530, 531, 532, 535, 538, 539, 541, 542, 544, 545, 546, 547, 548, 550, 551, 552, 554, 555, 556, 558, 559, 560, 561, 562, 564, 567, 568, 569, 570, 571, 573, 574, 576, 580, 581, 582, 583, 585, 586, 587, 589, 591, 592, 594, 595, 596, 597, 598, 599, 600, 603, 607, 608, 610, 611, 612, 613, 616, 617, 621, 622, 624, 625, 626, 627, 628, 629, 630, 632, 633, 634, 635, 637, 638, 639, 641, 642, 644, 645, 646, 648, 649, 650, 651, 653, 654, 655, 657, 659, 660, 661, 663, 664, 665, 666, 667, 668, 669, 670, 671, 673, 677, 678, 680, 681, 682, 683, 684, 686, 687, 688, 690, 692, 693, 694, 695, 696, 697, 701, 702, 704, 706, 707, 708, 709, 711, 712, 713, 714, 717, 718, 720, 721, 722, 724, 726, 727, 728, 730, 731, 734, 735, 736, 737, 739, 740, 746, 747, 748, 749, 751, 753, 754, 755, 756, 757, 758, 759, 760, 761, 762, 763, 764, 766, 767, 768, 769, 770, 772, 774, 777, 778, 779, 780, 781, 783, 784, 785, 786, 788, 789, 790, 792, 794, 795, 797, 799, 801, 802, 803, 804, 806, 807, 808, 809, 810, 811, 812, 814, 815, 816, 817, 818, 819, 822, 823, 824, 825, 826, 827, 828, 829, 830, 831, 832, 834, 835, 836, 838, 839, 840, 841, 843, 844, 845, 846, 847, 848, 849, 851, 852, 853, 855, 856, 857, 860, 862, 863, 866, 867, 868, 869, 871, 872, 873, 876, 877, 878, 879, 880, 881, 883, 884, 887, 888, 889, 890, 891, 893, 894, 896, 897, 898, 899, 900, 901, 902, 903, 904, 906, 909, 910, 911, 912, 914, 915, 916, 918, 920, 921, 923, 927, 928, 929, 930, 931, 933, 935, 937, 938, 940, 942, 943, 944, 945, 946, 948, 950, 951, 952, 953, 954, 955, 956, 958, 960, 961, 962, 964, 965, 966, 967, 968, 969, 971, 973, 974, 975, 976, 978, 981, 984, 985, 987, 988, 989, 991, 992, 993, 994, 995, 996, 997, 999, 1001, 1002, 1003, 1004, 1005, 1006, 1009, 1010, 1011, 1012, 1013, 1014, 1015, 1016, 1017, 1018, 1019, 1022] \n",
    "for i in range(1024):\n",
    "    if i  in listt:\n",
    "        assert torch.load(\"Cluster4masks.pt\")[i].sum()==0\n",
    "        assert torch.load(\"Cluster3masks.pt\")[i].sum()==0\n",
    "        assert torch.load(\"Cluster2masks.pt\")[i].sum()==0\n",
    "        assert torch.load(\"Cluster1masks.pt\")[i].sum()==0, i"
   ]
  },
  {
   "cell_type": "markdown",
   "id": "55faeba3",
   "metadata": {},
   "source": [
    "## b=torch.randn(10)\n",
    "b=b.reshape(1,-1)\n",
    "print(b.shape)\n",
    "clusters = scikit_cluster.KMeans(n_clusters= 5, random_state=1234).fit(b.t())\n",
    "clusters.labels_ , b.t()"
   ]
  },
  {
   "cell_type": "code",
   "execution_count": 190,
   "id": "25370235",
   "metadata": {},
   "outputs": [],
   "source": [
    "ones=0\n",
    "twos=0\n",
    "threes=0\n",
    "fours=0\n",
    "fives=0\n",
    "for i in clusters.labels_:\n",
    "    if i==1:\n",
    "        ones+=1\n",
    "    elif i==2:\n",
    "        twos+=1\n",
    "    elif i==3:\n",
    "        threes+=1\n",
    "    elif i==4:\n",
    "        fours+=1\n",
    "    else:\n",
    "        fives+=1"
   ]
  },
  {
   "cell_type": "code",
   "execution_count": 191,
   "id": "94413436",
   "metadata": {},
   "outputs": [
    {
     "data": {
      "text/plain": [
       "(2, 4, 1, 1, 2)"
      ]
     },
     "execution_count": 191,
     "metadata": {},
     "output_type": "execute_result"
    }
   ],
   "source": [
    "ones, twos, threes, fours, fives"
   ]
  },
  {
   "cell_type": "code",
   "execution_count": 180,
   "id": "84f55ed9",
   "metadata": {},
   "outputs": [],
   "source": [
    "clusters = scikit_cluster.KMeans(n_clusters= 5, random_state=1234).fit(b.t())"
   ]
  },
  {
   "cell_type": "code",
   "execution_count": 181,
   "id": "de139fcb",
   "metadata": {},
   "outputs": [
    {
     "data": {
      "text/plain": [
       "(array([3, 0, 2, 0, 2, 4, 4, 1, 4, 0], dtype=int32),\n",
       " tensor([[-2.1231],\n",
       "         [ 0.2412],\n",
       "         [-0.5005],\n",
       "         [ 0.7508],\n",
       "         [-0.8402],\n",
       "         [-0.0667],\n",
       "         [-0.2084],\n",
       "         [-1.3324],\n",
       "         [-0.1226],\n",
       "         [ 0.3313]]))"
      ]
     },
     "execution_count": 181,
     "metadata": {},
     "output_type": "execute_result"
    }
   ],
   "source": [
    "clusters.labels_ , b.t()"
   ]
  },
  {
   "cell_type": "code",
   "execution_count": 173,
   "id": "a1b9e5d0",
   "metadata": {},
   "outputs": [
    {
     "ename": "RuntimeError",
     "evalue": "The size of tensor a (1024) must match the size of tensor b (2048) at non-singleton dimension 1",
     "output_type": "error",
     "traceback": [
      "\u001b[0;31m---------------------------------------------------------------------------\u001b[0m",
      "\u001b[0;31mRuntimeError\u001b[0m                              Traceback (most recent call last)",
      "Cell \u001b[0;32mIn[173], line 4\u001b[0m\n\u001b[1;32m      2\u001b[0m c1\u001b[38;5;241m=\u001b[39m\u001b[38;5;124m\"\u001b[39m\u001b[38;5;124mIncMasks/Masks0.0\u001b[39m\u001b[38;5;124m%\u001b[39m\u001b[38;5;124mPruned/Cluster1masks.pt\u001b[39m\u001b[38;5;124m\"\u001b[39m\n\u001b[1;32m      3\u001b[0m m0c1\u001b[38;5;241m=\u001b[39mtorch\u001b[38;5;241m.\u001b[39mload(c1)\n\u001b[0;32m----> 4\u001b[0m \u001b[43mtorch\u001b[49m\u001b[38;5;241;43m.\u001b[39;49m\u001b[43mmasked_select\u001b[49m\u001b[43m(\u001b[49m\u001b[43mm0w\u001b[49m\u001b[43m,\u001b[49m\u001b[43mm0c1\u001b[49m\u001b[43m)\u001b[49m\n",
      "\u001b[0;31mRuntimeError\u001b[0m: The size of tensor a (1024) must match the size of tensor b (2048) at non-singleton dimension 1"
     ]
    }
   ],
   "source": [
    "import torch\n",
    "c1=\"IncMasks/Masks0.0%Pruned/Cluster1masks.pt\"\n",
    "m0c1=torch.load(c1)\n",
    "torch.masked_select(m0w,m0c1)"
   ]
  },
  {
   "cell_type": "code",
   "execution_count": 116,
   "id": "99178401",
   "metadata": {},
   "outputs": [],
   "source": [
    "ckpt = torch.load(f\"../{settings.MODEL}\", map_location=\"cpu\")\n",
    "clf = models.BowmanEntailmentClassifier\n",
    "enc = models.TextEncoder(len(ckpt[\"stoi\"]))\n",
    "model=clf(enc)\n",
    "model.load_state_dict(ckpt['state_dict'])\n",
    "import models\n",
    "settings.PRUNE_METHOD == 'incremental'\n",
    "models.prune(model, amount=0.3)"
   ]
  },
  {
   "cell_type": "code",
   "execution_count": 40,
   "id": "ae96dfd2",
   "metadata": {},
   "outputs": [
    {
     "name": "stdout",
     "output_type": "stream",
     "text": [
      "tensor([[-0.6631,  1.0282,  0.0766, -0.3954],\n",
      "        [-1.7383, -0.3737, -0.1654,  1.2035]])\n"
     ]
    },
    {
     "data": {
      "text/plain": [
       "(tensor([[1., 0., 1.,  ..., 0., 0., 1.],\n",
       "         [1., 0., 1.,  ..., 0., 0., 0.],\n",
       "         [0., 1., 1.,  ..., 1., 0., 0.],\n",
       "         ...,\n",
       "         [1., 0., 1.,  ..., 0., 0., 0.],\n",
       "         [0., 0., 1.,  ..., 1., 0., 1.],\n",
       "         [1., 0., 0.,  ..., 0., 1., 1.]]),\n",
       " tensor([[ 0.1021,  0.0000, -0.1801,  ...,  0.0000,  0.0000,  0.1054],\n",
       "         [ 0.1023,  0.0000,  0.1012,  ...,  0.0000,  0.0000,  0.0000],\n",
       "         [ 0.0000, -0.0737,  0.1627,  ..., -0.0726,  0.0000,  0.0000],\n",
       "         ...,\n",
       "         [ 0.2561,  0.0000,  0.0704,  ...,  0.0000,  0.0000,  0.0000],\n",
       "         [ 0.0000,  0.0000, -0.1102,  ..., -0.1076,  0.0000, -0.4026],\n",
       "         [ 0.1069,  0.0000,  0.0000,  ...,  0.0000, -0.1041, -0.0549]]))"
      ]
     },
     "execution_count": 40,
     "metadata": {},
     "output_type": "execute_result"
    }
   ],
   "source": [
    "n=torch.randn(2,4)\n",
    "print(n)\n",
    "def prune_by_percent_once(percent, mask, final_weight):\n",
    "    # Put the weights that aren't masked out in sorted order.\n",
    "    sorted_weights = np.sort(np.abs(final_weight[mask != 0]))\n",
    "\n",
    "    # Determine the cutoff for weights to be pruned.\n",
    "    \n",
    "    cutoff_index = np.round(percent * sorted_weights.size).astype(int)\n",
    "    cutoff = sorted_weights[cutoff_index - 1] \n",
    "    # Prune all weights below the cutoff.\n",
    "    new_mask= torch.where(torch.abs(torch.tensor(final_weight)) <= cutoff, torch.zeros(mask.shape), mask)\n",
    "    \n",
    "    new_weights= torch.where(torch.abs(torch.tensor(final_weight)) <= cutoff, torch.zeros(mask.shape), torch.tensor(final_weight))\n",
    "    return new_mask, new_weights\n",
    "prune_by_percent_once(0.5, torch.ones(weights.shape),weights) "
   ]
  },
  {
   "cell_type": "code",
   "execution_count": 73,
   "id": "ec4b3e9a",
   "metadata": {},
   "outputs": [
    {
     "data": {
      "text/plain": [
       "<All keys matched successfully>"
      ]
     },
     "execution_count": 73,
     "metadata": {},
     "output_type": "execute_result"
    }
   ],
   "source": [
    "prune_metrics_dir = \"../models/snli/Inc/prune_metrics/0.5%Pruned/model_best.pth\"\n",
    "weights=torch.load(f\"{prune_metrics_dir}\")['state_dict']\n",
    "model.load_state_dict(weights)"
   ]
  },
  {
   "cell_type": "code",
   "execution_count": 74,
   "id": "ecf1e1e4",
   "metadata": {},
   "outputs": [
    {
     "data": {
      "text/plain": [
       "54.54999923706055"
      ]
     },
     "execution_count": 74,
     "metadata": {},
     "output_type": "execute_result"
    }
   ],
   "source": [
    "a=torch.where(model.mlp[0].weight==0,1,0).sum()/100\n",
    "a.item()"
   ]
  },
  {
   "cell_type": "code",
   "execution_count": 83,
   "id": "1d1c5093",
   "metadata": {},
   "outputs": [
    {
     "data": {
      "text/plain": [
       "array([[ 0.14094463,  0.        , -0.18008865, ...,  0.        ,\n",
       "         0.        ,  0.14192368],\n",
       "       [ 0.09053939,  0.        ,  0.10115597, ...,  0.        ,\n",
       "         0.        ,  0.        ],\n",
       "       [ 0.        , -0.07368106,  0.16273642, ...,  0.        ,\n",
       "         0.        ,  0.        ],\n",
       "       ...,\n",
       "       [ 0.27105045,  0.        ,  0.07038172, ...,  0.        ,\n",
       "         0.        , -0.0820929 ],\n",
       "       [ 0.        ,  0.        , -0.11017767, ..., -0.21118456,\n",
       "         0.        , -0.43730462],\n",
       "       [ 0.10158633,  0.        ,  0.        , ..., -0.08843303,\n",
       "        -0.10414948,  0.        ]], dtype=float32)"
      ]
     },
     "execution_count": 83,
     "metadata": {},
     "output_type": "execute_result"
    }
   ],
   "source": [
    "weights = model.mlp[0].weight.t().detach().cpu().numpy()\n",
    "weights"
   ]
  },
  {
   "cell_type": "code",
   "execution_count": 76,
   "id": "582c8846",
   "metadata": {},
   "outputs": [],
   "source": [
    "nm,nw=prune_by_percent_once(0.5, torch.ones(weights.shape),weights) "
   ]
  },
  {
   "cell_type": "code",
   "execution_count": 130,
   "id": "b8ca9f7f",
   "metadata": {},
   "outputs": [],
   "source": [
    "mask=torch.ones(weights.shape)\n",
    "final_weight=np.sort(np.abs(weights>0)).astype('int')"
   ]
  },
  {
   "cell_type": "code",
   "execution_count": 81,
   "id": "f87cfd61",
   "metadata": {},
   "outputs": [
    {
     "name": "stdout",
     "output_type": "stream",
     "text": [
      "tensor(0)\n"
     ]
    }
   ],
   "source": [
    "#model.mlp[0].weight.t().detach().cpu().copy_(nw)\n",
    "print(torch.where(model.mlp[0].weight.t().detach().cpu() != nw,1,0).sum())"
   ]
  },
  {
   "cell_type": "code",
   "execution_count": 55,
   "id": "4d68eca0",
   "metadata": {},
   "outputs": [
    {
     "ename": "NameError",
     "evalue": "name 'final_weight' is not defined",
     "output_type": "error",
     "traceback": [
      "\u001b[0;31m---------------------------------------------------------------------------\u001b[0m",
      "\u001b[0;31mNameError\u001b[0m                                 Traceback (most recent call last)",
      "Cell \u001b[0;32mIn[55], line 1\u001b[0m\n\u001b[0;32m----> 1\u001b[0m a\u001b[38;5;241m=\u001b[39mtorch\u001b[38;5;241m.\u001b[39mwhere(torch\u001b[38;5;241m.\u001b[39mabs(torch\u001b[38;5;241m.\u001b[39mtensor(\u001b[43mfinal_weight\u001b[49m)) \u001b[38;5;241m==\u001b[39m \u001b[38;5;241m1\u001b[39m, torch\u001b[38;5;241m.\u001b[39mzeros(mask\u001b[38;5;241m.\u001b[39mshape), mask)\n",
      "\u001b[0;31mNameError\u001b[0m: name 'final_weight' is not defined"
     ]
    }
   ],
   "source": [
    "a=torch.where(torch.abs(torch.tensor(final_weight)) == 1, torch.zeros(mask.shape), mask)"
   ]
  },
  {
   "cell_type": "code",
   "execution_count": 65,
   "id": "555de061",
   "metadata": {},
   "outputs": [
    {
     "data": {
      "text/plain": [
       "True"
      ]
     },
     "execution_count": 65,
     "metadata": {},
     "output_type": "execute_result"
    }
   ],
   "source": [
    "torch.equal(model.mlp[0].weight.t().detach().cpu(),nw)"
   ]
  },
  {
   "cell_type": "code",
   "execution_count": 129,
   "id": "99642d17",
   "metadata": {},
   "outputs": [
    {
     "data": {
      "text/plain": [
       "tensor(0.5000)"
      ]
     },
     "execution_count": 129,
     "metadata": {},
     "output_type": "execute_result"
    }
   ],
   "source": [
    "np.round((torch.where(model.mlp[0].weight.t()==0,1,0).sum()/(1024*2048)),1)"
   ]
  },
  {
   "cell_type": "code",
   "execution_count": 86,
   "id": "cd3b7a9a",
   "metadata": {},
   "outputs": [
    {
     "data": {
      "text/plain": [
       "OR(4, 5)"
      ]
     },
     "execution_count": 86,
     "metadata": {},
     "output_type": "execute_result"
    }
   ],
   "source": [
    "import formula as FM\n",
    "l=[1,2,3]\n",
    "FM.Or(4,5)"
   ]
  },
  {
   "cell_type": "code",
   "execution_count": null,
   "id": "05e15e36",
   "metadata": {},
   "outputs": [],
   "source": []
  }
 ],
 "metadata": {
  "kernelspec": {
   "display_name": "Python 3 (ipykernel)",
   "language": "python",
   "name": "python3"
  },
  "language_info": {
   "codemirror_mode": {
    "name": "ipython",
    "version": 3
   },
   "file_extension": ".py",
   "mimetype": "text/x-python",
   "name": "python",
   "nbconvert_exporter": "python",
   "pygments_lexer": "ipython3",
   "version": "3.8.10"
  }
 },
 "nbformat": 4,
 "nbformat_minor": 5
}
