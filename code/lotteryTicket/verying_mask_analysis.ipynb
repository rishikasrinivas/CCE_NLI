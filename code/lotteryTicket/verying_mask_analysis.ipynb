{
 "cells": [
  {
   "cell_type": "code",
   "execution_count": 9,
   "id": "e01ef56b",
   "metadata": {},
   "outputs": [],
   "source": [
    "import torch, os\n",
    "\n",
    "masks_files=[]\n",
    "for i in os.listdir(f\"Direct/\"):\n",
    "    masks_files.append(i)\n",
    "                    "
   ]
  },
  {
   "cell_type": "code",
   "execution_count": 44,
   "id": "b5c9ed27",
   "metadata": {},
   "outputs": [
    {
     "name": "stdout",
     "output_type": "stream",
     "text": [
      "89.26_mask.pth\n",
      "tensor(225180, device='cuda:0') tensor(225179, device='cuda:0')\n"
     ]
    }
   ],
   "source": [
    "dif=[]\n",
    "for file in masks_files[9:]:\n",
    "    print(file)\n",
    "    direct_mask = torch.load(f\"Direct/{file}\")\n",
    "    iter_mask = torch.load(f\"Iter/{file}\")\n",
    "    print((direct_mask==1).sum(), (iter_mask==1).sum())\n",
    "    for n,w in enumerate(direct_mask):\n",
    "        for wn, ew in enumerate(w):\n",
    "            if ew != iter_mask[n][wn]:\n",
    "                dif.append((n,wn))\n",
    "                \n",
    "    break"
   ]
  },
  {
   "cell_type": "code",
   "execution_count": 41,
   "id": "ed352b3f",
   "metadata": {},
   "outputs": [
    {
     "data": {
      "text/plain": [
       "tensor(1., device='cuda:0')"
      ]
     },
     "execution_count": 41,
     "metadata": {},
     "output_type": "execute_result"
    }
   ],
   "source": [
    "direct_mask = torch.load(f\"Direct/36.0_mask.pth\")\n",
    "direct_mask[184][1634]\n",
    "\n",
    "iter_mask = torch.load(f\"Iter/36.0_mask.pth\")\n",
    "iter_mask[184][1634]"
   ]
  },
  {
   "cell_type": "code",
   "execution_count": 45,
   "id": "126ab100",
   "metadata": {},
   "outputs": [
    {
     "data": {
      "text/plain": [
       "[(41, 1504)]"
      ]
     },
     "execution_count": 45,
     "metadata": {},
     "output_type": "execute_result"
    }
   ],
   "source": [
    "dif"
   ]
  },
  {
   "cell_type": "code",
   "execution_count": 19,
   "id": "bcf6171a",
   "metadata": {},
   "outputs": [
    {
     "data": {
      "text/plain": [
       "2097152"
      ]
     },
     "execution_count": 19,
     "metadata": {},
     "output_type": "execute_result"
    }
   ],
   "source": [
    "t=1024*2048\n",
    "t"
   ]
  },
  {
   "cell_type": "code",
   "execution_count": 20,
   "id": "292d87ac",
   "metadata": {},
   "outputs": [
    {
     "data": {
      "text/plain": [
       "1677721.6"
      ]
     },
     "execution_count": 20,
     "metadata": {},
     "output_type": "execute_result"
    }
   ],
   "source": [
    "2097152-(t*0.2)"
   ]
  },
  {
   "cell_type": "code",
   "execution_count": 35,
   "id": "dd267670",
   "metadata": {},
   "outputs": [
    {
     "data": {
      "text/plain": [
       "1677721.6"
      ]
     },
     "execution_count": 35,
     "metadata": {},
     "output_type": "execute_result"
    }
   ],
   "source": [
    "t- (t*0.2)"
   ]
  },
  {
   "cell_type": "code",
   "execution_count": 30,
   "id": "24941449",
   "metadata": {},
   "outputs": [
    {
     "data": {
      "text/plain": [
       "-1342178"
      ]
     },
     "execution_count": 30,
     "metadata": {},
     "output_type": "execute_result"
    }
   ],
   "source": [
    "335544-1677722"
   ]
  },
  {
   "cell_type": "code",
   "execution_count": null,
   "id": "60b92fc6",
   "metadata": {},
   "outputs": [],
   "source": []
  }
 ],
 "metadata": {
  "kernelspec": {
   "display_name": "Python 3 (ipykernel)",
   "language": "python",
   "name": "python3"
  },
  "language_info": {
   "codemirror_mode": {
    "name": "ipython",
    "version": 3
   },
   "file_extension": ".py",
   "mimetype": "text/x-python",
   "name": "python",
   "nbconvert_exporter": "python",
   "pygments_lexer": "ipython3",
   "version": "3.8.10"
  }
 },
 "nbformat": 4,
 "nbformat_minor": 5
}
