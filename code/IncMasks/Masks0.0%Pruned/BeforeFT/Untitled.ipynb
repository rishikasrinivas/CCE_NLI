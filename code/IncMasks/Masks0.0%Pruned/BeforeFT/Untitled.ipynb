{
 "cells": [
  {
   "cell_type": "code",
   "execution_count": 6,
   "id": "58aaa746",
   "metadata": {},
   "outputs": [],
   "source": [
    "import pickle\n",
    "with open(\"../AfterFT/DeadNeurons.pkl\", 'rb') as f:\n",
    "    da = pickle.load(f)\n",
    "with open(\"DeadNeurons.pkl\", 'rb') as f:\n",
    "    db = pickle.load(f)"
   ]
  },
  {
   "cell_type": "code",
   "execution_count": 9,
   "id": "cde2c2a1",
   "metadata": {},
   "outputs": [
    {
     "data": {
      "text/plain": [
       "[15, 70, 386, 416, 577, 593, 662, 685, 689, 932]"
      ]
     },
     "execution_count": 9,
     "metadata": {},
     "output_type": "execute_result"
    }
   ],
   "source": [
    "[i for i in da if i not in db]"
   ]
  },
  {
   "cell_type": "code",
   "execution_count": null,
   "id": "4ca063ae",
   "metadata": {},
   "outputs": [],
   "source": []
  }
 ],
 "metadata": {
  "kernelspec": {
   "display_name": "Python 3 (ipykernel)",
   "language": "python",
   "name": "python3"
  },
  "language_info": {
   "codemirror_mode": {
    "name": "ipython",
    "version": 3
   },
   "file_extension": ".py",
   "mimetype": "text/x-python",
   "name": "python",
   "nbconvert_exporter": "python",
   "pygments_lexer": "ipython3",
   "version": "3.8.10"
  }
 },
 "nbformat": 4,
 "nbformat_minor": 5
}
