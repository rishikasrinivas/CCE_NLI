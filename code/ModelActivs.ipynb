{
 "cells": [
  {
   "cell_type": "code",
   "execution_count": 1,
   "id": "9091ebe7",
   "metadata": {},
   "outputs": [
    {
     "name": "stderr",
     "output_type": "stream",
     "text": [
      "/usr/local/lib/python3.8/dist-packages/tqdm/auto.py:22: TqdmWarning: IProgress not found. Please update jupyter and ipywidgets. See https://ipywidgets.readthedocs.io/en/stable/user_install.html\n",
      "  from .autonotebook import tqdm as notebook_tqdm\n"
     ]
    }
   ],
   "source": [
    "import torch\n",
    "import os\n",
    "import numpy as np\n",
    "no_pruning_activations=torch.load(\"../Analysis/Data/WithoutPruningActivations.pt\")\n",
    "pruning5_activations=torch.load(\"../Analysis/Data/5%PrunedActivs.pt\")"
   ]
  },
  {
   "cell_type": "code",
   "execution_count": 4,
   "id": "9871ab68",
   "metadata": {},
   "outputs": [
    {
     "name": "stdout",
     "output_type": "stream",
     "text": [
      "/workspace/CCE_NLI/code\n"
     ]
    }
   ],
   "source": [
    "!pwd"
   ]
  },
  {
   "cell_type": "code",
   "execution_count": 5,
   "id": "414aa6dc",
   "metadata": {},
   "outputs": [
    {
     "data": {
      "text/plain": [
       "(1024,)"
      ]
     },
     "execution_count": 5,
     "metadata": {},
     "output_type": "execute_result"
    }
   ],
   "source": [
    "no_pruning_activations[0].shape"
   ]
  },
  {
   "cell_type": "code",
   "execution_count": 6,
   "id": "c2d74355",
   "metadata": {},
   "outputs": [
    {
     "data": {
      "text/plain": [
       "(1024,)"
      ]
     },
     "execution_count": 6,
     "metadata": {},
     "output_type": "execute_result"
    }
   ],
   "source": [
    "pruning5_activations[0].shape"
   ]
  },
  {
   "cell_type": "code",
   "execution_count": 2,
   "id": "7b7fe767",
   "metadata": {},
   "outputs": [
    {
     "data": {
      "text/plain": [
       "4965332.945889473"
      ]
     },
     "execution_count": 2,
     "metadata": {},
     "output_type": "execute_result"
    }
   ],
   "source": [
    "actives_diffs = []\n",
    "for i in range(10000):\n",
    "    diffs=(pruning5_activations[i]-no_pruning_activations[i]).sum()\n",
    "    actives_diffs.append(diffs)\n",
    "sum(actives_diffs)"
   ]
  },
  {
   "cell_type": "code",
   "execution_count": 3,
   "id": "7bf1c1fb",
   "metadata": {},
   "outputs": [
    {
     "data": {
      "text/plain": [
       "10000"
      ]
     },
     "execution_count": 3,
     "metadata": {},
     "output_type": "execute_result"
    }
   ],
   "source": [
    "zeros = {}\n",
    "for sam, i in enumerate(no_pruning_activations):\n",
    "    for unit, j in enumerate(i):\n",
    "        if j == 0:\n",
    "            if sam in zeros.keys():\n",
    "                zeros[sam].append(unit)\n",
    "            else:\n",
    "                zeros[sam] = [unit]\n",
    "                \n",
    "len(zeros)"
   ]
  },
  {
   "cell_type": "code",
   "execution_count": null,
   "id": "7ffa762f",
   "metadata": {},
   "outputs": [],
   "source": []
  },
  {
   "cell_type": "code",
   "execution_count": null,
   "id": "d763a989",
   "metadata": {},
   "outputs": [],
   "source": []
  }
 ],
 "metadata": {
  "kernelspec": {
   "display_name": "Python 3 (ipykernel)",
   "language": "python",
   "name": "python3"
  },
  "language_info": {
   "codemirror_mode": {
    "name": "ipython",
    "version": 3
   },
   "file_extension": ".py",
   "mimetype": "text/x-python",
   "name": "python",
   "nbconvert_exporter": "python",
   "pygments_lexer": "ipython3",
   "version": "3.8.10"
  }
 },
 "nbformat": 4,
 "nbformat_minor": 5
}
