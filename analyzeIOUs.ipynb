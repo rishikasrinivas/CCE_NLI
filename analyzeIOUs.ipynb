{
 "cells": [
  {
   "cell_type": "code",
   "execution_count": 2,
   "id": "6c35560e",
   "metadata": {},
   "outputs": [],
   "source": [
    "import pandas as pd"
   ]
  },
  {
   "cell_type": "code",
   "execution_count": 5,
   "id": "642edfd5",
   "metadata": {},
   "outputs": [
    {
     "name": "stdout",
     "output_type": "stream",
     "text": [
      "Cluster 1\n",
      "{'Dif Between Run 0 and 1': 4.271806640491405, 'Dif Between Run 1 and 2': 4.271806640491405, 'Dif Between Run 2 and 3': 0.0}\n",
      "Cluster 2\n",
      "{'Dif Between Run 0 and 1': 0.0, 'Dif Between Run 1 and 2': 0.0, 'Dif Between Run 2 and 3': 0.0}\n",
      "Cluster 3\n",
      "{'Dif Between Run 0 and 1': 0.0, 'Dif Between Run 1 and 2': 0.0, 'Dif Between Run 2 and 3': 0.0}\n",
      "Cluster 4\n",
      "{'Dif Between Run 0 and 1': 0.0, 'Dif Between Run 1 and 2': 0.0, 'Dif Between Run 2 and 3': 0.0}\n"
     ]
    }
   ],
   "source": [
    "def prep(file):\n",
    "    df = pd.read_csv(file)\n",
    "    df=df.rename(columns={\"inds of samples containing concept\":\"iou\"})\n",
    "    df = df.drop([\"formula\", \"num samples containing concept\"], axis=1)\n",
    "    df=df.drop_duplicates()\n",
    "    return df\n",
    "\n",
    "def get_percent_dif(run1, run2, run3):\n",
    "    pairs = [(run1, run2), (run1, run3), (run2, run3)]\n",
    "    index2key={0:\"Dif Between Run 0 and 1\", 1:\"Dif Between Run 1 and 2\", 2:\"Dif Between Run 2 and 3\" }\n",
    "    dif_percent = {\"Dif Between Run 0 and 1\":0 , \"Dif Between Run 1 and 2\":0, \"Dif Between Run 2 and 3\":0}\n",
    "    for i,pair in enumerate(pairs):\n",
    "        int_runArunB_df = pd.merge(pair[0], pair[1])\n",
    "        union_runArunB_df = pd.concat([pair[0], pair[1]])\n",
    "        int_runArunB_df=int_runArunB_df.drop_duplicates()\n",
    "        union_runArunB_df=union_runArunB_df.drop_duplicates()\n",
    "        sim=len(int_runArunB_df)/len(union_runArunB_df)\n",
    "        dif_percent[index2key[i]] = (1-sim)*100\n",
    "    return dif_percent\n",
    "\n",
    "\n",
    "run_0_clus_1 = prep(\"Run0Cluster1IOUs.csv\")\n",
    "run_1_clus_1 = prep(\"Run1Cluster1IOUs.csv\")\n",
    "run_2_clus_1 = prep(\"Run2Cluster1IOUs.csv\")\n",
    "run_0_clus_2 = prep(\"Run0Cluster2IOUs.csv\")\n",
    "run_1_clus_2 = prep(\"Run1Cluster2IOUs.csv\")\n",
    "run_2_clus_2 = prep(\"Run2Cluster2IOUs.csv\")\n",
    "run_0_clus_3 = prep(\"Run0Cluster3IOUs.csv\")\n",
    "run_1_clus_3 = prep(\"Run1Cluster3IOUs.csv\")\n",
    "run_2_clus_3 = prep(\"Run2Cluster3IOUs.csv\")\n",
    "run_0_clus_4 = prep(\"Run0Cluster4IOUs.csv\")\n",
    "run_1_clus_4 = prep(\"Run1Cluster4IOUs.csv\")\n",
    "run_2_clus_4 = prep(\"Run2Cluster4IOUs.csv\")\n",
    "\n",
    "\n",
    "print(\"Cluster 1\")\n",
    "l = get_percent_dif(run_0_clus_1, run_1_clus_1, run_2_clus_1)\n",
    "print(l)\n",
    "print(\"Cluster 2\")\n",
    "l = get_percent_dif(run_0_clus_2, run_1_clus_2, run_2_clus_2)\n",
    "print(l)\n",
    "print(\"Cluster 3\")\n",
    "l = get_percent_dif(run_0_clus_3, run_1_clus_3, run_2_clus_3)\n",
    "print(l)\n",
    "print(\"Cluster 4\")\n",
    "l = get_percent_dif(run_0_clus_4, run_1_clus_4, run_2_clus_4)\n",
    "print(l)\n"
   ]
  },
  {
   "cell_type": "code",
   "execution_count": 19,
   "id": "a0a32b2a",
   "metadata": {},
   "outputs": [],
   "source": [
    "def get_avg_max(p):\n",
    "    sum = 0\n",
    "    for iou in p['inds of samples containing concept']:\n",
    "      sum += iou\n",
    "\n",
    "    avg = sum/len(p['inds of samples containing concept'])\n",
    "    m = max(p['inds of samples containing concept'])\n",
    "    return avg, m"
   ]
  },
  {
   "cell_type": "code",
   "execution_count": 26,
   "id": "c9a89223",
   "metadata": {},
   "outputs": [
    {
     "data": {
      "text/plain": [
       "0.06714021754129847"
      ]
     },
     "execution_count": 26,
     "metadata": {},
     "output_type": "execute_result"
    }
   ],
   "source": [
    "df= pd.read_csv(\"Cluster2IOUs.csv\")\n",
    "avg, m  = get_avg_max(df)\n",
    "avg"
   ]
  },
  {
   "cell_type": "code",
   "execution_count": 25,
   "id": "b3df617e",
   "metadata": {},
   "outputs": [
    {
     "data": {
      "text/plain": [
       "0.0717349084723516"
      ]
     },
     "execution_count": 25,
     "metadata": {},
     "output_type": "execute_result"
    }
   ],
   "source": [
    "df= pd.read_csv(\"Cluster2IOUs_withoutAnySpecTok.csv\")\n",
    "avg, m  = get_avg_max(df)\n",
    "avg"
   ]
  },
  {
   "cell_type": "code",
   "execution_count": 17,
   "id": "a2879c6b",
   "metadata": {},
   "outputs": [
    {
     "data": {
      "text/plain": [
       "array([  15,  515,  615,  715, 1023])"
      ]
     },
     "execution_count": 17,
     "metadata": {},
     "output_type": "execute_result"
    }
   ],
   "source": [
    "files = [\"Cluster2IOUs_withoutAnySpecTok.csv\", \"Cluster3IOUs.csv\",\"Cluster4IOUs.csv\", \"Cluster5IOUs.csv\"]\n",
    "df= pd.read_csv(file[1])\n",
    "df.unit.unique()"
   ]
  },
  {
   "cell_type": "code",
   "execution_count": 12,
   "id": "06b04b5d",
   "metadata": {},
   "outputs": [
    {
     "data": {
      "text/plain": [
       "array([  15,  615,  715, 1023])"
      ]
     },
     "execution_count": 12,
     "metadata": {},
     "output_type": "execute_result"
    }
   ],
   "source": [
    "df= pd.read_csv(file[2])\n",
    "df.unit.unique()"
   ]
  },
  {
   "cell_type": "code",
   "execution_count": 6,
   "id": "5a637723",
   "metadata": {},
   "outputs": [
    {
     "name": "stdout",
     "output_type": "stream",
     "text": [
      "Cluster 1:  [  15  215  275  375  395  435  495  515  575  615  675  715  775  895\n",
      " 1023]\n",
      "Cluster 2:  [  15  375  395  435  495  515  575  615  675  715  775 1023]\n",
      "Cluster 3:  [  15  375  395  515  575  615  715  775 1023]\n",
      "Cluster 4:  [  15  375  575  615 1023]\n"
     ]
    }
   ],
   "source": [
    "df= pd.read_csv(\"Run0Cluster1IOUs.csv\")\n",
    "print(\"Cluster 1: \", df['unit'].unique())\n",
    "df= pd.read_csv(\"Run0Cluster2IOUs.csv\")\n",
    "print(\"Cluster 2: \", df['unit'].unique())\n",
    "df= pd.read_csv(\"Run0Cluster3IOUs.csv\")\n",
    "print(\"Cluster 3: \", df['unit'].unique())\n",
    "df= pd.read_csv(\"Run0Cluster4IOUs.csv\")\n",
    "print(\"Cluster 4: \", df['unit'].unique())"
   ]
  },
  {
   "cell_type": "code",
   "execution_count": 9,
   "id": "7c816a61",
   "metadata": {},
   "outputs": [
    {
     "name": "stdout",
     "output_type": "stream",
     "text": [
      "Cluster 1:  [  15  215  275  375  395  435  495  515  575  615  675  715  775  895\n",
      " 1023]\n"
     ]
    }
   ],
   "source": [
    "df= pd.read_csv(\"Run1Cluster1IOUs.csv\")\n",
    "print(\"Cluster 1: \", df['unit'].unique())"
   ]
  },
  {
   "cell_type": "code",
   "execution_count": 21,
   "id": "8b05f079",
   "metadata": {},
   "outputs": [],
   "source": [
    "import csv\n",
    "with open(\"IOUAnalysis.csv\", \"w\") as fp:\n",
    "    wr = csv.writer(fp, dialect='excel')\n",
    "    wr.writerow([\"units\", \"avg_iou\", \"max_iou\"])\n",
    "    for file in files:\n",
    "        df = pd.read_csv(file)\n",
    "        units = df.unit.unique()\n",
    "        avg, m  = get_avg_max(df)\n",
    "        wr.writerow([str(units), avg, m])\n",
    "    "
   ]
  },
  {
   "cell_type": "code",
   "execution_count": null,
   "id": "afe280bc",
   "metadata": {},
   "outputs": [],
   "source": []
  }
 ],
 "metadata": {
  "kernelspec": {
   "display_name": "Python 3 (ipykernel)",
   "language": "python",
   "name": "python3"
  },
  "language_info": {
   "codemirror_mode": {
    "name": "ipython",
    "version": 3
   },
   "file_extension": ".py",
   "mimetype": "text/x-python",
   "name": "python",
   "nbconvert_exporter": "python",
   "pygments_lexer": "ipython3",
   "version": "3.8.10"
  }
 },
 "nbformat": 4,
 "nbformat_minor": 5
}
