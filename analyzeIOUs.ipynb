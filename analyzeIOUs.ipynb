{
 "cells": [
  {
   "cell_type": "code",
   "execution_count": 2,
   "id": "f5407166",
   "metadata": {},
   "outputs": [],
   "source": [
    "import pandas as pd"
   ]
  },
  {
   "cell_type": "code",
   "execution_count": 22,
   "id": "370307dd",
   "metadata": {},
   "outputs": [
    {
     "data": {
      "text/html": [
       "<div>\n",
       "<style scoped>\n",
       "    .dataframe tbody tr th:only-of-type {\n",
       "        vertical-align: middle;\n",
       "    }\n",
       "\n",
       "    .dataframe tbody tr th {\n",
       "        vertical-align: top;\n",
       "    }\n",
       "\n",
       "    .dataframe thead th {\n",
       "        text-align: right;\n",
       "    }\n",
       "</style>\n",
       "<table border=\"1\" class=\"dataframe\">\n",
       "  <thead>\n",
       "    <tr style=\"text-align: right;\">\n",
       "      <th></th>\n",
       "      <th>unit</th>\n",
       "      <th>concept</th>\n",
       "      <th>inds of samples containing concept</th>\n",
       "      <th>num samples containing concept</th>\n",
       "      <th>formula</th>\n",
       "    </tr>\n",
       "  </thead>\n",
       "  <tbody>\n",
       "    <tr>\n",
       "      <th>0</th>\n",
       "      <td>0</td>\n",
       "      <td>pre:tok:in hyp:tok:is oth:overlap:overlap50 pr...</td>\n",
       "      <td>0.095465</td>\n",
       "      <td>NaN</td>\n",
       "      <td>(((0 OR 2001) AND (NOT 4001)) AND 0)</td>\n",
       "    </tr>\n",
       "    <tr>\n",
       "      <th>1</th>\n",
       "      <td>0</td>\n",
       "      <td>pre:tok:in hyp:tok:is oth:overlap:overlap50 pr...</td>\n",
       "      <td>0.063462</td>\n",
       "      <td>NaN</td>\n",
       "      <td>(((0 OR 2001) AND (NOT 4001)) AND (NOT 0))</td>\n",
       "    </tr>\n",
       "    <tr>\n",
       "      <th>2</th>\n",
       "      <td>0</td>\n",
       "      <td>pre:tok:in hyp:tok:is oth:overlap:overlap50 pr...</td>\n",
       "      <td>0.089269</td>\n",
       "      <td>NaN</td>\n",
       "      <td>(((0 OR 2001) AND (NOT 4001)) OR 1)</td>\n",
       "    </tr>\n",
       "    <tr>\n",
       "      <th>3</th>\n",
       "      <td>0</td>\n",
       "      <td>pre:tok:in hyp:tok:is oth:overlap:overlap50 pr...</td>\n",
       "      <td>0.065100</td>\n",
       "      <td>NaN</td>\n",
       "      <td>(((0 OR 2001) AND (NOT 4001)) AND 1)</td>\n",
       "    </tr>\n",
       "    <tr>\n",
       "      <th>4</th>\n",
       "      <td>0</td>\n",
       "      <td>pre:tok:in hyp:tok:is oth:overlap:overlap50 pr...</td>\n",
       "      <td>0.094340</td>\n",
       "      <td>NaN</td>\n",
       "      <td>(((0 OR 2001) AND (NOT 4001)) AND (NOT 1))</td>\n",
       "    </tr>\n",
       "    <tr>\n",
       "      <th>...</th>\n",
       "      <td>...</td>\n",
       "      <td>...</td>\n",
       "      <td>...</td>\n",
       "      <td>...</td>\n",
       "      <td>...</td>\n",
       "    </tr>\n",
       "    <tr>\n",
       "      <th>2769</th>\n",
       "      <td>0</td>\n",
       "      <td>pre:tok:in hyp:tok:is oth:overlap:overlap50 pr...</td>\n",
       "      <td>0.098182</td>\n",
       "      <td>NaN</td>\n",
       "      <td>(((0 OR 2001) AND (NOT 4001)) OR 1103)</td>\n",
       "    </tr>\n",
       "    <tr>\n",
       "      <th>2770</th>\n",
       "      <td>0</td>\n",
       "      <td>pre:tok:in hyp:tok:is oth:overlap:overlap50 pr...</td>\n",
       "      <td>0.001167</td>\n",
       "      <td>NaN</td>\n",
       "      <td>(((0 OR 2001) AND (NOT 4001)) AND 1103)</td>\n",
       "    </tr>\n",
       "    <tr>\n",
       "      <th>2771</th>\n",
       "      <td>0</td>\n",
       "      <td>pre:tok:in hyp:tok:is oth:overlap:overlap50 pr...</td>\n",
       "      <td>0.098197</td>\n",
       "      <td>NaN</td>\n",
       "      <td>(((0 OR 2001) AND (NOT 4001)) AND (NOT 1103))</td>\n",
       "    </tr>\n",
       "    <tr>\n",
       "      <th>2772</th>\n",
       "      <td>0</td>\n",
       "      <td>pre:tok:in hyp:tok:is oth:overlap:overlap50 pr...</td>\n",
       "      <td>0.098144</td>\n",
       "      <td>NaN</td>\n",
       "      <td>(((0 OR 2001) AND (NOT 4001)) OR 1106)</td>\n",
       "    </tr>\n",
       "    <tr>\n",
       "      <th>2773</th>\n",
       "      <td>0</td>\n",
       "      <td>pre:tok:in hyp:tok:is oth:overlap:overlap50 pr...</td>\n",
       "      <td>0.001174</td>\n",
       "      <td>NaN</td>\n",
       "      <td>(((0 OR 2001) AND (NOT 4001)) AND 1106)</td>\n",
       "    </tr>\n",
       "  </tbody>\n",
       "</table>\n",
       "<p>2774 rows × 5 columns</p>\n",
       "</div>"
      ],
      "text/plain": [
       "      unit                                            concept  \\\n",
       "0        0  pre:tok:in hyp:tok:is oth:overlap:overlap50 pr...   \n",
       "1        0  pre:tok:in hyp:tok:is oth:overlap:overlap50 pr...   \n",
       "2        0  pre:tok:in hyp:tok:is oth:overlap:overlap50 pr...   \n",
       "3        0  pre:tok:in hyp:tok:is oth:overlap:overlap50 pr...   \n",
       "4        0  pre:tok:in hyp:tok:is oth:overlap:overlap50 pr...   \n",
       "...    ...                                                ...   \n",
       "2769     0  pre:tok:in hyp:tok:is oth:overlap:overlap50 pr...   \n",
       "2770     0  pre:tok:in hyp:tok:is oth:overlap:overlap50 pr...   \n",
       "2771     0  pre:tok:in hyp:tok:is oth:overlap:overlap50 pr...   \n",
       "2772     0  pre:tok:in hyp:tok:is oth:overlap:overlap50 pr...   \n",
       "2773     0  pre:tok:in hyp:tok:is oth:overlap:overlap50 pr...   \n",
       "\n",
       "      inds of samples containing concept  num samples containing concept  \\\n",
       "0                               0.095465                             NaN   \n",
       "1                               0.063462                             NaN   \n",
       "2                               0.089269                             NaN   \n",
       "3                               0.065100                             NaN   \n",
       "4                               0.094340                             NaN   \n",
       "...                                  ...                             ...   \n",
       "2769                            0.098182                             NaN   \n",
       "2770                            0.001167                             NaN   \n",
       "2771                            0.098197                             NaN   \n",
       "2772                            0.098144                             NaN   \n",
       "2773                            0.001174                             NaN   \n",
       "\n",
       "                                            formula  \n",
       "0              (((0 OR 2001) AND (NOT 4001)) AND 0)  \n",
       "1        (((0 OR 2001) AND (NOT 4001)) AND (NOT 0))  \n",
       "2               (((0 OR 2001) AND (NOT 4001)) OR 1)  \n",
       "3              (((0 OR 2001) AND (NOT 4001)) AND 1)  \n",
       "4        (((0 OR 2001) AND (NOT 4001)) AND (NOT 1))  \n",
       "...                                             ...  \n",
       "2769         (((0 OR 2001) AND (NOT 4001)) OR 1103)  \n",
       "2770        (((0 OR 2001) AND (NOT 4001)) AND 1103)  \n",
       "2771  (((0 OR 2001) AND (NOT 4001)) AND (NOT 1103))  \n",
       "2772         (((0 OR 2001) AND (NOT 4001)) OR 1106)  \n",
       "2773        (((0 OR 2001) AND (NOT 4001)) AND 1106)  \n",
       "\n",
       "[2774 rows x 5 columns]"
      ]
     },
     "execution_count": 22,
     "metadata": {},
     "output_type": "execute_result"
    }
   ],
   "source": [
    "p=\"CCE_NLI/Cluster2IOUs_withoutAnySpecTok.csv\"\n",
    "p=pd.read_csv(p)\n",
    "p"
   ]
  },
  {
   "cell_type": "code",
   "execution_count": 19,
   "id": "67f139ea",
   "metadata": {},
   "outputs": [],
   "source": [
    "def get_avg_max(p):\n",
    "    sum = 0\n",
    "    for iou in p['inds of samples containing concept']:\n",
    "      sum += iou\n",
    "\n",
    "    avg = sum/len(p['inds of samples containing concept'])\n",
    "    m = max(p['inds of samples containing concept'])\n",
    "    return avg, m"
   ]
  },
  {
   "cell_type": "code",
   "execution_count": 26,
   "id": "f3d10efb",
   "metadata": {},
   "outputs": [
    {
     "data": {
      "text/plain": [
       "0.06714021754129847"
      ]
     },
     "execution_count": 26,
     "metadata": {},
     "output_type": "execute_result"
    }
   ],
   "source": [
    "df= pd.read_csv(\"Cluster2IOUs.csv\")\n",
    "avg, m  = get_avg_max(df)\n",
    "avg"
   ]
  },
  {
   "cell_type": "code",
   "execution_count": 25,
   "id": "f236e98d",
   "metadata": {},
   "outputs": [
    {
     "data": {
      "text/plain": [
       "0.0717349084723516"
      ]
     },
     "execution_count": 25,
     "metadata": {},
     "output_type": "execute_result"
    }
   ],
   "source": [
    "df= pd.read_csv(\"Cluster2IOUs_withoutAnySpecTok.csv\")\n",
    "avg, m  = get_avg_max(df)\n",
    "avg"
   ]
  },
  {
   "cell_type": "code",
   "execution_count": 17,
   "id": "2b62f5ee",
   "metadata": {},
   "outputs": [
    {
     "data": {
      "text/plain": [
       "array([  15,  515,  615,  715, 1023])"
      ]
     },
     "execution_count": 17,
     "metadata": {},
     "output_type": "execute_result"
    }
   ],
   "source": [
    "files = [\"Cluster2IOUs_withoutAnySpecTok.csv\", \"Cluster3IOUs.csv\",\"Cluster4IOUs.csv\", \"Cluster5IOUs.csv\"]\n",
    "df= pd.read_csv(file[1])\n",
    "df.unit.unique()"
   ]
  },
  {
   "cell_type": "code",
   "execution_count": 12,
   "id": "f97273ae",
   "metadata": {},
   "outputs": [
    {
     "data": {
      "text/plain": [
       "array([  15,  615,  715, 1023])"
      ]
     },
     "execution_count": 12,
     "metadata": {},
     "output_type": "execute_result"
    }
   ],
   "source": [
    "df= pd.read_csv(file[2])\n",
    "df.unit.unique()"
   ]
  },
  {
   "cell_type": "code",
   "execution_count": 13,
   "id": "fe06e5cb",
   "metadata": {},
   "outputs": [
    {
     "data": {
      "text/plain": [
       "array([  15,  615, 1023])"
      ]
     },
     "execution_count": 13,
     "metadata": {},
     "output_type": "execute_result"
    }
   ],
   "source": [
    "df= pd.read_csv(file[3])\n",
    "df.unit.unique()"
   ]
  },
  {
   "cell_type": "code",
   "execution_count": 21,
   "id": "7593e758",
   "metadata": {},
   "outputs": [],
   "source": [
    "import csv\n",
    "with open(\"IOUAnalysis.csv\", \"w\") as fp:\n",
    "    wr = csv.writer(fp, dialect='excel')\n",
    "    wr.writerow([\"units\", \"avg_iou\", \"max_iou\"])\n",
    "    for file in files:\n",
    "        df = pd.read_csv(file)\n",
    "        units = df.unit.unique()\n",
    "        avg, m  = get_avg_max(df)\n",
    "        wr.writerow([str(units), avg, m])\n",
    "    "
   ]
  },
  {
   "cell_type": "code",
   "execution_count": null,
   "id": "a6bea243",
   "metadata": {},
   "outputs": [],
   "source": []
  }
 ],
 "metadata": {
  "kernelspec": {
   "display_name": "Python 3 (ipykernel)",
   "language": "python",
   "name": "python3"
  },
  "language_info": {
   "codemirror_mode": {
    "name": "ipython",
    "version": 3
   },
   "file_extension": ".py",
   "mimetype": "text/x-python",
   "name": "python",
   "nbconvert_exporter": "python",
   "pygments_lexer": "ipython3",
   "version": "3.8.10"
  }
 },
 "nbformat": 4,
 "nbformat_minor": 5
}
